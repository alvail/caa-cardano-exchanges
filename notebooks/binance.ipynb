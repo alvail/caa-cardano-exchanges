{
 "cells": [
  {
   "cell_type": "code",
   "execution_count": 154,
   "metadata": {},
   "outputs": [],
   "source": [
    "from pathlib import Path\n",
    "import pandas as pd\n",
    "\n",
    "\n",
    "data_dir = Path().cwd() / '../data/preprocessed/binance'\n",
    "\n",
    "pools = pd.read_csv(data_dir / 'pools.csv')\n",
    "accounts = pd.read_csv(data_dir / 'accounts.csv')\n",
    "txs = pd.read_csv(data_dir / 'txs.csv')\n",
    "utxos = pd.read_csv(data_dir / 'utxos.csv')\n",
    "utxos['amount'] = utxos['amount'] / 1e6"
   ]
  },
  {
   "cell_type": "code",
   "execution_count": 155,
   "metadata": {},
   "outputs": [
    {
     "name": "stdout",
     "output_type": "stream",
     "text": [
      "Index(['pool_id', 'stake_key', 'type'], dtype='object')\n",
      "Index(['stake_key', 'address'], dtype='object')\n",
      "Index(['address', 'tx_id'], dtype='object')\n",
      "Index(['tx_id', 'address', 'utxo_type', 'amount'], dtype='object')\n"
     ]
    }
   ],
   "source": [
    "print(pools.columns)\n",
    "print(accounts.columns)\n",
    "print(txs.columns)\n",
    "print(utxos.columns)"
   ]
  },
  {
   "cell_type": "code",
   "execution_count": 156,
   "metadata": {},
   "outputs": [
    {
     "data": {
      "text/html": [
       "<div>\n",
       "<style scoped>\n",
       "    .dataframe tbody tr th:only-of-type {\n",
       "        vertical-align: middle;\n",
       "    }\n",
       "\n",
       "    .dataframe tbody tr th {\n",
       "        vertical-align: top;\n",
       "    }\n",
       "\n",
       "    .dataframe thead th {\n",
       "        text-align: right;\n",
       "    }\n",
       "</style>\n",
       "<table border=\"1\" class=\"dataframe\">\n",
       "  <thead>\n",
       "    <tr style=\"text-align: right;\">\n",
       "      <th></th>\n",
       "      <th>pool_id</th>\n",
       "      <th>stake_key</th>\n",
       "      <th>type</th>\n",
       "    </tr>\n",
       "  </thead>\n",
       "  <tbody>\n",
       "    <tr>\n",
       "      <th>0</th>\n",
       "      <td>0ac5fabd6b2f75f5583a4de5b141115ab7d036ee66b130...</td>\n",
       "      <td>stake1uyhrwf39j4m5pyldk5s4ykcqdevd5v8ygshxtjpq...</td>\n",
       "      <td>owner</td>\n",
       "    </tr>\n",
       "    <tr>\n",
       "      <th>1</th>\n",
       "      <td>0ac5fabd6b2f75f5583a4de5b141115ab7d036ee66b130...</td>\n",
       "      <td>stake1u8gajpqath8r9zf3nzyzjfz9x260ky33n50x0wv4...</td>\n",
       "      <td>delegator</td>\n",
       "    </tr>\n",
       "    <tr>\n",
       "      <th>2</th>\n",
       "      <td>0ac5fabd6b2f75f5583a4de5b141115ab7d036ee66b130...</td>\n",
       "      <td>stake1uyhrwf39j4m5pyldk5s4ykcqdevd5v8ygshxtjpq...</td>\n",
       "      <td>delegator</td>\n",
       "    </tr>\n",
       "    <tr>\n",
       "      <th>3</th>\n",
       "      <td>11c660b87cb43e4720b053895b3137b4c08f367dbd0301...</td>\n",
       "      <td>stake1u9khq0a2uk67cahzgul4cqqywg2xlyq7erfz7nwp...</td>\n",
       "      <td>owner</td>\n",
       "    </tr>\n",
       "    <tr>\n",
       "      <th>4</th>\n",
       "      <td>11c660b87cb43e4720b053895b3137b4c08f367dbd0301...</td>\n",
       "      <td>stake1u9khq0a2uk67cahzgul4cqqywg2xlyq7erfz7nwp...</td>\n",
       "      <td>delegator</td>\n",
       "    </tr>\n",
       "    <tr>\n",
       "      <th>...</th>\n",
       "      <td>...</td>\n",
       "      <td>...</td>\n",
       "      <td>...</td>\n",
       "    </tr>\n",
       "    <tr>\n",
       "      <th>451</th>\n",
       "      <td>ffb3fe58689ae0d70d6fb939a842ee78ecfa10eab56127...</td>\n",
       "      <td>stake1uy9dl6pfq3lwdkxu5m898g5wqlvqmkfhld40pkjp...</td>\n",
       "      <td>delegator</td>\n",
       "    </tr>\n",
       "    <tr>\n",
       "      <th>452</th>\n",
       "      <td>ffb3fe58689ae0d70d6fb939a842ee78ecfa10eab56127...</td>\n",
       "      <td>stake1u90nsf4cwzhg2g4u4uls0tv60ru068gmqrnfnyss...</td>\n",
       "      <td>delegator</td>\n",
       "    </tr>\n",
       "    <tr>\n",
       "      <th>453</th>\n",
       "      <td>ffb3fe58689ae0d70d6fb939a842ee78ecfa10eab56127...</td>\n",
       "      <td>stake1uxn4g64c5c7esrcwu4r9ykl59s2zgg56wg0sx5rz...</td>\n",
       "      <td>delegator</td>\n",
       "    </tr>\n",
       "    <tr>\n",
       "      <th>454</th>\n",
       "      <td>ffb3fe58689ae0d70d6fb939a842ee78ecfa10eab56127...</td>\n",
       "      <td>stake1uypc8x856pr7sx3vrs30s9qmhyhr0yk2m9v7kxky...</td>\n",
       "      <td>delegator</td>\n",
       "    </tr>\n",
       "    <tr>\n",
       "      <th>455</th>\n",
       "      <td>ffb3fe58689ae0d70d6fb939a842ee78ecfa10eab56127...</td>\n",
       "      <td>stake1u9akww3p05hwcrmlnrn3x8237qvgvld2dvup6exw...</td>\n",
       "      <td>delegator</td>\n",
       "    </tr>\n",
       "  </tbody>\n",
       "</table>\n",
       "<p>456 rows × 3 columns</p>\n",
       "</div>"
      ],
      "text/plain": [
       "                                               pool_id   \n",
       "0    0ac5fabd6b2f75f5583a4de5b141115ab7d036ee66b130...  \\\n",
       "1    0ac5fabd6b2f75f5583a4de5b141115ab7d036ee66b130...   \n",
       "2    0ac5fabd6b2f75f5583a4de5b141115ab7d036ee66b130...   \n",
       "3    11c660b87cb43e4720b053895b3137b4c08f367dbd0301...   \n",
       "4    11c660b87cb43e4720b053895b3137b4c08f367dbd0301...   \n",
       "..                                                 ...   \n",
       "451  ffb3fe58689ae0d70d6fb939a842ee78ecfa10eab56127...   \n",
       "452  ffb3fe58689ae0d70d6fb939a842ee78ecfa10eab56127...   \n",
       "453  ffb3fe58689ae0d70d6fb939a842ee78ecfa10eab56127...   \n",
       "454  ffb3fe58689ae0d70d6fb939a842ee78ecfa10eab56127...   \n",
       "455  ffb3fe58689ae0d70d6fb939a842ee78ecfa10eab56127...   \n",
       "\n",
       "                                             stake_key       type  \n",
       "0    stake1uyhrwf39j4m5pyldk5s4ykcqdevd5v8ygshxtjpq...      owner  \n",
       "1    stake1u8gajpqath8r9zf3nzyzjfz9x260ky33n50x0wv4...  delegator  \n",
       "2    stake1uyhrwf39j4m5pyldk5s4ykcqdevd5v8ygshxtjpq...  delegator  \n",
       "3    stake1u9khq0a2uk67cahzgul4cqqywg2xlyq7erfz7nwp...      owner  \n",
       "4    stake1u9khq0a2uk67cahzgul4cqqywg2xlyq7erfz7nwp...  delegator  \n",
       "..                                                 ...        ...  \n",
       "451  stake1uy9dl6pfq3lwdkxu5m898g5wqlvqmkfhld40pkjp...  delegator  \n",
       "452  stake1u90nsf4cwzhg2g4u4uls0tv60ru068gmqrnfnyss...  delegator  \n",
       "453  stake1uxn4g64c5c7esrcwu4r9ykl59s2zgg56wg0sx5rz...  delegator  \n",
       "454  stake1uypc8x856pr7sx3vrs30s9qmhyhr0yk2m9v7kxky...  delegator  \n",
       "455  stake1u9akww3p05hwcrmlnrn3x8237qvgvld2dvup6exw...  delegator  \n",
       "\n",
       "[456 rows x 3 columns]"
      ]
     },
     "execution_count": 156,
     "metadata": {},
     "output_type": "execute_result"
    }
   ],
   "source": [
    "pools"
   ]
  },
  {
   "cell_type": "code",
   "execution_count": 157,
   "metadata": {},
   "outputs": [
    {
     "data": {
      "text/html": [
       "<div>\n",
       "<style scoped>\n",
       "    .dataframe tbody tr th:only-of-type {\n",
       "        vertical-align: middle;\n",
       "    }\n",
       "\n",
       "    .dataframe tbody tr th {\n",
       "        vertical-align: top;\n",
       "    }\n",
       "\n",
       "    .dataframe thead th {\n",
       "        text-align: right;\n",
       "    }\n",
       "</style>\n",
       "<table border=\"1\" class=\"dataframe\">\n",
       "  <thead>\n",
       "    <tr style=\"text-align: right;\">\n",
       "      <th></th>\n",
       "      <th>stake_key</th>\n",
       "      <th>address</th>\n",
       "    </tr>\n",
       "  </thead>\n",
       "  <tbody>\n",
       "    <tr>\n",
       "      <th>0</th>\n",
       "      <td>stake1u804f9ke0hy35a0kx3vqmr3vcwfq7g9gzdpfxlky...</td>\n",
       "      <td>addr1q8d5dndz6sx0c4g7kzvwx5v0tlp09zuj5ewm3fuzp...</td>\n",
       "    </tr>\n",
       "    <tr>\n",
       "      <th>1</th>\n",
       "      <td>stake1u804f9ke0hy35a0kx3vqmr3vcwfq7g9gzdpfxlky...</td>\n",
       "      <td>addr1q89k29h2h4fmdesec9xwctstnrdrf96x7hna9e48t...</td>\n",
       "    </tr>\n",
       "    <tr>\n",
       "      <th>2</th>\n",
       "      <td>stake1u804f9ke0hy35a0kx3vqmr3vcwfq7g9gzdpfxlky...</td>\n",
       "      <td>addr1qyp3fxdpn5xvq389p9m0r7kxqfhl6myqkgx4076w8...</td>\n",
       "    </tr>\n",
       "    <tr>\n",
       "      <th>3</th>\n",
       "      <td>stake1u804f9ke0hy35a0kx3vqmr3vcwfq7g9gzdpfxlky...</td>\n",
       "      <td>addr1qxvw2fmau8xuekehj7cnvzgvwac2wgzxey9g7vwf4...</td>\n",
       "    </tr>\n",
       "    <tr>\n",
       "      <th>4</th>\n",
       "      <td>stake1u804f9ke0hy35a0kx3vqmr3vcwfq7g9gzdpfxlky...</td>\n",
       "      <td>addr1qyaxudvh4xrxc7nnueq2hqxvhdle3rzqncjdahprl...</td>\n",
       "    </tr>\n",
       "    <tr>\n",
       "      <th>...</th>\n",
       "      <td>...</td>\n",
       "      <td>...</td>\n",
       "    </tr>\n",
       "    <tr>\n",
       "      <th>2230</th>\n",
       "      <td>stake1uyzsyntvlgx8l7ecaa5hfwxfjt5mc26vd4r2juvw...</td>\n",
       "      <td>addr1qx54h5ytguprqyhq9pc67f4dq47q2rz89hnsw626w...</td>\n",
       "    </tr>\n",
       "    <tr>\n",
       "      <th>2231</th>\n",
       "      <td>stake1uyzsyntvlgx8l7ecaa5hfwxfjt5mc26vd4r2juvw...</td>\n",
       "      <td>addr1qyjpwlndrk2hr737qhf4669af68lpe0ytk52j7fnj...</td>\n",
       "    </tr>\n",
       "    <tr>\n",
       "      <th>2232</th>\n",
       "      <td>stake1uyzsyntvlgx8l7ecaa5hfwxfjt5mc26vd4r2juvw...</td>\n",
       "      <td>addr1qx4tsy62puu4mrjcp4ay4ryg246zaf3wdueql5uuu...</td>\n",
       "    </tr>\n",
       "    <tr>\n",
       "      <th>2233</th>\n",
       "      <td>stake1uyzsyntvlgx8l7ecaa5hfwxfjt5mc26vd4r2juvw...</td>\n",
       "      <td>addr1q8kzxdpsx057tnjtwwdxnyvcnqvhqy4lrtv0nuwgp...</td>\n",
       "    </tr>\n",
       "    <tr>\n",
       "      <th>2234</th>\n",
       "      <td>stake1uyzsyntvlgx8l7ecaa5hfwxfjt5mc26vd4r2juvw...</td>\n",
       "      <td>addr1q8rvtz6rn20v7pp45tqhjqeamvqhpfwjjnvcfl64z...</td>\n",
       "    </tr>\n",
       "  </tbody>\n",
       "</table>\n",
       "<p>2235 rows × 2 columns</p>\n",
       "</div>"
      ],
      "text/plain": [
       "                                              stake_key   \n",
       "0     stake1u804f9ke0hy35a0kx3vqmr3vcwfq7g9gzdpfxlky...  \\\n",
       "1     stake1u804f9ke0hy35a0kx3vqmr3vcwfq7g9gzdpfxlky...   \n",
       "2     stake1u804f9ke0hy35a0kx3vqmr3vcwfq7g9gzdpfxlky...   \n",
       "3     stake1u804f9ke0hy35a0kx3vqmr3vcwfq7g9gzdpfxlky...   \n",
       "4     stake1u804f9ke0hy35a0kx3vqmr3vcwfq7g9gzdpfxlky...   \n",
       "...                                                 ...   \n",
       "2230  stake1uyzsyntvlgx8l7ecaa5hfwxfjt5mc26vd4r2juvw...   \n",
       "2231  stake1uyzsyntvlgx8l7ecaa5hfwxfjt5mc26vd4r2juvw...   \n",
       "2232  stake1uyzsyntvlgx8l7ecaa5hfwxfjt5mc26vd4r2juvw...   \n",
       "2233  stake1uyzsyntvlgx8l7ecaa5hfwxfjt5mc26vd4r2juvw...   \n",
       "2234  stake1uyzsyntvlgx8l7ecaa5hfwxfjt5mc26vd4r2juvw...   \n",
       "\n",
       "                                                address  \n",
       "0     addr1q8d5dndz6sx0c4g7kzvwx5v0tlp09zuj5ewm3fuzp...  \n",
       "1     addr1q89k29h2h4fmdesec9xwctstnrdrf96x7hna9e48t...  \n",
       "2     addr1qyp3fxdpn5xvq389p9m0r7kxqfhl6myqkgx4076w8...  \n",
       "3     addr1qxvw2fmau8xuekehj7cnvzgvwac2wgzxey9g7vwf4...  \n",
       "4     addr1qyaxudvh4xrxc7nnueq2hqxvhdle3rzqncjdahprl...  \n",
       "...                                                 ...  \n",
       "2230  addr1qx54h5ytguprqyhq9pc67f4dq47q2rz89hnsw626w...  \n",
       "2231  addr1qyjpwlndrk2hr737qhf4669af68lpe0ytk52j7fnj...  \n",
       "2232  addr1qx4tsy62puu4mrjcp4ay4ryg246zaf3wdueql5uuu...  \n",
       "2233  addr1q8kzxdpsx057tnjtwwdxnyvcnqvhqy4lrtv0nuwgp...  \n",
       "2234  addr1q8rvtz6rn20v7pp45tqhjqeamvqhpfwjjnvcfl64z...  \n",
       "\n",
       "[2235 rows x 2 columns]"
      ]
     },
     "execution_count": 157,
     "metadata": {},
     "output_type": "execute_result"
    }
   ],
   "source": [
    "accounts"
   ]
  },
  {
   "cell_type": "code",
   "execution_count": 158,
   "metadata": {},
   "outputs": [
    {
     "data": {
      "text/html": [
       "<div>\n",
       "<style scoped>\n",
       "    .dataframe tbody tr th:only-of-type {\n",
       "        vertical-align: middle;\n",
       "    }\n",
       "\n",
       "    .dataframe tbody tr th {\n",
       "        vertical-align: top;\n",
       "    }\n",
       "\n",
       "    .dataframe thead th {\n",
       "        text-align: right;\n",
       "    }\n",
       "</style>\n",
       "<table border=\"1\" class=\"dataframe\">\n",
       "  <thead>\n",
       "    <tr style=\"text-align: right;\">\n",
       "      <th></th>\n",
       "      <th>address</th>\n",
       "      <th>tx_id</th>\n",
       "    </tr>\n",
       "  </thead>\n",
       "  <tbody>\n",
       "    <tr>\n",
       "      <th>0</th>\n",
       "      <td>addr1q8038usxz7d8pa6xc0yrpxvg8s99zfpafs3ezrw9s...</td>\n",
       "      <td>3cdd1b24d9fe89348f081c18b350e004812e85a0577973...</td>\n",
       "    </tr>\n",
       "    <tr>\n",
       "      <th>1</th>\n",
       "      <td>addr1q8038usxz7d8pa6xc0yrpxvg8s99zfpafs3ezrw9s...</td>\n",
       "      <td>d264557dd52a4aae5f3d824bc7c185af14359296d73d9c...</td>\n",
       "    </tr>\n",
       "    <tr>\n",
       "      <th>2</th>\n",
       "      <td>addr1q8038usxz7d8pa6xc0yrpxvg8s99zfpafs3ezrw9s...</td>\n",
       "      <td>d8b5666e6dd7f6c6d09d550ddde89103560bd740957940...</td>\n",
       "    </tr>\n",
       "    <tr>\n",
       "      <th>3</th>\n",
       "      <td>addr1q8038usxz7d8pa6xc0yrpxvg8s99zfpafs3ezrw9s...</td>\n",
       "      <td>94998195e851158e6b3b052db4adc9241d0b9b606211d2...</td>\n",
       "    </tr>\n",
       "    <tr>\n",
       "      <th>4</th>\n",
       "      <td>addr1q8038usxz7d8pa6xc0yrpxvg8s99zfpafs3ezrw9s...</td>\n",
       "      <td>23a179a4f0a5f799eae8eaf71182194c3e04c37e8ff744...</td>\n",
       "    </tr>\n",
       "    <tr>\n",
       "      <th>...</th>\n",
       "      <td>...</td>\n",
       "      <td>...</td>\n",
       "    </tr>\n",
       "    <tr>\n",
       "      <th>13371</th>\n",
       "      <td>addr1qyzxp6vnghm2ajr98p3c7mmjsha2w0lcvfp4d7j6y...</td>\n",
       "      <td>e501e1616a504ff133be623cc394c0261601b56f870b1c...</td>\n",
       "    </tr>\n",
       "    <tr>\n",
       "      <th>13372</th>\n",
       "      <td>addr1qyzxp6vnghm2ajr98p3c7mmjsha2w0lcvfp4d7j6y...</td>\n",
       "      <td>f3885eea058804e1856c10f87f097cafe6b8899597379d...</td>\n",
       "    </tr>\n",
       "    <tr>\n",
       "      <th>13373</th>\n",
       "      <td>addr1qyzzjm7dnfvua4cr8qrm6qpzsakqlgnuddtrz88sd...</td>\n",
       "      <td>0b03b8d46e8e94e14af46e708898150f576c2db4815ec6...</td>\n",
       "    </tr>\n",
       "    <tr>\n",
       "      <th>13374</th>\n",
       "      <td>addr1z9nz8vhzdxq9dmchmy25rxcv5lcymd6jfruz2le0n...</td>\n",
       "      <td>a66e2637e12ec89cfa85f448a02fe59c762bf5471b0ec9...</td>\n",
       "    </tr>\n",
       "    <tr>\n",
       "      <th>13375</th>\n",
       "      <td>addr1z9nz8vhzdxq9dmchmy25rxcv5lcymd6jfruz2le0n...</td>\n",
       "      <td>0cf3990b8a65c7270f763afb24b31987c8c13278071f79...</td>\n",
       "    </tr>\n",
       "  </tbody>\n",
       "</table>\n",
       "<p>13376 rows × 2 columns</p>\n",
       "</div>"
      ],
      "text/plain": [
       "                                                 address   \n",
       "0      addr1q8038usxz7d8pa6xc0yrpxvg8s99zfpafs3ezrw9s...  \\\n",
       "1      addr1q8038usxz7d8pa6xc0yrpxvg8s99zfpafs3ezrw9s...   \n",
       "2      addr1q8038usxz7d8pa6xc0yrpxvg8s99zfpafs3ezrw9s...   \n",
       "3      addr1q8038usxz7d8pa6xc0yrpxvg8s99zfpafs3ezrw9s...   \n",
       "4      addr1q8038usxz7d8pa6xc0yrpxvg8s99zfpafs3ezrw9s...   \n",
       "...                                                  ...   \n",
       "13371  addr1qyzxp6vnghm2ajr98p3c7mmjsha2w0lcvfp4d7j6y...   \n",
       "13372  addr1qyzxp6vnghm2ajr98p3c7mmjsha2w0lcvfp4d7j6y...   \n",
       "13373  addr1qyzzjm7dnfvua4cr8qrm6qpzsakqlgnuddtrz88sd...   \n",
       "13374  addr1z9nz8vhzdxq9dmchmy25rxcv5lcymd6jfruz2le0n...   \n",
       "13375  addr1z9nz8vhzdxq9dmchmy25rxcv5lcymd6jfruz2le0n...   \n",
       "\n",
       "                                                   tx_id  \n",
       "0      3cdd1b24d9fe89348f081c18b350e004812e85a0577973...  \n",
       "1      d264557dd52a4aae5f3d824bc7c185af14359296d73d9c...  \n",
       "2      d8b5666e6dd7f6c6d09d550ddde89103560bd740957940...  \n",
       "3      94998195e851158e6b3b052db4adc9241d0b9b606211d2...  \n",
       "4      23a179a4f0a5f799eae8eaf71182194c3e04c37e8ff744...  \n",
       "...                                                  ...  \n",
       "13371  e501e1616a504ff133be623cc394c0261601b56f870b1c...  \n",
       "13372  f3885eea058804e1856c10f87f097cafe6b8899597379d...  \n",
       "13373  0b03b8d46e8e94e14af46e708898150f576c2db4815ec6...  \n",
       "13374  a66e2637e12ec89cfa85f448a02fe59c762bf5471b0ec9...  \n",
       "13375  0cf3990b8a65c7270f763afb24b31987c8c13278071f79...  \n",
       "\n",
       "[13376 rows x 2 columns]"
      ]
     },
     "execution_count": 158,
     "metadata": {},
     "output_type": "execute_result"
    }
   ],
   "source": [
    "txs"
   ]
  },
  {
   "cell_type": "code",
   "execution_count": 159,
   "metadata": {},
   "outputs": [
    {
     "data": {
      "text/html": [
       "<div>\n",
       "<style scoped>\n",
       "    .dataframe tbody tr th:only-of-type {\n",
       "        vertical-align: middle;\n",
       "    }\n",
       "\n",
       "    .dataframe tbody tr th {\n",
       "        vertical-align: top;\n",
       "    }\n",
       "\n",
       "    .dataframe thead th {\n",
       "        text-align: right;\n",
       "    }\n",
       "</style>\n",
       "<table border=\"1\" class=\"dataframe\">\n",
       "  <thead>\n",
       "    <tr style=\"text-align: right;\">\n",
       "      <th></th>\n",
       "      <th>tx_id</th>\n",
       "      <th>address</th>\n",
       "      <th>utxo_type</th>\n",
       "      <th>amount</th>\n",
       "    </tr>\n",
       "  </thead>\n",
       "  <tbody>\n",
       "    <tr>\n",
       "      <th>0</th>\n",
       "      <td>000674fcf0c4c7442de4cdfc0f85f43ebd3726f49483dd...</td>\n",
       "      <td>addr1q9atjfpqwdtg7ytz0pz9zcaqvx8zr2uv6ysvc4csq...</td>\n",
       "      <td>input</td>\n",
       "      <td>50000.000000</td>\n",
       "    </tr>\n",
       "    <tr>\n",
       "      <th>1</th>\n",
       "      <td>000674fcf0c4c7442de4cdfc0f85f43ebd3726f49483dd...</td>\n",
       "      <td>addr1q9fsfa04de9xgza5xwqqy2c7unz907una9qwmpgyv...</td>\n",
       "      <td>input</td>\n",
       "      <td>159.631517</td>\n",
       "    </tr>\n",
       "    <tr>\n",
       "      <th>2</th>\n",
       "      <td>000674fcf0c4c7442de4cdfc0f85f43ebd3726f49483dd...</td>\n",
       "      <td>addr1q836qf2vqzv57uc42rupyw039fsvnlfuaxumry25x...</td>\n",
       "      <td>output</td>\n",
       "      <td>27796.889200</td>\n",
       "    </tr>\n",
       "    <tr>\n",
       "      <th>3</th>\n",
       "      <td>000674fcf0c4c7442de4cdfc0f85f43ebd3726f49483dd...</td>\n",
       "      <td>DdzFFzCqrhsgWNp9jnpRieShdN1LRy4mNzM9y23CKSKTw6...</td>\n",
       "      <td>output</td>\n",
       "      <td>1.314550</td>\n",
       "    </tr>\n",
       "    <tr>\n",
       "      <th>4</th>\n",
       "      <td>000674fcf0c4c7442de4cdfc0f85f43ebd3726f49483dd...</td>\n",
       "      <td>addr1q8nt4cndqrrqk248sd96kg9urgjh55sp58snu97vp...</td>\n",
       "      <td>output</td>\n",
       "      <td>151.716900</td>\n",
       "    </tr>\n",
       "    <tr>\n",
       "      <th>...</th>\n",
       "      <td>...</td>\n",
       "      <td>...</td>\n",
       "      <td>...</td>\n",
       "      <td>...</td>\n",
       "    </tr>\n",
       "    <tr>\n",
       "      <th>49264</th>\n",
       "      <td>fff7e50a4a7a57b6ffdf6f0e8e49e383b19fbe3fff3124...</td>\n",
       "      <td>addr1w8tqqyccvj7402zns2tea78d42etw520fzvf22zmy...</td>\n",
       "      <td>output</td>\n",
       "      <td>1.034400</td>\n",
       "    </tr>\n",
       "    <tr>\n",
       "      <th>49265</th>\n",
       "      <td>fff7e50a4a7a57b6ffdf6f0e8e49e383b19fbe3fff3124...</td>\n",
       "      <td>addr1w8ka486anvvxl8dg56te7c5pswta50am7a6vuu0c2...</td>\n",
       "      <td>output</td>\n",
       "      <td>1.051640</td>\n",
       "    </tr>\n",
       "    <tr>\n",
       "      <th>49266</th>\n",
       "      <td>fff7e50a4a7a57b6ffdf6f0e8e49e383b19fbe3fff3124...</td>\n",
       "      <td>addr1w835n68qeax023uperwgwlruk3d8yjl4k98r433nh...</td>\n",
       "      <td>output</td>\n",
       "      <td>1.055950</td>\n",
       "    </tr>\n",
       "    <tr>\n",
       "      <th>49267</th>\n",
       "      <td>fff7e50a4a7a57b6ffdf6f0e8e49e383b19fbe3fff3124...</td>\n",
       "      <td>addr1w9zpzvuevtrchc7fugx63scn8fukdx4vr3lv7m5mh...</td>\n",
       "      <td>output</td>\n",
       "      <td>1.051640</td>\n",
       "    </tr>\n",
       "    <tr>\n",
       "      <th>49268</th>\n",
       "      <td>fff7e50a4a7a57b6ffdf6f0e8e49e383b19fbe3fff3124...</td>\n",
       "      <td>addr1w9v5h80g9nk4qn3vxxxrzpwp2vnr4fv9jgd7jwcnk...</td>\n",
       "      <td>output</td>\n",
       "      <td>1.034400</td>\n",
       "    </tr>\n",
       "  </tbody>\n",
       "</table>\n",
       "<p>49269 rows × 4 columns</p>\n",
       "</div>"
      ],
      "text/plain": [
       "                                                   tx_id   \n",
       "0      000674fcf0c4c7442de4cdfc0f85f43ebd3726f49483dd...  \\\n",
       "1      000674fcf0c4c7442de4cdfc0f85f43ebd3726f49483dd...   \n",
       "2      000674fcf0c4c7442de4cdfc0f85f43ebd3726f49483dd...   \n",
       "3      000674fcf0c4c7442de4cdfc0f85f43ebd3726f49483dd...   \n",
       "4      000674fcf0c4c7442de4cdfc0f85f43ebd3726f49483dd...   \n",
       "...                                                  ...   \n",
       "49264  fff7e50a4a7a57b6ffdf6f0e8e49e383b19fbe3fff3124...   \n",
       "49265  fff7e50a4a7a57b6ffdf6f0e8e49e383b19fbe3fff3124...   \n",
       "49266  fff7e50a4a7a57b6ffdf6f0e8e49e383b19fbe3fff3124...   \n",
       "49267  fff7e50a4a7a57b6ffdf6f0e8e49e383b19fbe3fff3124...   \n",
       "49268  fff7e50a4a7a57b6ffdf6f0e8e49e383b19fbe3fff3124...   \n",
       "\n",
       "                                                 address utxo_type   \n",
       "0      addr1q9atjfpqwdtg7ytz0pz9zcaqvx8zr2uv6ysvc4csq...     input  \\\n",
       "1      addr1q9fsfa04de9xgza5xwqqy2c7unz907una9qwmpgyv...     input   \n",
       "2      addr1q836qf2vqzv57uc42rupyw039fsvnlfuaxumry25x...    output   \n",
       "3      DdzFFzCqrhsgWNp9jnpRieShdN1LRy4mNzM9y23CKSKTw6...    output   \n",
       "4      addr1q8nt4cndqrrqk248sd96kg9urgjh55sp58snu97vp...    output   \n",
       "...                                                  ...       ...   \n",
       "49264  addr1w8tqqyccvj7402zns2tea78d42etw520fzvf22zmy...    output   \n",
       "49265  addr1w8ka486anvvxl8dg56te7c5pswta50am7a6vuu0c2...    output   \n",
       "49266  addr1w835n68qeax023uperwgwlruk3d8yjl4k98r433nh...    output   \n",
       "49267  addr1w9zpzvuevtrchc7fugx63scn8fukdx4vr3lv7m5mh...    output   \n",
       "49268  addr1w9v5h80g9nk4qn3vxxxrzpwp2vnr4fv9jgd7jwcnk...    output   \n",
       "\n",
       "             amount  \n",
       "0      50000.000000  \n",
       "1        159.631517  \n",
       "2      27796.889200  \n",
       "3          1.314550  \n",
       "4        151.716900  \n",
       "...             ...  \n",
       "49264      1.034400  \n",
       "49265      1.051640  \n",
       "49266      1.055950  \n",
       "49267      1.051640  \n",
       "49268      1.034400  \n",
       "\n",
       "[49269 rows x 4 columns]"
      ]
     },
     "execution_count": 159,
     "metadata": {},
     "output_type": "execute_result"
    }
   ],
   "source": [
    "utxos"
   ]
  },
  {
   "attachments": {},
   "cell_type": "markdown",
   "metadata": {},
   "source": [
    "## Construct and Clean Graph"
   ]
  },
  {
   "cell_type": "code",
   "execution_count": 160,
   "metadata": {},
   "outputs": [
    {
     "data": {
      "text/html": [
       "<div>\n",
       "<style scoped>\n",
       "    .dataframe tbody tr th:only-of-type {\n",
       "        vertical-align: middle;\n",
       "    }\n",
       "\n",
       "    .dataframe tbody tr th {\n",
       "        vertical-align: top;\n",
       "    }\n",
       "\n",
       "    .dataframe thead th {\n",
       "        text-align: right;\n",
       "    }\n",
       "</style>\n",
       "<table border=\"1\" class=\"dataframe\">\n",
       "  <thead>\n",
       "    <tr style=\"text-align: right;\">\n",
       "      <th></th>\n",
       "      <th>tx_id</th>\n",
       "      <th>address</th>\n",
       "      <th>utxo_type</th>\n",
       "      <th>amount</th>\n",
       "      <th>stake_key</th>\n",
       "      <th>pool_id</th>\n",
       "      <th>type</th>\n",
       "    </tr>\n",
       "  </thead>\n",
       "  <tbody>\n",
       "    <tr>\n",
       "      <th>0</th>\n",
       "      <td>000674fcf0c4c7442de4cdfc0f85f43ebd3726f49483dd...</td>\n",
       "      <td>addr1q9atjfpqwdtg7ytz0pz9zcaqvx8zr2uv6ysvc4csq...</td>\n",
       "      <td>input</td>\n",
       "      <td>50000.000000</td>\n",
       "      <td>NaN</td>\n",
       "      <td>outside</td>\n",
       "      <td>outside</td>\n",
       "    </tr>\n",
       "    <tr>\n",
       "      <th>1</th>\n",
       "      <td>000674fcf0c4c7442de4cdfc0f85f43ebd3726f49483dd...</td>\n",
       "      <td>addr1q9fsfa04de9xgza5xwqqy2c7unz907una9qwmpgyv...</td>\n",
       "      <td>input</td>\n",
       "      <td>159.631517</td>\n",
       "      <td>NaN</td>\n",
       "      <td>outside</td>\n",
       "      <td>outside</td>\n",
       "    </tr>\n",
       "    <tr>\n",
       "      <th>2</th>\n",
       "      <td>000674fcf0c4c7442de4cdfc0f85f43ebd3726f49483dd...</td>\n",
       "      <td>addr1q836qf2vqzv57uc42rupyw039fsvnlfuaxumry25x...</td>\n",
       "      <td>output</td>\n",
       "      <td>27796.889200</td>\n",
       "      <td>NaN</td>\n",
       "      <td>outside</td>\n",
       "      <td>outside</td>\n",
       "    </tr>\n",
       "    <tr>\n",
       "      <th>3</th>\n",
       "      <td>000674fcf0c4c7442de4cdfc0f85f43ebd3726f49483dd...</td>\n",
       "      <td>DdzFFzCqrhsgWNp9jnpRieShdN1LRy4mNzM9y23CKSKTw6...</td>\n",
       "      <td>output</td>\n",
       "      <td>1.314550</td>\n",
       "      <td>NaN</td>\n",
       "      <td>outside</td>\n",
       "      <td>outside</td>\n",
       "    </tr>\n",
       "    <tr>\n",
       "      <th>4</th>\n",
       "      <td>000674fcf0c4c7442de4cdfc0f85f43ebd3726f49483dd...</td>\n",
       "      <td>addr1q8nt4cndqrrqk248sd96kg9urgjh55sp58snu97vp...</td>\n",
       "      <td>output</td>\n",
       "      <td>151.716900</td>\n",
       "      <td>stake1u83jlr5rqnwq3s4yg22cg6f8h54kwr9zapmthkwm...</td>\n",
       "      <td>279d3af9d898261a19860ebc05eed79104915f05ad9f69...</td>\n",
       "      <td>delegator</td>\n",
       "    </tr>\n",
       "    <tr>\n",
       "      <th>...</th>\n",
       "      <td>...</td>\n",
       "      <td>...</td>\n",
       "      <td>...</td>\n",
       "      <td>...</td>\n",
       "      <td>...</td>\n",
       "      <td>...</td>\n",
       "      <td>...</td>\n",
       "    </tr>\n",
       "    <tr>\n",
       "      <th>49264</th>\n",
       "      <td>fff7e50a4a7a57b6ffdf6f0e8e49e383b19fbe3fff3124...</td>\n",
       "      <td>addr1w8tqqyccvj7402zns2tea78d42etw520fzvf22zmy...</td>\n",
       "      <td>output</td>\n",
       "      <td>1.034400</td>\n",
       "      <td>NaN</td>\n",
       "      <td>outside</td>\n",
       "      <td>outside</td>\n",
       "    </tr>\n",
       "    <tr>\n",
       "      <th>49265</th>\n",
       "      <td>fff7e50a4a7a57b6ffdf6f0e8e49e383b19fbe3fff3124...</td>\n",
       "      <td>addr1w8ka486anvvxl8dg56te7c5pswta50am7a6vuu0c2...</td>\n",
       "      <td>output</td>\n",
       "      <td>1.051640</td>\n",
       "      <td>NaN</td>\n",
       "      <td>outside</td>\n",
       "      <td>outside</td>\n",
       "    </tr>\n",
       "    <tr>\n",
       "      <th>49266</th>\n",
       "      <td>fff7e50a4a7a57b6ffdf6f0e8e49e383b19fbe3fff3124...</td>\n",
       "      <td>addr1w835n68qeax023uperwgwlruk3d8yjl4k98r433nh...</td>\n",
       "      <td>output</td>\n",
       "      <td>1.055950</td>\n",
       "      <td>NaN</td>\n",
       "      <td>outside</td>\n",
       "      <td>outside</td>\n",
       "    </tr>\n",
       "    <tr>\n",
       "      <th>49267</th>\n",
       "      <td>fff7e50a4a7a57b6ffdf6f0e8e49e383b19fbe3fff3124...</td>\n",
       "      <td>addr1w9zpzvuevtrchc7fugx63scn8fukdx4vr3lv7m5mh...</td>\n",
       "      <td>output</td>\n",
       "      <td>1.051640</td>\n",
       "      <td>NaN</td>\n",
       "      <td>outside</td>\n",
       "      <td>outside</td>\n",
       "    </tr>\n",
       "    <tr>\n",
       "      <th>49268</th>\n",
       "      <td>fff7e50a4a7a57b6ffdf6f0e8e49e383b19fbe3fff3124...</td>\n",
       "      <td>addr1w9v5h80g9nk4qn3vxxxrzpwp2vnr4fv9jgd7jwcnk...</td>\n",
       "      <td>output</td>\n",
       "      <td>1.034400</td>\n",
       "      <td>NaN</td>\n",
       "      <td>outside</td>\n",
       "      <td>outside</td>\n",
       "    </tr>\n",
       "  </tbody>\n",
       "</table>\n",
       "<p>49269 rows × 7 columns</p>\n",
       "</div>"
      ],
      "text/plain": [
       "                                                   tx_id   \n",
       "0      000674fcf0c4c7442de4cdfc0f85f43ebd3726f49483dd...  \\\n",
       "1      000674fcf0c4c7442de4cdfc0f85f43ebd3726f49483dd...   \n",
       "2      000674fcf0c4c7442de4cdfc0f85f43ebd3726f49483dd...   \n",
       "3      000674fcf0c4c7442de4cdfc0f85f43ebd3726f49483dd...   \n",
       "4      000674fcf0c4c7442de4cdfc0f85f43ebd3726f49483dd...   \n",
       "...                                                  ...   \n",
       "49264  fff7e50a4a7a57b6ffdf6f0e8e49e383b19fbe3fff3124...   \n",
       "49265  fff7e50a4a7a57b6ffdf6f0e8e49e383b19fbe3fff3124...   \n",
       "49266  fff7e50a4a7a57b6ffdf6f0e8e49e383b19fbe3fff3124...   \n",
       "49267  fff7e50a4a7a57b6ffdf6f0e8e49e383b19fbe3fff3124...   \n",
       "49268  fff7e50a4a7a57b6ffdf6f0e8e49e383b19fbe3fff3124...   \n",
       "\n",
       "                                                 address utxo_type   \n",
       "0      addr1q9atjfpqwdtg7ytz0pz9zcaqvx8zr2uv6ysvc4csq...     input  \\\n",
       "1      addr1q9fsfa04de9xgza5xwqqy2c7unz907una9qwmpgyv...     input   \n",
       "2      addr1q836qf2vqzv57uc42rupyw039fsvnlfuaxumry25x...    output   \n",
       "3      DdzFFzCqrhsgWNp9jnpRieShdN1LRy4mNzM9y23CKSKTw6...    output   \n",
       "4      addr1q8nt4cndqrrqk248sd96kg9urgjh55sp58snu97vp...    output   \n",
       "...                                                  ...       ...   \n",
       "49264  addr1w8tqqyccvj7402zns2tea78d42etw520fzvf22zmy...    output   \n",
       "49265  addr1w8ka486anvvxl8dg56te7c5pswta50am7a6vuu0c2...    output   \n",
       "49266  addr1w835n68qeax023uperwgwlruk3d8yjl4k98r433nh...    output   \n",
       "49267  addr1w9zpzvuevtrchc7fugx63scn8fukdx4vr3lv7m5mh...    output   \n",
       "49268  addr1w9v5h80g9nk4qn3vxxxrzpwp2vnr4fv9jgd7jwcnk...    output   \n",
       "\n",
       "             amount                                          stake_key   \n",
       "0      50000.000000                                                NaN  \\\n",
       "1        159.631517                                                NaN   \n",
       "2      27796.889200                                                NaN   \n",
       "3          1.314550                                                NaN   \n",
       "4        151.716900  stake1u83jlr5rqnwq3s4yg22cg6f8h54kwr9zapmthkwm...   \n",
       "...             ...                                                ...   \n",
       "49264      1.034400                                                NaN   \n",
       "49265      1.051640                                                NaN   \n",
       "49266      1.055950                                                NaN   \n",
       "49267      1.051640                                                NaN   \n",
       "49268      1.034400                                                NaN   \n",
       "\n",
       "                                                 pool_id       type  \n",
       "0                                                outside    outside  \n",
       "1                                                outside    outside  \n",
       "2                                                outside    outside  \n",
       "3                                                outside    outside  \n",
       "4      279d3af9d898261a19860ebc05eed79104915f05ad9f69...  delegator  \n",
       "...                                                  ...        ...  \n",
       "49264                                            outside    outside  \n",
       "49265                                            outside    outside  \n",
       "49266                                            outside    outside  \n",
       "49267                                            outside    outside  \n",
       "49268                                            outside    outside  \n",
       "\n",
       "[49269 rows x 7 columns]"
      ]
     },
     "execution_count": 160,
     "metadata": {},
     "output_type": "execute_result"
    }
   ],
   "source": [
    "pools.sort_values('type', ascending=False, inplace=True)\n",
    "# Drop duplicates by 'stake_key', keep first (which will be 'owner' now)\n",
    "pools.drop_duplicates(subset='stake_key', keep='first', inplace=True)\n",
    "\n",
    "joined = pd.merge(accounts, pools, on='stake_key')\n",
    "joined = pd.merge(utxos, joined, on='address', how='left')\n",
    "joined.loc[joined['address'].apply(lambda x: x.startswith('Ae')), 'type'] = 'byron'\n",
    "joined['type'].fillna('outside', inplace=True)\n",
    "joined['pool_id'] = joined['pool_id'].fillna(joined['type'])\n",
    "\n",
    "# unique_addr_wo_stakekeys = joined[joined['stake_key'].isna() & (joined['type'] != 'byron')]['address'].unique()\n",
    "# len(unique_addr_wo_stakekeys) # TODO maybe fetch stake_keys for those outside addresses to merge them\n",
    "# joined['stake_key'].fillna(joined['address'], inplace=True)\n",
    "joined\n",
    "# joined[joined['tx_id'] == 'a66e2637e12ec89cfa85f448a02fe59c762bf5471b0ec9fa4beef098c28f70ec']"
   ]
  },
  {
   "cell_type": "code",
   "execution_count": 180,
   "metadata": {},
   "outputs": [
    {
     "data": {
      "text/html": [
       "<div>\n",
       "<style scoped>\n",
       "    .dataframe tbody tr th:only-of-type {\n",
       "        vertical-align: middle;\n",
       "    }\n",
       "\n",
       "    .dataframe tbody tr th {\n",
       "        vertical-align: top;\n",
       "    }\n",
       "\n",
       "    .dataframe thead th {\n",
       "        text-align: right;\n",
       "    }\n",
       "</style>\n",
       "<table border=\"1\" class=\"dataframe\">\n",
       "  <thead>\n",
       "    <tr style=\"text-align: right;\">\n",
       "      <th></th>\n",
       "      <th>tx_id</th>\n",
       "      <th>address</th>\n",
       "      <th>utxo_type</th>\n",
       "      <th>amount</th>\n",
       "      <th>stake_key</th>\n",
       "      <th>pool_id</th>\n",
       "      <th>type</th>\n",
       "    </tr>\n",
       "  </thead>\n",
       "  <tbody>\n",
       "    <tr>\n",
       "      <th>31901</th>\n",
       "      <td>a66e2637e12ec89cfa85f448a02fe59c762bf5471b0ec9...</td>\n",
       "      <td>addr1q9kml0wa4cyfslhmfx2lvapwpa2r67synqxvzaenq...</td>\n",
       "      <td>input</td>\n",
       "      <td>1.344798</td>\n",
       "      <td>stake1u9cs86t2s8vjdgguvxxuacx4x5xddcv70j466zxt...</td>\n",
       "      <td>beb5390bc047831874ad69f615a6f023ea121865c75ec3...</td>\n",
       "      <td>delegator</td>\n",
       "    </tr>\n",
       "    <tr>\n",
       "      <th>31902</th>\n",
       "      <td>a66e2637e12ec89cfa85f448a02fe59c762bf5471b0ec9...</td>\n",
       "      <td>addr1q9kml0wa4cyfslhmfx2lvapwpa2r67synqxvzaenq...</td>\n",
       "      <td>input</td>\n",
       "      <td>1.379280</td>\n",
       "      <td>stake1u9cs86t2s8vjdgguvxxuacx4x5xddcv70j466zxt...</td>\n",
       "      <td>beb5390bc047831874ad69f615a6f023ea121865c75ec3...</td>\n",
       "      <td>delegator</td>\n",
       "    </tr>\n",
       "    <tr>\n",
       "      <th>31903</th>\n",
       "      <td>a66e2637e12ec89cfa85f448a02fe59c762bf5471b0ec9...</td>\n",
       "      <td>addr1q9kml0wa4cyfslhmfx2lvapwpa2r67synqxvzaenq...</td>\n",
       "      <td>input</td>\n",
       "      <td>91.146909</td>\n",
       "      <td>stake1u9cs86t2s8vjdgguvxxuacx4x5xddcv70j466zxt...</td>\n",
       "      <td>beb5390bc047831874ad69f615a6f023ea121865c75ec3...</td>\n",
       "      <td>delegator</td>\n",
       "    </tr>\n",
       "    <tr>\n",
       "      <th>31904</th>\n",
       "      <td>a66e2637e12ec89cfa85f448a02fe59c762bf5471b0ec9...</td>\n",
       "      <td>addr1q9kml0wa4cyfslhmfx2lvapwpa2r67synqxvzaenq...</td>\n",
       "      <td>input</td>\n",
       "      <td>1.555138</td>\n",
       "      <td>stake1u9cs86t2s8vjdgguvxxuacx4x5xddcv70j466zxt...</td>\n",
       "      <td>beb5390bc047831874ad69f615a6f023ea121865c75ec3...</td>\n",
       "      <td>delegator</td>\n",
       "    </tr>\n",
       "    <tr>\n",
       "      <th>31905</th>\n",
       "      <td>a66e2637e12ec89cfa85f448a02fe59c762bf5471b0ec9...</td>\n",
       "      <td>addr1q9kml0wa4cyfslhmfx2lvapwpa2r67synqxvzaenq...</td>\n",
       "      <td>input</td>\n",
       "      <td>2.579253</td>\n",
       "      <td>stake1u9cs86t2s8vjdgguvxxuacx4x5xddcv70j466zxt...</td>\n",
       "      <td>beb5390bc047831874ad69f615a6f023ea121865c75ec3...</td>\n",
       "      <td>delegator</td>\n",
       "    </tr>\n",
       "    <tr>\n",
       "      <th>31906</th>\n",
       "      <td>a66e2637e12ec89cfa85f448a02fe59c762bf5471b0ec9...</td>\n",
       "      <td>addr1q9kml0wa4cyfslhmfx2lvapwpa2r67synqxvzaenq...</td>\n",
       "      <td>input</td>\n",
       "      <td>1.413762</td>\n",
       "      <td>stake1u9cs86t2s8vjdgguvxxuacx4x5xddcv70j466zxt...</td>\n",
       "      <td>beb5390bc047831874ad69f615a6f023ea121865c75ec3...</td>\n",
       "      <td>delegator</td>\n",
       "    </tr>\n",
       "    <tr>\n",
       "      <th>31907</th>\n",
       "      <td>a66e2637e12ec89cfa85f448a02fe59c762bf5471b0ec9...</td>\n",
       "      <td>addr1z9nz8vhzdxq9dmchmy25rxcv5lcymd6jfruz2le0n...</td>\n",
       "      <td>output</td>\n",
       "      <td>2.275680</td>\n",
       "      <td>stake1u9cs86t2s8vjdgguvxxuacx4x5xddcv70j466zxt...</td>\n",
       "      <td>beb5390bc047831874ad69f615a6f023ea121865c75ec3...</td>\n",
       "      <td>delegator</td>\n",
       "    </tr>\n",
       "    <tr>\n",
       "      <th>31908</th>\n",
       "      <td>a66e2637e12ec89cfa85f448a02fe59c762bf5471b0ec9...</td>\n",
       "      <td>addr1z9nz8vhzdxq9dmchmy25rxcv5lcymd6jfruz2le0n...</td>\n",
       "      <td>output</td>\n",
       "      <td>3.500000</td>\n",
       "      <td>stake1u9cs86t2s8vjdgguvxxuacx4x5xddcv70j466zxt...</td>\n",
       "      <td>beb5390bc047831874ad69f615a6f023ea121865c75ec3...</td>\n",
       "      <td>delegator</td>\n",
       "    </tr>\n",
       "    <tr>\n",
       "      <th>31909</th>\n",
       "      <td>a66e2637e12ec89cfa85f448a02fe59c762bf5471b0ec9...</td>\n",
       "      <td>addr1q9tmfp53cc8ef4hxj5req3czthpgcf3rsg54jjgpz...</td>\n",
       "      <td>output</td>\n",
       "      <td>1.000000</td>\n",
       "      <td>NaN</td>\n",
       "      <td>outside</td>\n",
       "      <td>outside</td>\n",
       "    </tr>\n",
       "    <tr>\n",
       "      <th>31910</th>\n",
       "      <td>a66e2637e12ec89cfa85f448a02fe59c762bf5471b0ec9...</td>\n",
       "      <td>addr1q8ff0pdlaud0dxw84p0ypqc4c74t27c5s29x3azja...</td>\n",
       "      <td>output</td>\n",
       "      <td>1.200000</td>\n",
       "      <td>NaN</td>\n",
       "      <td>outside</td>\n",
       "      <td>outside</td>\n",
       "    </tr>\n",
       "    <tr>\n",
       "      <th>31911</th>\n",
       "      <td>a66e2637e12ec89cfa85f448a02fe59c762bf5471b0ec9...</td>\n",
       "      <td>addr1q9kml0wa4cyfslhmfx2lvapwpa2r67synqxvzaenq...</td>\n",
       "      <td>output</td>\n",
       "      <td>91.174555</td>\n",
       "      <td>stake1u9cs86t2s8vjdgguvxxuacx4x5xddcv70j466zxt...</td>\n",
       "      <td>beb5390bc047831874ad69f615a6f023ea121865c75ec3...</td>\n",
       "      <td>delegator</td>\n",
       "    </tr>\n",
       "  </tbody>\n",
       "</table>\n",
       "</div>"
      ],
      "text/plain": [
       "                                                   tx_id   \n",
       "31901  a66e2637e12ec89cfa85f448a02fe59c762bf5471b0ec9...  \\\n",
       "31902  a66e2637e12ec89cfa85f448a02fe59c762bf5471b0ec9...   \n",
       "31903  a66e2637e12ec89cfa85f448a02fe59c762bf5471b0ec9...   \n",
       "31904  a66e2637e12ec89cfa85f448a02fe59c762bf5471b0ec9...   \n",
       "31905  a66e2637e12ec89cfa85f448a02fe59c762bf5471b0ec9...   \n",
       "31906  a66e2637e12ec89cfa85f448a02fe59c762bf5471b0ec9...   \n",
       "31907  a66e2637e12ec89cfa85f448a02fe59c762bf5471b0ec9...   \n",
       "31908  a66e2637e12ec89cfa85f448a02fe59c762bf5471b0ec9...   \n",
       "31909  a66e2637e12ec89cfa85f448a02fe59c762bf5471b0ec9...   \n",
       "31910  a66e2637e12ec89cfa85f448a02fe59c762bf5471b0ec9...   \n",
       "31911  a66e2637e12ec89cfa85f448a02fe59c762bf5471b0ec9...   \n",
       "\n",
       "                                                 address utxo_type     amount   \n",
       "31901  addr1q9kml0wa4cyfslhmfx2lvapwpa2r67synqxvzaenq...     input   1.344798  \\\n",
       "31902  addr1q9kml0wa4cyfslhmfx2lvapwpa2r67synqxvzaenq...     input   1.379280   \n",
       "31903  addr1q9kml0wa4cyfslhmfx2lvapwpa2r67synqxvzaenq...     input  91.146909   \n",
       "31904  addr1q9kml0wa4cyfslhmfx2lvapwpa2r67synqxvzaenq...     input   1.555138   \n",
       "31905  addr1q9kml0wa4cyfslhmfx2lvapwpa2r67synqxvzaenq...     input   2.579253   \n",
       "31906  addr1q9kml0wa4cyfslhmfx2lvapwpa2r67synqxvzaenq...     input   1.413762   \n",
       "31907  addr1z9nz8vhzdxq9dmchmy25rxcv5lcymd6jfruz2le0n...    output   2.275680   \n",
       "31908  addr1z9nz8vhzdxq9dmchmy25rxcv5lcymd6jfruz2le0n...    output   3.500000   \n",
       "31909  addr1q9tmfp53cc8ef4hxj5req3czthpgcf3rsg54jjgpz...    output   1.000000   \n",
       "31910  addr1q8ff0pdlaud0dxw84p0ypqc4c74t27c5s29x3azja...    output   1.200000   \n",
       "31911  addr1q9kml0wa4cyfslhmfx2lvapwpa2r67synqxvzaenq...    output  91.174555   \n",
       "\n",
       "                                               stake_key   \n",
       "31901  stake1u9cs86t2s8vjdgguvxxuacx4x5xddcv70j466zxt...  \\\n",
       "31902  stake1u9cs86t2s8vjdgguvxxuacx4x5xddcv70j466zxt...   \n",
       "31903  stake1u9cs86t2s8vjdgguvxxuacx4x5xddcv70j466zxt...   \n",
       "31904  stake1u9cs86t2s8vjdgguvxxuacx4x5xddcv70j466zxt...   \n",
       "31905  stake1u9cs86t2s8vjdgguvxxuacx4x5xddcv70j466zxt...   \n",
       "31906  stake1u9cs86t2s8vjdgguvxxuacx4x5xddcv70j466zxt...   \n",
       "31907  stake1u9cs86t2s8vjdgguvxxuacx4x5xddcv70j466zxt...   \n",
       "31908  stake1u9cs86t2s8vjdgguvxxuacx4x5xddcv70j466zxt...   \n",
       "31909                                                NaN   \n",
       "31910                                                NaN   \n",
       "31911  stake1u9cs86t2s8vjdgguvxxuacx4x5xddcv70j466zxt...   \n",
       "\n",
       "                                                 pool_id       type  \n",
       "31901  beb5390bc047831874ad69f615a6f023ea121865c75ec3...  delegator  \n",
       "31902  beb5390bc047831874ad69f615a6f023ea121865c75ec3...  delegator  \n",
       "31903  beb5390bc047831874ad69f615a6f023ea121865c75ec3...  delegator  \n",
       "31904  beb5390bc047831874ad69f615a6f023ea121865c75ec3...  delegator  \n",
       "31905  beb5390bc047831874ad69f615a6f023ea121865c75ec3...  delegator  \n",
       "31906  beb5390bc047831874ad69f615a6f023ea121865c75ec3...  delegator  \n",
       "31907  beb5390bc047831874ad69f615a6f023ea121865c75ec3...  delegator  \n",
       "31908  beb5390bc047831874ad69f615a6f023ea121865c75ec3...  delegator  \n",
       "31909                                            outside    outside  \n",
       "31910                                            outside    outside  \n",
       "31911  beb5390bc047831874ad69f615a6f023ea121865c75ec3...  delegator  "
      ]
     },
     "execution_count": 180,
     "metadata": {},
     "output_type": "execute_result"
    }
   ],
   "source": [
    "joined[joined['tx_id'] == 'a66e2637e12ec89cfa85f448a02fe59c762bf5471b0ec9fa4beef098c28f70ec']"
   ]
  },
  {
   "cell_type": "code",
   "execution_count": 164,
   "metadata": {},
   "outputs": [
    {
     "name": "stdout",
     "output_type": "stream",
     "text": [
      "Unique stake_key: 78\n"
     ]
    },
    {
     "data": {
      "text/html": [
       "<div>\n",
       "<style scoped>\n",
       "    .dataframe tbody tr th:only-of-type {\n",
       "        vertical-align: middle;\n",
       "    }\n",
       "\n",
       "    .dataframe tbody tr th {\n",
       "        vertical-align: top;\n",
       "    }\n",
       "\n",
       "    .dataframe thead th {\n",
       "        text-align: right;\n",
       "    }\n",
       "</style>\n",
       "<table border=\"1\" class=\"dataframe\">\n",
       "  <thead>\n",
       "    <tr style=\"text-align: right;\">\n",
       "      <th></th>\n",
       "      <th>tx_id</th>\n",
       "      <th>address</th>\n",
       "      <th>utxo_type</th>\n",
       "      <th>amount</th>\n",
       "      <th>stake_key</th>\n",
       "      <th>pool_id</th>\n",
       "      <th>type</th>\n",
       "    </tr>\n",
       "  </thead>\n",
       "  <tbody>\n",
       "    <tr>\n",
       "      <th>0</th>\n",
       "      <td>001fcc8dfe139a0ff33a9729fb964fc6cd25703713b4e3...</td>\n",
       "      <td>addr1q89y35p2udmh0uzt9slpsehknjwhglxzp7rp9cwn0...</td>\n",
       "      <td>input</td>\n",
       "      <td>3.000000</td>\n",
       "      <td>stake1ux0u9phjqemyum3xztfltghsyx3w3c7gkpvcp8gw...</td>\n",
       "      <td>beb5390bc047831874ad69f615a6f023ea121865c75ec3...</td>\n",
       "      <td>owner</td>\n",
       "    </tr>\n",
       "    <tr>\n",
       "      <th>1</th>\n",
       "      <td>001fcc8dfe139a0ff33a9729fb964fc6cd25703713b4e3...</td>\n",
       "      <td>addr1q89y35p2udmh0uzt9slpsehknjwhglxzp7rp9cwn0...</td>\n",
       "      <td>output</td>\n",
       "      <td>2494.661127</td>\n",
       "      <td>stake1ux0u9phjqemyum3xztfltghsyx3w3c7gkpvcp8gw...</td>\n",
       "      <td>beb5390bc047831874ad69f615a6f023ea121865c75ec3...</td>\n",
       "      <td>owner</td>\n",
       "    </tr>\n",
       "    <tr>\n",
       "      <th>2</th>\n",
       "      <td>003ed0dd6697747b34b2ebae0c1352dc3371fb9101cc82...</td>\n",
       "      <td>addr1q9ch985q39mdvxna85d8w3p3z6uxm7g6vgu06gm7p...</td>\n",
       "      <td>input</td>\n",
       "      <td>5.000000</td>\n",
       "      <td>stake1uy9dl6pfq3lwdkxu5m898g5wqlvqmkfhld40pkjp...</td>\n",
       "      <td>ffb3fe58689ae0d70d6fb939a842ee78ecfa10eab56127...</td>\n",
       "      <td>owner</td>\n",
       "    </tr>\n",
       "    <tr>\n",
       "      <th>3</th>\n",
       "      <td>003ed0dd6697747b34b2ebae0c1352dc3371fb9101cc82...</td>\n",
       "      <td>addr1q9ch985q39mdvxna85d8w3p3z6uxm7g6vgu06gm7p...</td>\n",
       "      <td>output</td>\n",
       "      <td>3162.530062</td>\n",
       "      <td>stake1uy9dl6pfq3lwdkxu5m898g5wqlvqmkfhld40pkjp...</td>\n",
       "      <td>ffb3fe58689ae0d70d6fb939a842ee78ecfa10eab56127...</td>\n",
       "      <td>owner</td>\n",
       "    </tr>\n",
       "    <tr>\n",
       "      <th>4</th>\n",
       "      <td>005245f254085ddbd766ff1d297ccbe3f13eb5adf5c4d9...</td>\n",
       "      <td>addr1qyutnqmj75x8zeckmlflnvkgkh6vaza5yrlm2xdtn...</td>\n",
       "      <td>input</td>\n",
       "      <td>6.000000</td>\n",
       "      <td>stake1u9yc0fln76ejlgcc6cwvqyzsykfesrcyg5j9h5dw...</td>\n",
       "      <td>c51e4e6cb25065ad0740249c66eafa11e186120602aff1...</td>\n",
       "      <td>owner</td>\n",
       "    </tr>\n",
       "    <tr>\n",
       "      <th>...</th>\n",
       "      <td>...</td>\n",
       "      <td>...</td>\n",
       "      <td>...</td>\n",
       "      <td>...</td>\n",
       "      <td>...</td>\n",
       "      <td>...</td>\n",
       "      <td>...</td>\n",
       "    </tr>\n",
       "    <tr>\n",
       "      <th>7587</th>\n",
       "      <td>ffa6a3ecdc1a655bf3aee027c2d1b2c51c4ee2264db6e4...</td>\n",
       "      <td>addr1q93q5xy2yjftztvaq6q84fjhrkwx7e6lgm96hxggq...</td>\n",
       "      <td>output</td>\n",
       "      <td>7853.840213</td>\n",
       "      <td>stake1u8z6eveex09aytvc972s039uv7rr2uk9v8xklzdl...</td>\n",
       "      <td>625ae8c8aaaead6ceebf262f380245cb61b4a3e96199b2...</td>\n",
       "      <td>owner</td>\n",
       "    </tr>\n",
       "    <tr>\n",
       "      <th>7588</th>\n",
       "      <td>ffb8eac53ec400531f9fc45260fa908cba50960f21723e...</td>\n",
       "      <td>addr1qxt84mrd93qwp6zr0u9f83zkfpxnx74a67ag8ezdk...</td>\n",
       "      <td>input</td>\n",
       "      <td>3.000000</td>\n",
       "      <td>stake1uxxannh600xhg6ngnfgwfza3vq6hs0n8mupumr32...</td>\n",
       "      <td>a250eb51869c6b94cbc507d22e76ed0f35d31ccabdb172...</td>\n",
       "      <td>owner</td>\n",
       "    </tr>\n",
       "    <tr>\n",
       "      <th>7589</th>\n",
       "      <td>ffb8eac53ec400531f9fc45260fa908cba50960f21723e...</td>\n",
       "      <td>addr1qxt84mrd93qwp6zr0u9f83zkfpxnx74a67ag8ezdk...</td>\n",
       "      <td>output</td>\n",
       "      <td>2936.652230</td>\n",
       "      <td>stake1uxxannh600xhg6ngnfgwfza3vq6hs0n8mupumr32...</td>\n",
       "      <td>a250eb51869c6b94cbc507d22e76ed0f35d31ccabdb172...</td>\n",
       "      <td>owner</td>\n",
       "    </tr>\n",
       "    <tr>\n",
       "      <th>7590</th>\n",
       "      <td>ffcfe8559e64ac1e8a60ebca6864c47c6cc546d6b70100...</td>\n",
       "      <td>addr1qxz2ahzjrjnz598m0x4sf0sa6jt3aqudjqg0p4he7...</td>\n",
       "      <td>input</td>\n",
       "      <td>3.000000</td>\n",
       "      <td>stake1uxsuckf8amewmqfkt6hfdhpk7udjfd37m644q5nq...</td>\n",
       "      <td>7e00129d906afbba06a6b279fcf6e4295986a1104b7f5c...</td>\n",
       "      <td>owner</td>\n",
       "    </tr>\n",
       "    <tr>\n",
       "      <th>7591</th>\n",
       "      <td>ffcfe8559e64ac1e8a60ebca6864c47c6cc546d6b70100...</td>\n",
       "      <td>addr1qxz2ahzjrjnz598m0x4sf0sa6jt3aqudjqg0p4he7...</td>\n",
       "      <td>output</td>\n",
       "      <td>13861.366004</td>\n",
       "      <td>stake1uxsuckf8amewmqfkt6hfdhpk7udjfd37m644q5nq...</td>\n",
       "      <td>7e00129d906afbba06a6b279fcf6e4295986a1104b7f5c...</td>\n",
       "      <td>owner</td>\n",
       "    </tr>\n",
       "  </tbody>\n",
       "</table>\n",
       "<p>7592 rows × 7 columns</p>\n",
       "</div>"
      ],
      "text/plain": [
       "                                                  tx_id   \n",
       "0     001fcc8dfe139a0ff33a9729fb964fc6cd25703713b4e3...  \\\n",
       "1     001fcc8dfe139a0ff33a9729fb964fc6cd25703713b4e3...   \n",
       "2     003ed0dd6697747b34b2ebae0c1352dc3371fb9101cc82...   \n",
       "3     003ed0dd6697747b34b2ebae0c1352dc3371fb9101cc82...   \n",
       "4     005245f254085ddbd766ff1d297ccbe3f13eb5adf5c4d9...   \n",
       "...                                                 ...   \n",
       "7587  ffa6a3ecdc1a655bf3aee027c2d1b2c51c4ee2264db6e4...   \n",
       "7588  ffb8eac53ec400531f9fc45260fa908cba50960f21723e...   \n",
       "7589  ffb8eac53ec400531f9fc45260fa908cba50960f21723e...   \n",
       "7590  ffcfe8559e64ac1e8a60ebca6864c47c6cc546d6b70100...   \n",
       "7591  ffcfe8559e64ac1e8a60ebca6864c47c6cc546d6b70100...   \n",
       "\n",
       "                                                address utxo_type   \n",
       "0     addr1q89y35p2udmh0uzt9slpsehknjwhglxzp7rp9cwn0...     input  \\\n",
       "1     addr1q89y35p2udmh0uzt9slpsehknjwhglxzp7rp9cwn0...    output   \n",
       "2     addr1q9ch985q39mdvxna85d8w3p3z6uxm7g6vgu06gm7p...     input   \n",
       "3     addr1q9ch985q39mdvxna85d8w3p3z6uxm7g6vgu06gm7p...    output   \n",
       "4     addr1qyutnqmj75x8zeckmlflnvkgkh6vaza5yrlm2xdtn...     input   \n",
       "...                                                 ...       ...   \n",
       "7587  addr1q93q5xy2yjftztvaq6q84fjhrkwx7e6lgm96hxggq...    output   \n",
       "7588  addr1qxt84mrd93qwp6zr0u9f83zkfpxnx74a67ag8ezdk...     input   \n",
       "7589  addr1qxt84mrd93qwp6zr0u9f83zkfpxnx74a67ag8ezdk...    output   \n",
       "7590  addr1qxz2ahzjrjnz598m0x4sf0sa6jt3aqudjqg0p4he7...     input   \n",
       "7591  addr1qxz2ahzjrjnz598m0x4sf0sa6jt3aqudjqg0p4he7...    output   \n",
       "\n",
       "            amount                                          stake_key   \n",
       "0         3.000000  stake1ux0u9phjqemyum3xztfltghsyx3w3c7gkpvcp8gw...  \\\n",
       "1      2494.661127  stake1ux0u9phjqemyum3xztfltghsyx3w3c7gkpvcp8gw...   \n",
       "2         5.000000  stake1uy9dl6pfq3lwdkxu5m898g5wqlvqmkfhld40pkjp...   \n",
       "3      3162.530062  stake1uy9dl6pfq3lwdkxu5m898g5wqlvqmkfhld40pkjp...   \n",
       "4         6.000000  stake1u9yc0fln76ejlgcc6cwvqyzsykfesrcyg5j9h5dw...   \n",
       "...            ...                                                ...   \n",
       "7587   7853.840213  stake1u8z6eveex09aytvc972s039uv7rr2uk9v8xklzdl...   \n",
       "7588      3.000000  stake1uxxannh600xhg6ngnfgwfza3vq6hs0n8mupumr32...   \n",
       "7589   2936.652230  stake1uxxannh600xhg6ngnfgwfza3vq6hs0n8mupumr32...   \n",
       "7590      3.000000  stake1uxsuckf8amewmqfkt6hfdhpk7udjfd37m644q5nq...   \n",
       "7591  13861.366004  stake1uxsuckf8amewmqfkt6hfdhpk7udjfd37m644q5nq...   \n",
       "\n",
       "                                                pool_id   type  \n",
       "0     beb5390bc047831874ad69f615a6f023ea121865c75ec3...  owner  \n",
       "1     beb5390bc047831874ad69f615a6f023ea121865c75ec3...  owner  \n",
       "2     ffb3fe58689ae0d70d6fb939a842ee78ecfa10eab56127...  owner  \n",
       "3     ffb3fe58689ae0d70d6fb939a842ee78ecfa10eab56127...  owner  \n",
       "4     c51e4e6cb25065ad0740249c66eafa11e186120602aff1...  owner  \n",
       "...                                                 ...    ...  \n",
       "7587  625ae8c8aaaead6ceebf262f380245cb61b4a3e96199b2...  owner  \n",
       "7588  a250eb51869c6b94cbc507d22e76ed0f35d31ccabdb172...  owner  \n",
       "7589  a250eb51869c6b94cbc507d22e76ed0f35d31ccabdb172...  owner  \n",
       "7590  7e00129d906afbba06a6b279fcf6e4295986a1104b7f5c...  owner  \n",
       "7591  7e00129d906afbba06a6b279fcf6e4295986a1104b7f5c...  owner  \n",
       "\n",
       "[7592 rows x 7 columns]"
      ]
     },
     "execution_count": 164,
     "metadata": {},
     "output_type": "execute_result"
    }
   ],
   "source": [
    "# only internal stakepool network transactions (all paticipants are owners!)\n",
    "# all of those are staking reward withdrawals! can be removed from dataset\n",
    "joined_internal = joined.groupby('tx_id').apply(lambda x: x if x['type'].isin(['owner']).all() else None).reset_index(drop=True)\n",
    "print('Unique stake_key:', len(joined_internal['stake_key'].unique()))\n",
    "joined_internal"
   ]
  },
  {
   "cell_type": "code",
   "execution_count": 189,
   "metadata": {},
   "outputs": [
    {
     "name": "stdout",
     "output_type": "stream",
     "text": [
      "Staking rewards: 15937200.227481 ADA\n"
     ]
    },
    {
     "data": {
      "application/vnd.plotly.v1+json": {
       "config": {
        "plotlyServerURL": "https://plot.ly"
       },
       "data": [
        {
         "alignmentgroup": "True",
         "hovertemplate": "variable=amount<br>pool_id=%{x}<br>value=%{y}<extra></extra>",
         "legendgroup": "amount",
         "marker": {
          "color": "#636efa",
          "pattern": {
           "shape": ""
          }
         },
         "name": "amount",
         "offsetgroup": "amount",
         "orientation": "v",
         "showlegend": true,
         "textposition": "auto",
         "type": "bar",
         "x": [
          "BNP 21",
          "BNP 30",
          "BNP 33",
          "BNP 35",
          "BNP 32",
          "BNP 38",
          "BNP 34",
          "BNP 41",
          "BNP 31",
          "BNP 42",
          "BNP 40",
          "BNP 36",
          "BNP 53",
          "BNP 49",
          "BNP 47",
          "BNP 55",
          "BNP 54",
          "BNP 46",
          "BNP 50",
          "BNP 58",
          "BNP 59",
          "BNP 56",
          "BNP 57",
          "BNP 48",
          "BNP 51",
          "BNP 71",
          "BNP 65",
          "BNP 72",
          "BNP 67",
          "BNP 70",
          "BNP 68",
          "BNP 66",
          "BNP 63",
          "BNP 60",
          "BNP 73",
          "BNP 61",
          "BNP 69",
          "BNP 62",
          "BNP 64",
          "BNP 45",
          "BNP 43",
          "BNP 15",
          "BNP 24",
          "BNP 5",
          "BNP 12",
          "BNP 13",
          "BNP 19",
          "BNP 4",
          "BNP 23",
          "BNP 11",
          "BNP 30",
          "BNP 3",
          "BNP 7",
          "BNP 16",
          "BNP 10",
          "BNP 14",
          "BNP 28",
          "BNP 21",
          "BNP 8",
          "BNP 1",
          "BNP 27",
          "BNP 2",
          "BNP 31",
          "BNP 17",
          "BNP 9",
          "BNP 29",
          "BNP 20",
          "BNP 6",
          "BNP 22",
          "BNP 18",
          "BNP 25",
          "BNP 26",
          "BNP 32",
          "BNP 74",
          "BNP 78",
          "BNP 77",
          "BNP 75",
          "BNP 76"
         ],
         "xaxis": "x",
         "y": [
          462796.513216,
          433307.849427,
          423420.759753,
          422564.051325,
          422558.614138,
          420634.760841,
          419736.716434,
          417976.639359,
          416177.675866,
          413633.871299,
          412320.590369,
          411398.415762,
          410218.944042,
          404977.404261,
          404477.904721,
          404174.051105,
          403341.65041,
          401613.236312,
          401517.031795,
          401459.52551999997,
          400644.18827600003,
          400370.033671,
          399130.330702,
          397544.869534,
          395512.290405,
          378340.820576,
          376982.90717,
          374770.088362,
          374719.892371,
          374505.50189200003,
          373053.484952,
          370897.905784,
          370731.637551,
          368380.182934,
          367950.959036,
          367382.336656,
          367233.654569,
          367042.311847,
          365138.863684,
          283981.532495,
          134225.927174,
          552.917894,
          552.917894,
          552.917894,
          552.917894,
          552.917894,
          552.917894,
          552.917894,
          552.917894,
          552.917894,
          552.917894,
          552.917894,
          552.917894,
          552.9178939999999,
          552.9178939999999,
          552.9178939999999,
          552.9178939999999,
          552.9178939999999,
          552.9178939999999,
          552.9178939999999,
          552.9178939999999,
          552.9178939999999,
          552.9178939999999,
          552.9178939999999,
          552.9178939999999,
          552.9178939999999,
          552.9178939999999,
          552.9178939999999,
          552.9178939999999,
          552.9178939999999,
          552.9178939999999,
          552.9178939999999,
          536.512946,
          535.466845,
          535.466845,
          535.466845,
          535.466845,
          535.466845
         ],
         "yaxis": "y"
        }
       ],
       "layout": {
        "barmode": "relative",
        "legend": {
         "title": {
          "text": "variable"
         },
         "tracegroupgap": 0
        },
        "template": {
         "data": {
          "bar": [
           {
            "error_x": {
             "color": "#2a3f5f"
            },
            "error_y": {
             "color": "#2a3f5f"
            },
            "marker": {
             "line": {
              "color": "#E5ECF6",
              "width": 0.5
             },
             "pattern": {
              "fillmode": "overlay",
              "size": 10,
              "solidity": 0.2
             }
            },
            "type": "bar"
           }
          ],
          "barpolar": [
           {
            "marker": {
             "line": {
              "color": "#E5ECF6",
              "width": 0.5
             },
             "pattern": {
              "fillmode": "overlay",
              "size": 10,
              "solidity": 0.2
             }
            },
            "type": "barpolar"
           }
          ],
          "carpet": [
           {
            "aaxis": {
             "endlinecolor": "#2a3f5f",
             "gridcolor": "white",
             "linecolor": "white",
             "minorgridcolor": "white",
             "startlinecolor": "#2a3f5f"
            },
            "baxis": {
             "endlinecolor": "#2a3f5f",
             "gridcolor": "white",
             "linecolor": "white",
             "minorgridcolor": "white",
             "startlinecolor": "#2a3f5f"
            },
            "type": "carpet"
           }
          ],
          "choropleth": [
           {
            "colorbar": {
             "outlinewidth": 0,
             "ticks": ""
            },
            "type": "choropleth"
           }
          ],
          "contour": [
           {
            "colorbar": {
             "outlinewidth": 0,
             "ticks": ""
            },
            "colorscale": [
             [
              0,
              "#0d0887"
             ],
             [
              0.1111111111111111,
              "#46039f"
             ],
             [
              0.2222222222222222,
              "#7201a8"
             ],
             [
              0.3333333333333333,
              "#9c179e"
             ],
             [
              0.4444444444444444,
              "#bd3786"
             ],
             [
              0.5555555555555556,
              "#d8576b"
             ],
             [
              0.6666666666666666,
              "#ed7953"
             ],
             [
              0.7777777777777778,
              "#fb9f3a"
             ],
             [
              0.8888888888888888,
              "#fdca26"
             ],
             [
              1,
              "#f0f921"
             ]
            ],
            "type": "contour"
           }
          ],
          "contourcarpet": [
           {
            "colorbar": {
             "outlinewidth": 0,
             "ticks": ""
            },
            "type": "contourcarpet"
           }
          ],
          "heatmap": [
           {
            "colorbar": {
             "outlinewidth": 0,
             "ticks": ""
            },
            "colorscale": [
             [
              0,
              "#0d0887"
             ],
             [
              0.1111111111111111,
              "#46039f"
             ],
             [
              0.2222222222222222,
              "#7201a8"
             ],
             [
              0.3333333333333333,
              "#9c179e"
             ],
             [
              0.4444444444444444,
              "#bd3786"
             ],
             [
              0.5555555555555556,
              "#d8576b"
             ],
             [
              0.6666666666666666,
              "#ed7953"
             ],
             [
              0.7777777777777778,
              "#fb9f3a"
             ],
             [
              0.8888888888888888,
              "#fdca26"
             ],
             [
              1,
              "#f0f921"
             ]
            ],
            "type": "heatmap"
           }
          ],
          "heatmapgl": [
           {
            "colorbar": {
             "outlinewidth": 0,
             "ticks": ""
            },
            "colorscale": [
             [
              0,
              "#0d0887"
             ],
             [
              0.1111111111111111,
              "#46039f"
             ],
             [
              0.2222222222222222,
              "#7201a8"
             ],
             [
              0.3333333333333333,
              "#9c179e"
             ],
             [
              0.4444444444444444,
              "#bd3786"
             ],
             [
              0.5555555555555556,
              "#d8576b"
             ],
             [
              0.6666666666666666,
              "#ed7953"
             ],
             [
              0.7777777777777778,
              "#fb9f3a"
             ],
             [
              0.8888888888888888,
              "#fdca26"
             ],
             [
              1,
              "#f0f921"
             ]
            ],
            "type": "heatmapgl"
           }
          ],
          "histogram": [
           {
            "marker": {
             "pattern": {
              "fillmode": "overlay",
              "size": 10,
              "solidity": 0.2
             }
            },
            "type": "histogram"
           }
          ],
          "histogram2d": [
           {
            "colorbar": {
             "outlinewidth": 0,
             "ticks": ""
            },
            "colorscale": [
             [
              0,
              "#0d0887"
             ],
             [
              0.1111111111111111,
              "#46039f"
             ],
             [
              0.2222222222222222,
              "#7201a8"
             ],
             [
              0.3333333333333333,
              "#9c179e"
             ],
             [
              0.4444444444444444,
              "#bd3786"
             ],
             [
              0.5555555555555556,
              "#d8576b"
             ],
             [
              0.6666666666666666,
              "#ed7953"
             ],
             [
              0.7777777777777778,
              "#fb9f3a"
             ],
             [
              0.8888888888888888,
              "#fdca26"
             ],
             [
              1,
              "#f0f921"
             ]
            ],
            "type": "histogram2d"
           }
          ],
          "histogram2dcontour": [
           {
            "colorbar": {
             "outlinewidth": 0,
             "ticks": ""
            },
            "colorscale": [
             [
              0,
              "#0d0887"
             ],
             [
              0.1111111111111111,
              "#46039f"
             ],
             [
              0.2222222222222222,
              "#7201a8"
             ],
             [
              0.3333333333333333,
              "#9c179e"
             ],
             [
              0.4444444444444444,
              "#bd3786"
             ],
             [
              0.5555555555555556,
              "#d8576b"
             ],
             [
              0.6666666666666666,
              "#ed7953"
             ],
             [
              0.7777777777777778,
              "#fb9f3a"
             ],
             [
              0.8888888888888888,
              "#fdca26"
             ],
             [
              1,
              "#f0f921"
             ]
            ],
            "type": "histogram2dcontour"
           }
          ],
          "mesh3d": [
           {
            "colorbar": {
             "outlinewidth": 0,
             "ticks": ""
            },
            "type": "mesh3d"
           }
          ],
          "parcoords": [
           {
            "line": {
             "colorbar": {
              "outlinewidth": 0,
              "ticks": ""
             }
            },
            "type": "parcoords"
           }
          ],
          "pie": [
           {
            "automargin": true,
            "type": "pie"
           }
          ],
          "scatter": [
           {
            "fillpattern": {
             "fillmode": "overlay",
             "size": 10,
             "solidity": 0.2
            },
            "type": "scatter"
           }
          ],
          "scatter3d": [
           {
            "line": {
             "colorbar": {
              "outlinewidth": 0,
              "ticks": ""
             }
            },
            "marker": {
             "colorbar": {
              "outlinewidth": 0,
              "ticks": ""
             }
            },
            "type": "scatter3d"
           }
          ],
          "scattercarpet": [
           {
            "marker": {
             "colorbar": {
              "outlinewidth": 0,
              "ticks": ""
             }
            },
            "type": "scattercarpet"
           }
          ],
          "scattergeo": [
           {
            "marker": {
             "colorbar": {
              "outlinewidth": 0,
              "ticks": ""
             }
            },
            "type": "scattergeo"
           }
          ],
          "scattergl": [
           {
            "marker": {
             "colorbar": {
              "outlinewidth": 0,
              "ticks": ""
             }
            },
            "type": "scattergl"
           }
          ],
          "scattermapbox": [
           {
            "marker": {
             "colorbar": {
              "outlinewidth": 0,
              "ticks": ""
             }
            },
            "type": "scattermapbox"
           }
          ],
          "scatterpolar": [
           {
            "marker": {
             "colorbar": {
              "outlinewidth": 0,
              "ticks": ""
             }
            },
            "type": "scatterpolar"
           }
          ],
          "scatterpolargl": [
           {
            "marker": {
             "colorbar": {
              "outlinewidth": 0,
              "ticks": ""
             }
            },
            "type": "scatterpolargl"
           }
          ],
          "scatterternary": [
           {
            "marker": {
             "colorbar": {
              "outlinewidth": 0,
              "ticks": ""
             }
            },
            "type": "scatterternary"
           }
          ],
          "surface": [
           {
            "colorbar": {
             "outlinewidth": 0,
             "ticks": ""
            },
            "colorscale": [
             [
              0,
              "#0d0887"
             ],
             [
              0.1111111111111111,
              "#46039f"
             ],
             [
              0.2222222222222222,
              "#7201a8"
             ],
             [
              0.3333333333333333,
              "#9c179e"
             ],
             [
              0.4444444444444444,
              "#bd3786"
             ],
             [
              0.5555555555555556,
              "#d8576b"
             ],
             [
              0.6666666666666666,
              "#ed7953"
             ],
             [
              0.7777777777777778,
              "#fb9f3a"
             ],
             [
              0.8888888888888888,
              "#fdca26"
             ],
             [
              1,
              "#f0f921"
             ]
            ],
            "type": "surface"
           }
          ],
          "table": [
           {
            "cells": {
             "fill": {
              "color": "#EBF0F8"
             },
             "line": {
              "color": "white"
             }
            },
            "header": {
             "fill": {
              "color": "#C8D4E3"
             },
             "line": {
              "color": "white"
             }
            },
            "type": "table"
           }
          ]
         },
         "layout": {
          "annotationdefaults": {
           "arrowcolor": "#2a3f5f",
           "arrowhead": 0,
           "arrowwidth": 1
          },
          "autotypenumbers": "strict",
          "coloraxis": {
           "colorbar": {
            "outlinewidth": 0,
            "ticks": ""
           }
          },
          "colorscale": {
           "diverging": [
            [
             0,
             "#8e0152"
            ],
            [
             0.1,
             "#c51b7d"
            ],
            [
             0.2,
             "#de77ae"
            ],
            [
             0.3,
             "#f1b6da"
            ],
            [
             0.4,
             "#fde0ef"
            ],
            [
             0.5,
             "#f7f7f7"
            ],
            [
             0.6,
             "#e6f5d0"
            ],
            [
             0.7,
             "#b8e186"
            ],
            [
             0.8,
             "#7fbc41"
            ],
            [
             0.9,
             "#4d9221"
            ],
            [
             1,
             "#276419"
            ]
           ],
           "sequential": [
            [
             0,
             "#0d0887"
            ],
            [
             0.1111111111111111,
             "#46039f"
            ],
            [
             0.2222222222222222,
             "#7201a8"
            ],
            [
             0.3333333333333333,
             "#9c179e"
            ],
            [
             0.4444444444444444,
             "#bd3786"
            ],
            [
             0.5555555555555556,
             "#d8576b"
            ],
            [
             0.6666666666666666,
             "#ed7953"
            ],
            [
             0.7777777777777778,
             "#fb9f3a"
            ],
            [
             0.8888888888888888,
             "#fdca26"
            ],
            [
             1,
             "#f0f921"
            ]
           ],
           "sequentialminus": [
            [
             0,
             "#0d0887"
            ],
            [
             0.1111111111111111,
             "#46039f"
            ],
            [
             0.2222222222222222,
             "#7201a8"
            ],
            [
             0.3333333333333333,
             "#9c179e"
            ],
            [
             0.4444444444444444,
             "#bd3786"
            ],
            [
             0.5555555555555556,
             "#d8576b"
            ],
            [
             0.6666666666666666,
             "#ed7953"
            ],
            [
             0.7777777777777778,
             "#fb9f3a"
            ],
            [
             0.8888888888888888,
             "#fdca26"
            ],
            [
             1,
             "#f0f921"
            ]
           ]
          },
          "colorway": [
           "#636efa",
           "#EF553B",
           "#00cc96",
           "#ab63fa",
           "#FFA15A",
           "#19d3f3",
           "#FF6692",
           "#B6E880",
           "#FF97FF",
           "#FECB52"
          ],
          "font": {
           "color": "#2a3f5f"
          },
          "geo": {
           "bgcolor": "white",
           "lakecolor": "white",
           "landcolor": "#E5ECF6",
           "showlakes": true,
           "showland": true,
           "subunitcolor": "white"
          },
          "hoverlabel": {
           "align": "left"
          },
          "hovermode": "closest",
          "mapbox": {
           "style": "light"
          },
          "paper_bgcolor": "white",
          "plot_bgcolor": "#E5ECF6",
          "polar": {
           "angularaxis": {
            "gridcolor": "white",
            "linecolor": "white",
            "ticks": ""
           },
           "bgcolor": "#E5ECF6",
           "radialaxis": {
            "gridcolor": "white",
            "linecolor": "white",
            "ticks": ""
           }
          },
          "scene": {
           "xaxis": {
            "backgroundcolor": "#E5ECF6",
            "gridcolor": "white",
            "gridwidth": 2,
            "linecolor": "white",
            "showbackground": true,
            "ticks": "",
            "zerolinecolor": "white"
           },
           "yaxis": {
            "backgroundcolor": "#E5ECF6",
            "gridcolor": "white",
            "gridwidth": 2,
            "linecolor": "white",
            "showbackground": true,
            "ticks": "",
            "zerolinecolor": "white"
           },
           "zaxis": {
            "backgroundcolor": "#E5ECF6",
            "gridcolor": "white",
            "gridwidth": 2,
            "linecolor": "white",
            "showbackground": true,
            "ticks": "",
            "zerolinecolor": "white"
           }
          },
          "shapedefaults": {
           "line": {
            "color": "#2a3f5f"
           }
          },
          "ternary": {
           "aaxis": {
            "gridcolor": "white",
            "linecolor": "white",
            "ticks": ""
           },
           "baxis": {
            "gridcolor": "white",
            "linecolor": "white",
            "ticks": ""
           },
           "bgcolor": "#E5ECF6",
           "caxis": {
            "gridcolor": "white",
            "linecolor": "white",
            "ticks": ""
           }
          },
          "title": {
           "x": 0.05
          },
          "xaxis": {
           "automargin": true,
           "gridcolor": "white",
           "linecolor": "white",
           "ticks": "",
           "title": {
            "standoff": 15
           },
           "zerolinecolor": "white",
           "zerolinewidth": 2
          },
          "yaxis": {
           "automargin": true,
           "gridcolor": "white",
           "linecolor": "white",
           "ticks": "",
           "title": {
            "standoff": 15
           },
           "zerolinecolor": "white",
           "zerolinewidth": 2
          }
         }
        },
        "title": {
         "text": "Accumulated stake pool rewards"
        },
        "xaxis": {
         "anchor": "y",
         "domain": [
          0,
          1
         ],
         "title": {
          "text": "pool_id"
         }
        },
        "yaxis": {
         "anchor": "x",
         "domain": [
          0,
          1
         ],
         "title": {
          "text": "value"
         }
        }
       }
      }
     },
     "metadata": {},
     "output_type": "display_data"
    }
   ],
   "source": [
    "import json\n",
    "with open(Path().cwd() / '../data/binance_pool_names.json', 'r') as f:\n",
    "    binance_pool_names = json.load(f)\n",
    "    \n",
    "pd.options.plotting.backend = 'plotly'\n",
    "staking_rewards = joined_internal[joined_internal['utxo_type'] == 'output'].groupby('pool_id')['amount'].sum().sort_values(ascending=False)\n",
    "print('Staking rewards:', staking_rewards.rename(index=binance_pool_names).sum(), 'ADA')\n",
    "staking_rewards.rename(index=binance_pool_names).plot(kind='bar', title='Accumulated stake pool rewards')"
   ]
  },
  {
   "cell_type": "code",
   "execution_count": 193,
   "metadata": {},
   "outputs": [
    {
     "data": {
      "text/html": [
       "<div>\n",
       "<style scoped>\n",
       "    .dataframe tbody tr th:only-of-type {\n",
       "        vertical-align: middle;\n",
       "    }\n",
       "\n",
       "    .dataframe tbody tr th {\n",
       "        vertical-align: top;\n",
       "    }\n",
       "\n",
       "    .dataframe thead th {\n",
       "        text-align: right;\n",
       "    }\n",
       "</style>\n",
       "<table border=\"1\" class=\"dataframe\">\n",
       "  <thead>\n",
       "    <tr style=\"text-align: right;\">\n",
       "      <th></th>\n",
       "      <th>tx_id</th>\n",
       "      <th>address</th>\n",
       "      <th>utxo_type</th>\n",
       "      <th>amount</th>\n",
       "      <th>stake_key</th>\n",
       "      <th>pool_id</th>\n",
       "      <th>type</th>\n",
       "    </tr>\n",
       "  </thead>\n",
       "  <tbody>\n",
       "    <tr>\n",
       "      <th>0</th>\n",
       "      <td>000674fcf0c4c7442de4cdfc0f85f43ebd3726f49483dd...</td>\n",
       "      <td>addr1q9atjfpqwdtg7ytz0pz9zcaqvx8zr2uv6ysvc4csq...</td>\n",
       "      <td>input</td>\n",
       "      <td>50000.000000</td>\n",
       "      <td>NaN</td>\n",
       "      <td>outside</td>\n",
       "      <td>outside</td>\n",
       "    </tr>\n",
       "    <tr>\n",
       "      <th>1</th>\n",
       "      <td>000674fcf0c4c7442de4cdfc0f85f43ebd3726f49483dd...</td>\n",
       "      <td>addr1q9fsfa04de9xgza5xwqqy2c7unz907una9qwmpgyv...</td>\n",
       "      <td>input</td>\n",
       "      <td>159.631517</td>\n",
       "      <td>NaN</td>\n",
       "      <td>outside</td>\n",
       "      <td>outside</td>\n",
       "    </tr>\n",
       "    <tr>\n",
       "      <th>2</th>\n",
       "      <td>000674fcf0c4c7442de4cdfc0f85f43ebd3726f49483dd...</td>\n",
       "      <td>addr1q836qf2vqzv57uc42rupyw039fsvnlfuaxumry25x...</td>\n",
       "      <td>output</td>\n",
       "      <td>27796.889200</td>\n",
       "      <td>NaN</td>\n",
       "      <td>outside</td>\n",
       "      <td>outside</td>\n",
       "    </tr>\n",
       "    <tr>\n",
       "      <th>3</th>\n",
       "      <td>000674fcf0c4c7442de4cdfc0f85f43ebd3726f49483dd...</td>\n",
       "      <td>DdzFFzCqrhsgWNp9jnpRieShdN1LRy4mNzM9y23CKSKTw6...</td>\n",
       "      <td>output</td>\n",
       "      <td>1.314550</td>\n",
       "      <td>NaN</td>\n",
       "      <td>outside</td>\n",
       "      <td>outside</td>\n",
       "    </tr>\n",
       "    <tr>\n",
       "      <th>4</th>\n",
       "      <td>000674fcf0c4c7442de4cdfc0f85f43ebd3726f49483dd...</td>\n",
       "      <td>addr1q8nt4cndqrrqk248sd96kg9urgjh55sp58snu97vp...</td>\n",
       "      <td>output</td>\n",
       "      <td>151.716900</td>\n",
       "      <td>stake1u83jlr5rqnwq3s4yg22cg6f8h54kwr9zapmthkwm...</td>\n",
       "      <td>279d3af9d898261a19860ebc05eed79104915f05ad9f69...</td>\n",
       "      <td>delegator</td>\n",
       "    </tr>\n",
       "    <tr>\n",
       "      <th>...</th>\n",
       "      <td>...</td>\n",
       "      <td>...</td>\n",
       "      <td>...</td>\n",
       "      <td>...</td>\n",
       "      <td>...</td>\n",
       "      <td>...</td>\n",
       "      <td>...</td>\n",
       "    </tr>\n",
       "    <tr>\n",
       "      <th>49264</th>\n",
       "      <td>fff7e50a4a7a57b6ffdf6f0e8e49e383b19fbe3fff3124...</td>\n",
       "      <td>addr1w8tqqyccvj7402zns2tea78d42etw520fzvf22zmy...</td>\n",
       "      <td>output</td>\n",
       "      <td>1.034400</td>\n",
       "      <td>NaN</td>\n",
       "      <td>outside</td>\n",
       "      <td>outside</td>\n",
       "    </tr>\n",
       "    <tr>\n",
       "      <th>49265</th>\n",
       "      <td>fff7e50a4a7a57b6ffdf6f0e8e49e383b19fbe3fff3124...</td>\n",
       "      <td>addr1w8ka486anvvxl8dg56te7c5pswta50am7a6vuu0c2...</td>\n",
       "      <td>output</td>\n",
       "      <td>1.051640</td>\n",
       "      <td>NaN</td>\n",
       "      <td>outside</td>\n",
       "      <td>outside</td>\n",
       "    </tr>\n",
       "    <tr>\n",
       "      <th>49266</th>\n",
       "      <td>fff7e50a4a7a57b6ffdf6f0e8e49e383b19fbe3fff3124...</td>\n",
       "      <td>addr1w835n68qeax023uperwgwlruk3d8yjl4k98r433nh...</td>\n",
       "      <td>output</td>\n",
       "      <td>1.055950</td>\n",
       "      <td>NaN</td>\n",
       "      <td>outside</td>\n",
       "      <td>outside</td>\n",
       "    </tr>\n",
       "    <tr>\n",
       "      <th>49267</th>\n",
       "      <td>fff7e50a4a7a57b6ffdf6f0e8e49e383b19fbe3fff3124...</td>\n",
       "      <td>addr1w9zpzvuevtrchc7fugx63scn8fukdx4vr3lv7m5mh...</td>\n",
       "      <td>output</td>\n",
       "      <td>1.051640</td>\n",
       "      <td>NaN</td>\n",
       "      <td>outside</td>\n",
       "      <td>outside</td>\n",
       "    </tr>\n",
       "    <tr>\n",
       "      <th>49268</th>\n",
       "      <td>fff7e50a4a7a57b6ffdf6f0e8e49e383b19fbe3fff3124...</td>\n",
       "      <td>addr1w9v5h80g9nk4qn3vxxxrzpwp2vnr4fv9jgd7jwcnk...</td>\n",
       "      <td>output</td>\n",
       "      <td>1.034400</td>\n",
       "      <td>NaN</td>\n",
       "      <td>outside</td>\n",
       "      <td>outside</td>\n",
       "    </tr>\n",
       "  </tbody>\n",
       "</table>\n",
       "<p>41677 rows × 7 columns</p>\n",
       "</div>"
      ],
      "text/plain": [
       "                                                   tx_id   \n",
       "0      000674fcf0c4c7442de4cdfc0f85f43ebd3726f49483dd...  \\\n",
       "1      000674fcf0c4c7442de4cdfc0f85f43ebd3726f49483dd...   \n",
       "2      000674fcf0c4c7442de4cdfc0f85f43ebd3726f49483dd...   \n",
       "3      000674fcf0c4c7442de4cdfc0f85f43ebd3726f49483dd...   \n",
       "4      000674fcf0c4c7442de4cdfc0f85f43ebd3726f49483dd...   \n",
       "...                                                  ...   \n",
       "49264  fff7e50a4a7a57b6ffdf6f0e8e49e383b19fbe3fff3124...   \n",
       "49265  fff7e50a4a7a57b6ffdf6f0e8e49e383b19fbe3fff3124...   \n",
       "49266  fff7e50a4a7a57b6ffdf6f0e8e49e383b19fbe3fff3124...   \n",
       "49267  fff7e50a4a7a57b6ffdf6f0e8e49e383b19fbe3fff3124...   \n",
       "49268  fff7e50a4a7a57b6ffdf6f0e8e49e383b19fbe3fff3124...   \n",
       "\n",
       "                                                 address utxo_type   \n",
       "0      addr1q9atjfpqwdtg7ytz0pz9zcaqvx8zr2uv6ysvc4csq...     input  \\\n",
       "1      addr1q9fsfa04de9xgza5xwqqy2c7unz907una9qwmpgyv...     input   \n",
       "2      addr1q836qf2vqzv57uc42rupyw039fsvnlfuaxumry25x...    output   \n",
       "3      DdzFFzCqrhsgWNp9jnpRieShdN1LRy4mNzM9y23CKSKTw6...    output   \n",
       "4      addr1q8nt4cndqrrqk248sd96kg9urgjh55sp58snu97vp...    output   \n",
       "...                                                  ...       ...   \n",
       "49264  addr1w8tqqyccvj7402zns2tea78d42etw520fzvf22zmy...    output   \n",
       "49265  addr1w8ka486anvvxl8dg56te7c5pswta50am7a6vuu0c2...    output   \n",
       "49266  addr1w835n68qeax023uperwgwlruk3d8yjl4k98r433nh...    output   \n",
       "49267  addr1w9zpzvuevtrchc7fugx63scn8fukdx4vr3lv7m5mh...    output   \n",
       "49268  addr1w9v5h80g9nk4qn3vxxxrzpwp2vnr4fv9jgd7jwcnk...    output   \n",
       "\n",
       "             amount                                          stake_key   \n",
       "0      50000.000000                                                NaN  \\\n",
       "1        159.631517                                                NaN   \n",
       "2      27796.889200                                                NaN   \n",
       "3          1.314550                                                NaN   \n",
       "4        151.716900  stake1u83jlr5rqnwq3s4yg22cg6f8h54kwr9zapmthkwm...   \n",
       "...             ...                                                ...   \n",
       "49264      1.034400                                                NaN   \n",
       "49265      1.051640                                                NaN   \n",
       "49266      1.055950                                                NaN   \n",
       "49267      1.051640                                                NaN   \n",
       "49268      1.034400                                                NaN   \n",
       "\n",
       "                                                 pool_id       type  \n",
       "0                                                outside    outside  \n",
       "1                                                outside    outside  \n",
       "2                                                outside    outside  \n",
       "3                                                outside    outside  \n",
       "4      279d3af9d898261a19860ebc05eed79104915f05ad9f69...  delegator  \n",
       "...                                                  ...        ...  \n",
       "49264                                            outside    outside  \n",
       "49265                                            outside    outside  \n",
       "49266                                            outside    outside  \n",
       "49267                                            outside    outside  \n",
       "49268                                            outside    outside  \n",
       "\n",
       "[41677 rows x 7 columns]"
      ]
     },
     "execution_count": 193,
     "metadata": {},
     "output_type": "execute_result"
    }
   ],
   "source": [
    "# drop interal transactions (reward withdrawal)\n",
    "joined = joined[~joined['tx_id'].isin(joined_internal['tx_id'].unique())]\n",
    "joined"
   ]
  },
  {
   "cell_type": "code",
   "execution_count": 194,
   "metadata": {},
   "outputs": [
    {
     "data": {
      "text/html": [
       "<div>\n",
       "<style scoped>\n",
       "    .dataframe tbody tr th:only-of-type {\n",
       "        vertical-align: middle;\n",
       "    }\n",
       "\n",
       "    .dataframe tbody tr th {\n",
       "        vertical-align: top;\n",
       "    }\n",
       "\n",
       "    .dataframe thead th {\n",
       "        text-align: right;\n",
       "    }\n",
       "</style>\n",
       "<table border=\"1\" class=\"dataframe\">\n",
       "  <thead>\n",
       "    <tr style=\"text-align: right;\">\n",
       "      <th></th>\n",
       "      <th>tx_id</th>\n",
       "      <th>address</th>\n",
       "      <th>utxo_type</th>\n",
       "      <th>amount</th>\n",
       "      <th>stake_key</th>\n",
       "      <th>pool_id</th>\n",
       "      <th>type</th>\n",
       "    </tr>\n",
       "  </thead>\n",
       "  <tbody>\n",
       "    <tr>\n",
       "      <th>662</th>\n",
       "      <td>03fd2abce8d378f13fe8e65ea405c80528e230a0019cee...</td>\n",
       "      <td>Ae2tdPwUPEZKf13GB7EXAuRhjDvHhUbBH3opR1a56JF52w...</td>\n",
       "      <td>input</td>\n",
       "      <td>15985.364974</td>\n",
       "      <td>NaN</td>\n",
       "      <td>byron</td>\n",
       "      <td>byron</td>\n",
       "    </tr>\n",
       "    <tr>\n",
       "      <th>672</th>\n",
       "      <td>03fd2abce8d378f13fe8e65ea405c80528e230a0019cee...</td>\n",
       "      <td>Ae2tdPwUPEZLs8m3YLLXySUtyQ3Vg7pdC5fPYSCiVZn8yy...</td>\n",
       "      <td>output</td>\n",
       "      <td>98.900000</td>\n",
       "      <td>NaN</td>\n",
       "      <td>byron</td>\n",
       "      <td>byron</td>\n",
       "    </tr>\n",
       "    <tr>\n",
       "      <th>673</th>\n",
       "      <td>03fd2abce8d378f13fe8e65ea405c80528e230a0019cee...</td>\n",
       "      <td>Ae2tdPwUPEZ6avAPhQGhkqa4tBUjEaGttc4pckhA6r8VLs...</td>\n",
       "      <td>output</td>\n",
       "      <td>31.806808</td>\n",
       "      <td>NaN</td>\n",
       "      <td>byron</td>\n",
       "      <td>byron</td>\n",
       "    </tr>\n",
       "    <tr>\n",
       "      <th>674</th>\n",
       "      <td>03fd2abce8d378f13fe8e65ea405c80528e230a0019cee...</td>\n",
       "      <td>Ae2tdPwUPEZAV1gbg6iei5aTMcG9gq9KBFtfVWviJajHkc...</td>\n",
       "      <td>output</td>\n",
       "      <td>6783.581853</td>\n",
       "      <td>NaN</td>\n",
       "      <td>byron</td>\n",
       "      <td>byron</td>\n",
       "    </tr>\n",
       "    <tr>\n",
       "      <th>675</th>\n",
       "      <td>03fd2abce8d378f13fe8e65ea405c80528e230a0019cee...</td>\n",
       "      <td>Ae2tdPwUPEZ6qRqzmRuAeaHVhAMkCvfcR3bMi6ChWBJFpy...</td>\n",
       "      <td>output</td>\n",
       "      <td>98.866446</td>\n",
       "      <td>NaN</td>\n",
       "      <td>byron</td>\n",
       "      <td>byron</td>\n",
       "    </tr>\n",
       "    <tr>\n",
       "      <th>...</th>\n",
       "      <td>...</td>\n",
       "      <td>...</td>\n",
       "      <td>...</td>\n",
       "      <td>...</td>\n",
       "      <td>...</td>\n",
       "      <td>...</td>\n",
       "      <td>...</td>\n",
       "    </tr>\n",
       "    <tr>\n",
       "      <th>49046</th>\n",
       "      <td>ff3087eb4992b9b155a5817f3b535c21a0cfc98cebf7e1...</td>\n",
       "      <td>Ae2tdPwUPEYwbrXgXaRawXne6EqhsyhvwXSwSuSGMNm8r6...</td>\n",
       "      <td>input</td>\n",
       "      <td>9.085805</td>\n",
       "      <td>NaN</td>\n",
       "      <td>byron</td>\n",
       "      <td>byron</td>\n",
       "    </tr>\n",
       "    <tr>\n",
       "      <th>49051</th>\n",
       "      <td>ff3087eb4992b9b155a5817f3b535c21a0cfc98cebf7e1...</td>\n",
       "      <td>Ae2tdPwUPEZ4RHv6o4481ZoQFQJgFUxC1wrbZVZ5PMiZbh...</td>\n",
       "      <td>output</td>\n",
       "      <td>1448.321712</td>\n",
       "      <td>NaN</td>\n",
       "      <td>byron</td>\n",
       "      <td>byron</td>\n",
       "    </tr>\n",
       "    <tr>\n",
       "      <th>49052</th>\n",
       "      <td>ff3087eb4992b9b155a5817f3b535c21a0cfc98cebf7e1...</td>\n",
       "      <td>Ae2tdPwUPEYzjsYJn8qx2NnKFk9Rb1C67BSouxhuhWoCWz...</td>\n",
       "      <td>output</td>\n",
       "      <td>116.242452</td>\n",
       "      <td>NaN</td>\n",
       "      <td>byron</td>\n",
       "      <td>byron</td>\n",
       "    </tr>\n",
       "    <tr>\n",
       "      <th>49053</th>\n",
       "      <td>ff3087eb4992b9b155a5817f3b535c21a0cfc98cebf7e1...</td>\n",
       "      <td>Ae2tdPwUPEZFjeXR9aqoTFHYa4zj6W1vg5BSfLK9vdWzXY...</td>\n",
       "      <td>output</td>\n",
       "      <td>9545.206859</td>\n",
       "      <td>NaN</td>\n",
       "      <td>byron</td>\n",
       "      <td>byron</td>\n",
       "    </tr>\n",
       "    <tr>\n",
       "      <th>49054</th>\n",
       "      <td>ff3087eb4992b9b155a5817f3b535c21a0cfc98cebf7e1...</td>\n",
       "      <td>Ae2tdPwUPEZ8AEkfamG1hRx6rVK6nsnuUB5Gt9YpjDwb9E...</td>\n",
       "      <td>output</td>\n",
       "      <td>65335.906269</td>\n",
       "      <td>NaN</td>\n",
       "      <td>byron</td>\n",
       "      <td>byron</td>\n",
       "    </tr>\n",
       "  </tbody>\n",
       "</table>\n",
       "<p>4388 rows × 7 columns</p>\n",
       "</div>"
      ],
      "text/plain": [
       "                                                   tx_id   \n",
       "662    03fd2abce8d378f13fe8e65ea405c80528e230a0019cee...  \\\n",
       "672    03fd2abce8d378f13fe8e65ea405c80528e230a0019cee...   \n",
       "673    03fd2abce8d378f13fe8e65ea405c80528e230a0019cee...   \n",
       "674    03fd2abce8d378f13fe8e65ea405c80528e230a0019cee...   \n",
       "675    03fd2abce8d378f13fe8e65ea405c80528e230a0019cee...   \n",
       "...                                                  ...   \n",
       "49046  ff3087eb4992b9b155a5817f3b535c21a0cfc98cebf7e1...   \n",
       "49051  ff3087eb4992b9b155a5817f3b535c21a0cfc98cebf7e1...   \n",
       "49052  ff3087eb4992b9b155a5817f3b535c21a0cfc98cebf7e1...   \n",
       "49053  ff3087eb4992b9b155a5817f3b535c21a0cfc98cebf7e1...   \n",
       "49054  ff3087eb4992b9b155a5817f3b535c21a0cfc98cebf7e1...   \n",
       "\n",
       "                                                 address utxo_type   \n",
       "662    Ae2tdPwUPEZKf13GB7EXAuRhjDvHhUbBH3opR1a56JF52w...     input  \\\n",
       "672    Ae2tdPwUPEZLs8m3YLLXySUtyQ3Vg7pdC5fPYSCiVZn8yy...    output   \n",
       "673    Ae2tdPwUPEZ6avAPhQGhkqa4tBUjEaGttc4pckhA6r8VLs...    output   \n",
       "674    Ae2tdPwUPEZAV1gbg6iei5aTMcG9gq9KBFtfVWviJajHkc...    output   \n",
       "675    Ae2tdPwUPEZ6qRqzmRuAeaHVhAMkCvfcR3bMi6ChWBJFpy...    output   \n",
       "...                                                  ...       ...   \n",
       "49046  Ae2tdPwUPEYwbrXgXaRawXne6EqhsyhvwXSwSuSGMNm8r6...     input   \n",
       "49051  Ae2tdPwUPEZ4RHv6o4481ZoQFQJgFUxC1wrbZVZ5PMiZbh...    output   \n",
       "49052  Ae2tdPwUPEYzjsYJn8qx2NnKFk9Rb1C67BSouxhuhWoCWz...    output   \n",
       "49053  Ae2tdPwUPEZFjeXR9aqoTFHYa4zj6W1vg5BSfLK9vdWzXY...    output   \n",
       "49054  Ae2tdPwUPEZ8AEkfamG1hRx6rVK6nsnuUB5Gt9YpjDwb9E...    output   \n",
       "\n",
       "             amount stake_key pool_id   type  \n",
       "662    15985.364974       NaN   byron  byron  \n",
       "672       98.900000       NaN   byron  byron  \n",
       "673       31.806808       NaN   byron  byron  \n",
       "674     6783.581853       NaN   byron  byron  \n",
       "675       98.866446       NaN   byron  byron  \n",
       "...             ...       ...     ...    ...  \n",
       "49046      9.085805       NaN   byron  byron  \n",
       "49051   1448.321712       NaN   byron  byron  \n",
       "49052    116.242452       NaN   byron  byron  \n",
       "49053   9545.206859       NaN   byron  byron  \n",
       "49054  65335.906269       NaN   byron  byron  \n",
       "\n",
       "[4388 rows x 7 columns]"
      ]
     },
     "execution_count": 194,
     "metadata": {},
     "output_type": "execute_result"
    }
   ],
   "source": [
    "joined[joined['type'] == 'byron']"
   ]
  },
  {
   "cell_type": "code",
   "execution_count": null,
   "metadata": {},
   "outputs": [],
   "source": [
    "# keep only transaction which have pool"
   ]
  },
  {
   "cell_type": "code",
   "execution_count": 121,
   "metadata": {},
   "outputs": [],
   "source": [
    "# def aggregate(df):\n",
    "#     df['amount'] = df['amount'] * df['utxo_type'].apply(lambda x: 1 if x == 'input' else -1)\n",
    "#     result = {\n",
    "#         # 'stake_key': df.stake_key.iloc[0],\n",
    "#         # 'tx_id': df.tx_id.iloc[0],\n",
    "#         'amount': df.amount.sum(),\n",
    "#         'type': df.type.iloc[0]\n",
    "#     }\n",
    "#     return pd.Series(result)\n",
    "\n",
    "\n",
    "# aggregated = joined[joined['type'].isin(['owner', 'delegator'])].groupby(['stake_key', 'tx_id']).apply(aggregate)\n",
    "# # aggregated = joined.groupby(['stake_key', 'tx_id']).apply(aggregate)\n",
    "# aggregated"
   ]
  },
  {
   "attachments": {},
   "cell_type": "markdown",
   "metadata": {},
   "source": [
    "# Notes"
   ]
  },
  {
   "cell_type": "code",
   "execution_count": null,
   "metadata": {},
   "outputs": [],
   "source": [
    "import networkx as nx\n",
    "\n",
    "\n",
    "# Create a new directed graph\n",
    "G = nx.DiGraph()\n",
    "\n",
    "# Load transactions data from directory and create graph\n",
    "for filename in os.listdir('data/'):\n",
    "    with open('data/' + filename, 'r') as f:\n",
    "        data = json.load(f)\n",
    "        # Add nodes and edges to the graph\n",
    "        for transaction in data:\n",
    "            G.add_edge(transaction['sender'], transaction['receiver'], weight=transaction['amount'])\n",
    "\n",
    "# Analyze the graph\n",
    "print('Number of nodes: ', G.number_of_nodes())\n",
    "print('Number of edges: ', G.number_of_edges())\n",
    "\n",
    "# Draw the graph\n",
    "pos = nx.spring_layout(G)\n",
    "\n",
    "# Determine node colors\n",
    "node_colors = []\n",
    "for node in G.nodes():\n",
    "    if node in bitpanda_ground_truth['deposit_addrs'] or node in exchange_addresses:\n",
    "        node_colors.append('blue')  # Exchange addresses\n",
    "    else:\n",
    "        node_colors.append('red')  # User addresses\n",
    "\n",
    "nx.draw_networkx_nodes(G, pos, node_color=node_colors)\n",
    "nx.draw_networkx_labels(G, pos)\n",
    "nx.draw_networkx_edges(G, pos)\n",
    "plt.show()"
   ]
  }
 ],
 "metadata": {
  "kernelspec": {
   "display_name": "ds",
   "language": "python",
   "name": "python3"
  },
  "language_info": {
   "codemirror_mode": {
    "name": "ipython",
    "version": 3
   },
   "file_extension": ".py",
   "mimetype": "text/x-python",
   "name": "python",
   "nbconvert_exporter": "python",
   "pygments_lexer": "ipython3",
   "version": "3.9.16"
  },
  "orig_nbformat": 4
 },
 "nbformat": 4,
 "nbformat_minor": 2
}
