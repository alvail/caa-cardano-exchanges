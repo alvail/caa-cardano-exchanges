{
 "cells": [
  {
   "cell_type": "code",
   "execution_count": 1,
   "metadata": {},
   "outputs": [],
   "source": [
    "# TODO similar to binance.ipynb construct graph out of preprocessed data and analyze properties (statistics, plots, etc)"
   ]
  },
  {
   "cell_type": "code",
   "execution_count": 1,
   "metadata": {},
   "outputs": [],
   "source": [
    "from pathlib import Path\n",
    "import pandas as pd\n",
    "\n",
    "\n",
    "data_dir = Path().cwd() / '../data/preprocessed/bitpanda'\n",
    "accounts = pd.read_csv(data_dir / 'accounts.csv')\n",
    "txs = pd.read_csv(data_dir / 'txs.csv')\n",
    "utxos = pd.read_csv(data_dir / 'utxos.csv')\n",
    "utxos['amount'] = utxos['amount'] / 1e6"
   ]
  }
 ],
 "metadata": {
  "kernelspec": {
   "display_name": "Python 3.9.7 ('caa_venv')",
   "language": "python",
   "name": "python3"
  },
  "language_info": {
   "codemirror_mode": {
    "name": "ipython",
    "version": 3
   },
   "file_extension": ".py",
   "mimetype": "text/x-python",
   "name": "python",
   "nbconvert_exporter": "python",
   "pygments_lexer": "ipython3",
   "version": "3.9.7"
  },
  "orig_nbformat": 4,
  "vscode": {
   "interpreter": {
    "hash": "efac259b5dec195ca5b08a1baa3996a6e75cb006a9c950f32d9f3efced670aaa"
   }
  }
 },
 "nbformat": 4,
 "nbformat_minor": 2
}
