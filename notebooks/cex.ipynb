{
 "cells": [
  {
   "cell_type": "code",
   "execution_count": null,
   "metadata": {},
   "outputs": [],
   "source": [
    "binance_ground_truth = {\n",
    "    'deposit_addrs': [\n",
    "        'DdzFFzCqrht8FRiABBs8Mpbo2zW2QzEbhQWFXgar9jicwUhmsg8BwFeqSzfztBdVtzhLMppUfJEuzn2NAmmT8ehSntj3ihaf4JL29o7R', # Byron address\n",
    "    ],\n",
    "    'withdraw_txs': [\n",
    "        'a72c1329f2de674bcb262276b097460b69ec02bd9a94f0f9934583e05601d144' # Look at inputs\n",
    "    ],\n",
    "    'stake_keys': [\n",
    "        # TODO BNP stakepools\n",
    "    ]\n",
    "}\n",
    "\n",
    "bitpanda_ground_truth = {\n",
    "    'deposit_addrs': [\n",
    "        'addr1qxs5n2c76hs3d9wm0uvk9vss8j599ttepl0t58ncaep34ynx5uwa85u274prfyeyf4wepgfjc6l60jes04n2wax5eulsnzlk9d',\n",
    "        'addr1q863my4xaq3sx2h6fxwp64n4ct4t8ve8pfq7ywnwxzujr4mljey6y888yd8p6q707suln9xmy3d058hscden9r9v9cuswsqelj',\n",
    "    ],\n",
    "    'withdraw_txs': [\n",
    "        '52c2c79b33a71a09b7f38bbd627cc041bd141ab3f9b348e555916ea2537663d7',\n",
    "        '8444fedd9f29805c3ad542fedce7f76b75a2c67cc58eedae79c04a69672e8de3',\n",
    "        'bedb077b9380d81ee87b1dfc38a253efc7f08b8c87e2fbe5ff6d0be04e00ce1d',\n",
    "        'd69c6bd4e56479f2af822c1ce017fc4d06b3ff3e7fc3bdd32908c72e5c88267a',\n",
    "        '227391ad9a3c958792c599f29e1d07d52e243e4650974b2dcf1a72e3a0bc1334',\n",
    "        '745bb56473e6ab836d4b8064a485dbc68dc7403533c802e0b4d3c1bea9406312',\n",
    "        '9df38a441b962bfca15e264d8f23ac902c1da32af500a45f726ce8e855c92fd3',\n",
    "        '0311c4a1cc557c4970e01ab45f7f6242cd8b53d4d480b9a3ae1976fbcc009b75',\n",
    "        '650f34567ab15079af586d0edc209071f363a03bde2a8793e602fc2c5ba0bbce',\n",
    "        'ef217e9c4a67bbb18c5eac5e5b552fe47de4aa811587a4a97bb1e65baa38898f',\n",
    "        '734490eea2e44c36d4a1f88aed8220b3a17d47af4220b6e530e29f364b6475e0'\n",
    "    ]\n",
    "}"
   ]
  }
 ],
 "metadata": {
  "language_info": {
   "name": "python"
  },
  "orig_nbformat": 4
 },
 "nbformat": 4,
 "nbformat_minor": 2
}
