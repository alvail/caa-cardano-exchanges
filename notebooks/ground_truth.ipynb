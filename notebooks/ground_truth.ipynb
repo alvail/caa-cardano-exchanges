{
 "cells": [
  {
   "cell_type": "code",
   "execution_count": 1,
   "metadata": {},
   "outputs": [
    {
     "name": "stderr",
     "output_type": "stream",
     "text": [
      "/Users/holu/miniconda3/envs/caa_venv/lib/python3.9/site-packages/tqdm/auto.py:21: TqdmWarning: IProgress not found. Please update jupyter and ipywidgets. See https://ipywidgets.readthedocs.io/en/stable/user_install.html\n",
      "  from .autonotebook import tqdm as notebook_tqdm\n"
     ]
    }
   ],
   "source": [
    "from pathlib import Path\n",
    "import json\n",
    "import pandas as pd\n",
    "import requests\n",
    "from tqdm.auto import tqdm\n",
    "\n",
    "\n",
    "# Paths\n",
    "data_dir = Path().cwd() / '../data'\n",
    "bitpanda_dir = data_dir / 'blockfrost/bitpanda'\n",
    "binance_dir = data_dir / 'blockfrost/binance'\n",
    "\n",
    "# Load ground truth\n",
    "with open(data_dir / 'binance_ground_truth.json', 'r') as f:\n",
    "    binance_ground_truth = json.load(f)\n",
    "\n",
    "with open(data_dir / 'bitpanda_ground_truth.json', 'r') as f:\n",
    "    bitpanda_ground_truth = json.load(f)"
   ]
  },
  {
   "cell_type": "code",
   "execution_count": 4,
   "metadata": {},
   "outputs": [],
   "source": [
    "# Blockfrost settings\n",
    "project_id = 'mainnetT7hYStPEPv0LRLEU2jIIxhywYh51lH21' # TODO use your own API key\n",
    "base_url = 'https://cardano-mainnet.blockfrost.io/api/v0/'\n",
    "headers = {\n",
    "    'project_id': project_id\n",
    "}\n",
    "# Exchange addresses extracted from withdrawal transactions\n",
    "exchange_addresses = set()\n",
    "\n",
    "\n",
    "# Abstract function to handle Blockfrost API response and save data\n",
    "def handle_blockfrost_api_response(endpoint, data_dir, parameters={}, paging=False):\n",
    "    page = 1\n",
    "    while True:\n",
    "        parameters.update({'page': page})\n",
    "        response = requests.get(base_url + endpoint, headers=headers, params=parameters)\n",
    "        if response.status_code == 200:\n",
    "            data = response.json()\n",
    "            if not data:  # No more data to fetch\n",
    "                break\n",
    "            # Create necessary directories if they don't exist\n",
    "            path = Path(data_dir / endpoint)\n",
    "            path.mkdir(parents=True, exist_ok=True)\n",
    "            # Save data to a JSON file\n",
    "            with open(path / f'{page}.json', 'w') as f:\n",
    "                json.dump(data, f, indent=4)\n",
    "            page += 1\n",
    "        else:\n",
    "            print('Error: ', response.status_code)\n",
    "            break\n",
    "        if not paging:\n",
    "            break\n",
    "\n",
    "\n",
    "# # Fetch and save transaction data for each withdraw transaction \n",
    "# for tx in bitpanda_ground_truth['withdraw_txs']:\n",
    "#     handle_blockfrost_api_response(f'txs/{tx}')"
   ]
  },
  {
   "attachments": {},
   "cell_type": "markdown",
   "metadata": {},
   "source": [
    "## Bitpanda"
   ]
  },
  {
   "cell_type": "code",
   "execution_count": 5,
   "metadata": {},
   "outputs": [],
   "source": [
    "# Get addresses associated with stake keys (based on deposit_addrs)\n",
    "stake_address = 'stake1u9n2w8wn6w902s35jvjy6hvs5yevd0a8evc86e48wn2v70cv8j4fn' # Bitpanda wallet stake key 1\n",
    "stake_address = 'stake1u9levjdzrnnjxnsaq08lgw0ejndjgkh6rmcvxuej3jkzuwgrrezn8' # Bitpanda wallet stake key 2\n",
    "handle_blockfrost_api_response(f'accounts/{stake_address}/addresses', data_dir=bitpanda_dir, paging=True)"
   ]
  },
  {
   "cell_type": "code",
   "execution_count": 6,
   "metadata": {},
   "outputs": [
    {
     "ename": "KeyboardInterrupt",
     "evalue": "",
     "output_type": "error",
     "traceback": [
      "\u001b[0;31m---------------------------------------------------------------------------\u001b[0m",
      "\u001b[0;31mKeyboardInterrupt\u001b[0m                         Traceback (most recent call last)",
      "Cell \u001b[0;32mIn[6], line 9\u001b[0m\n\u001b[1;32m      7\u001b[0m \u001b[39m# Fetch transactions from the blockfrost api for this address\u001b[39;00m\n\u001b[1;32m      8\u001b[0m transactions_endpoint \u001b[39m=\u001b[39m \u001b[39mf\u001b[39m\u001b[39m'\u001b[39m\u001b[39maddresses/\u001b[39m\u001b[39m{\u001b[39;00maddress\u001b[39m}\u001b[39;00m\u001b[39m/txs\u001b[39m\u001b[39m'\u001b[39m\n\u001b[0;32m----> 9\u001b[0m handle_blockfrost_api_response(transactions_endpoint, bitpanda_dir, parameters\u001b[39m=\u001b[39;49m{}, paging\u001b[39m=\u001b[39;49m\u001b[39mTrue\u001b[39;49;00m)\n",
      "Cell \u001b[0;32mIn[4], line 16\u001b[0m, in \u001b[0;36mhandle_blockfrost_api_response\u001b[0;34m(endpoint, data_dir, parameters, paging)\u001b[0m\n\u001b[1;32m     14\u001b[0m \u001b[39mwhile\u001b[39;00m \u001b[39mTrue\u001b[39;00m:\n\u001b[1;32m     15\u001b[0m     parameters\u001b[39m.\u001b[39mupdate({\u001b[39m'\u001b[39m\u001b[39mpage\u001b[39m\u001b[39m'\u001b[39m: page})\n\u001b[0;32m---> 16\u001b[0m     response \u001b[39m=\u001b[39m requests\u001b[39m.\u001b[39;49mget(base_url \u001b[39m+\u001b[39;49m endpoint, headers\u001b[39m=\u001b[39;49mheaders, params\u001b[39m=\u001b[39;49mparameters)\n\u001b[1;32m     17\u001b[0m     \u001b[39mif\u001b[39;00m response\u001b[39m.\u001b[39mstatus_code \u001b[39m==\u001b[39m \u001b[39m200\u001b[39m:\n\u001b[1;32m     18\u001b[0m         data \u001b[39m=\u001b[39m response\u001b[39m.\u001b[39mjson()\n",
      "File \u001b[0;32m~/miniconda3/envs/caa_venv/lib/python3.9/site-packages/requests/api.py:73\u001b[0m, in \u001b[0;36mget\u001b[0;34m(url, params, **kwargs)\u001b[0m\n\u001b[1;32m     62\u001b[0m \u001b[39mdef\u001b[39;00m \u001b[39mget\u001b[39m(url, params\u001b[39m=\u001b[39m\u001b[39mNone\u001b[39;00m, \u001b[39m*\u001b[39m\u001b[39m*\u001b[39mkwargs):\n\u001b[1;32m     63\u001b[0m \u001b[39m    \u001b[39m\u001b[39mr\u001b[39m\u001b[39m\"\"\"Sends a GET request.\u001b[39;00m\n\u001b[1;32m     64\u001b[0m \n\u001b[1;32m     65\u001b[0m \u001b[39m    :param url: URL for the new :class:`Request` object.\u001b[39;00m\n\u001b[0;32m   (...)\u001b[0m\n\u001b[1;32m     70\u001b[0m \u001b[39m    :rtype: requests.Response\u001b[39;00m\n\u001b[1;32m     71\u001b[0m \u001b[39m    \"\"\"\u001b[39;00m\n\u001b[0;32m---> 73\u001b[0m     \u001b[39mreturn\u001b[39;00m request(\u001b[39m\"\u001b[39;49m\u001b[39mget\u001b[39;49m\u001b[39m\"\u001b[39;49m, url, params\u001b[39m=\u001b[39;49mparams, \u001b[39m*\u001b[39;49m\u001b[39m*\u001b[39;49mkwargs)\n",
      "File \u001b[0;32m~/miniconda3/envs/caa_venv/lib/python3.9/site-packages/requests/api.py:59\u001b[0m, in \u001b[0;36mrequest\u001b[0;34m(method, url, **kwargs)\u001b[0m\n\u001b[1;32m     55\u001b[0m \u001b[39m# By using the 'with' statement we are sure the session is closed, thus we\u001b[39;00m\n\u001b[1;32m     56\u001b[0m \u001b[39m# avoid leaving sockets open which can trigger a ResourceWarning in some\u001b[39;00m\n\u001b[1;32m     57\u001b[0m \u001b[39m# cases, and look like a memory leak in others.\u001b[39;00m\n\u001b[1;32m     58\u001b[0m \u001b[39mwith\u001b[39;00m sessions\u001b[39m.\u001b[39mSession() \u001b[39mas\u001b[39;00m session:\n\u001b[0;32m---> 59\u001b[0m     \u001b[39mreturn\u001b[39;00m session\u001b[39m.\u001b[39;49mrequest(method\u001b[39m=\u001b[39;49mmethod, url\u001b[39m=\u001b[39;49murl, \u001b[39m*\u001b[39;49m\u001b[39m*\u001b[39;49mkwargs)\n",
      "File \u001b[0;32m~/miniconda3/envs/caa_venv/lib/python3.9/site-packages/requests/sessions.py:587\u001b[0m, in \u001b[0;36mSession.request\u001b[0;34m(self, method, url, params, data, headers, cookies, files, auth, timeout, allow_redirects, proxies, hooks, stream, verify, cert, json)\u001b[0m\n\u001b[1;32m    582\u001b[0m send_kwargs \u001b[39m=\u001b[39m {\n\u001b[1;32m    583\u001b[0m     \u001b[39m\"\u001b[39m\u001b[39mtimeout\u001b[39m\u001b[39m\"\u001b[39m: timeout,\n\u001b[1;32m    584\u001b[0m     \u001b[39m\"\u001b[39m\u001b[39mallow_redirects\u001b[39m\u001b[39m\"\u001b[39m: allow_redirects,\n\u001b[1;32m    585\u001b[0m }\n\u001b[1;32m    586\u001b[0m send_kwargs\u001b[39m.\u001b[39mupdate(settings)\n\u001b[0;32m--> 587\u001b[0m resp \u001b[39m=\u001b[39m \u001b[39mself\u001b[39;49m\u001b[39m.\u001b[39;49msend(prep, \u001b[39m*\u001b[39;49m\u001b[39m*\u001b[39;49msend_kwargs)\n\u001b[1;32m    589\u001b[0m \u001b[39mreturn\u001b[39;00m resp\n",
      "File \u001b[0;32m~/miniconda3/envs/caa_venv/lib/python3.9/site-packages/requests/sessions.py:701\u001b[0m, in \u001b[0;36mSession.send\u001b[0;34m(self, request, **kwargs)\u001b[0m\n\u001b[1;32m    698\u001b[0m start \u001b[39m=\u001b[39m preferred_clock()\n\u001b[1;32m    700\u001b[0m \u001b[39m# Send the request\u001b[39;00m\n\u001b[0;32m--> 701\u001b[0m r \u001b[39m=\u001b[39m adapter\u001b[39m.\u001b[39;49msend(request, \u001b[39m*\u001b[39;49m\u001b[39m*\u001b[39;49mkwargs)\n\u001b[1;32m    703\u001b[0m \u001b[39m# Total elapsed time of the request (approximately)\u001b[39;00m\n\u001b[1;32m    704\u001b[0m elapsed \u001b[39m=\u001b[39m preferred_clock() \u001b[39m-\u001b[39m start\n",
      "File \u001b[0;32m~/miniconda3/envs/caa_venv/lib/python3.9/site-packages/requests/adapters.py:489\u001b[0m, in \u001b[0;36mHTTPAdapter.send\u001b[0;34m(self, request, stream, timeout, verify, cert, proxies)\u001b[0m\n\u001b[1;32m    487\u001b[0m \u001b[39mtry\u001b[39;00m:\n\u001b[1;32m    488\u001b[0m     \u001b[39mif\u001b[39;00m \u001b[39mnot\u001b[39;00m chunked:\n\u001b[0;32m--> 489\u001b[0m         resp \u001b[39m=\u001b[39m conn\u001b[39m.\u001b[39;49murlopen(\n\u001b[1;32m    490\u001b[0m             method\u001b[39m=\u001b[39;49mrequest\u001b[39m.\u001b[39;49mmethod,\n\u001b[1;32m    491\u001b[0m             url\u001b[39m=\u001b[39;49murl,\n\u001b[1;32m    492\u001b[0m             body\u001b[39m=\u001b[39;49mrequest\u001b[39m.\u001b[39;49mbody,\n\u001b[1;32m    493\u001b[0m             headers\u001b[39m=\u001b[39;49mrequest\u001b[39m.\u001b[39;49mheaders,\n\u001b[1;32m    494\u001b[0m             redirect\u001b[39m=\u001b[39;49m\u001b[39mFalse\u001b[39;49;00m,\n\u001b[1;32m    495\u001b[0m             assert_same_host\u001b[39m=\u001b[39;49m\u001b[39mFalse\u001b[39;49;00m,\n\u001b[1;32m    496\u001b[0m             preload_content\u001b[39m=\u001b[39;49m\u001b[39mFalse\u001b[39;49;00m,\n\u001b[1;32m    497\u001b[0m             decode_content\u001b[39m=\u001b[39;49m\u001b[39mFalse\u001b[39;49;00m,\n\u001b[1;32m    498\u001b[0m             retries\u001b[39m=\u001b[39;49m\u001b[39mself\u001b[39;49m\u001b[39m.\u001b[39;49mmax_retries,\n\u001b[1;32m    499\u001b[0m             timeout\u001b[39m=\u001b[39;49mtimeout,\n\u001b[1;32m    500\u001b[0m         )\n\u001b[1;32m    502\u001b[0m     \u001b[39m# Send the request.\u001b[39;00m\n\u001b[1;32m    503\u001b[0m     \u001b[39melse\u001b[39;00m:\n\u001b[1;32m    504\u001b[0m         \u001b[39mif\u001b[39;00m \u001b[39mhasattr\u001b[39m(conn, \u001b[39m\"\u001b[39m\u001b[39mproxy_pool\u001b[39m\u001b[39m\"\u001b[39m):\n",
      "File \u001b[0;32m~/miniconda3/envs/caa_venv/lib/python3.9/site-packages/urllib3/connectionpool.py:703\u001b[0m, in \u001b[0;36mHTTPConnectionPool.urlopen\u001b[0;34m(self, method, url, body, headers, retries, redirect, assert_same_host, timeout, pool_timeout, release_conn, chunked, body_pos, **response_kw)\u001b[0m\n\u001b[1;32m    700\u001b[0m     \u001b[39mself\u001b[39m\u001b[39m.\u001b[39m_prepare_proxy(conn)\n\u001b[1;32m    702\u001b[0m \u001b[39m# Make the request on the httplib connection object.\u001b[39;00m\n\u001b[0;32m--> 703\u001b[0m httplib_response \u001b[39m=\u001b[39m \u001b[39mself\u001b[39;49m\u001b[39m.\u001b[39;49m_make_request(\n\u001b[1;32m    704\u001b[0m     conn,\n\u001b[1;32m    705\u001b[0m     method,\n\u001b[1;32m    706\u001b[0m     url,\n\u001b[1;32m    707\u001b[0m     timeout\u001b[39m=\u001b[39;49mtimeout_obj,\n\u001b[1;32m    708\u001b[0m     body\u001b[39m=\u001b[39;49mbody,\n\u001b[1;32m    709\u001b[0m     headers\u001b[39m=\u001b[39;49mheaders,\n\u001b[1;32m    710\u001b[0m     chunked\u001b[39m=\u001b[39;49mchunked,\n\u001b[1;32m    711\u001b[0m )\n\u001b[1;32m    713\u001b[0m \u001b[39m# If we're going to release the connection in ``finally:``, then\u001b[39;00m\n\u001b[1;32m    714\u001b[0m \u001b[39m# the response doesn't need to know about the connection. Otherwise\u001b[39;00m\n\u001b[1;32m    715\u001b[0m \u001b[39m# it will also try to release it and we'll have a double-release\u001b[39;00m\n\u001b[1;32m    716\u001b[0m \u001b[39m# mess.\u001b[39;00m\n\u001b[1;32m    717\u001b[0m response_conn \u001b[39m=\u001b[39m conn \u001b[39mif\u001b[39;00m \u001b[39mnot\u001b[39;00m release_conn \u001b[39melse\u001b[39;00m \u001b[39mNone\u001b[39;00m\n",
      "File \u001b[0;32m~/miniconda3/envs/caa_venv/lib/python3.9/site-packages/urllib3/connectionpool.py:386\u001b[0m, in \u001b[0;36mHTTPConnectionPool._make_request\u001b[0;34m(self, conn, method, url, timeout, chunked, **httplib_request_kw)\u001b[0m\n\u001b[1;32m    384\u001b[0m \u001b[39m# Trigger any extra validation we need to do.\u001b[39;00m\n\u001b[1;32m    385\u001b[0m \u001b[39mtry\u001b[39;00m:\n\u001b[0;32m--> 386\u001b[0m     \u001b[39mself\u001b[39;49m\u001b[39m.\u001b[39;49m_validate_conn(conn)\n\u001b[1;32m    387\u001b[0m \u001b[39mexcept\u001b[39;00m (SocketTimeout, BaseSSLError) \u001b[39mas\u001b[39;00m e:\n\u001b[1;32m    388\u001b[0m     \u001b[39m# Py2 raises this as a BaseSSLError, Py3 raises it as socket timeout.\u001b[39;00m\n\u001b[1;32m    389\u001b[0m     \u001b[39mself\u001b[39m\u001b[39m.\u001b[39m_raise_timeout(err\u001b[39m=\u001b[39me, url\u001b[39m=\u001b[39murl, timeout_value\u001b[39m=\u001b[39mconn\u001b[39m.\u001b[39mtimeout)\n",
      "File \u001b[0;32m~/miniconda3/envs/caa_venv/lib/python3.9/site-packages/urllib3/connectionpool.py:1042\u001b[0m, in \u001b[0;36mHTTPSConnectionPool._validate_conn\u001b[0;34m(self, conn)\u001b[0m\n\u001b[1;32m   1040\u001b[0m \u001b[39m# Force connect early to allow us to validate the connection.\u001b[39;00m\n\u001b[1;32m   1041\u001b[0m \u001b[39mif\u001b[39;00m \u001b[39mnot\u001b[39;00m \u001b[39mgetattr\u001b[39m(conn, \u001b[39m\"\u001b[39m\u001b[39msock\u001b[39m\u001b[39m\"\u001b[39m, \u001b[39mNone\u001b[39;00m):  \u001b[39m# AppEngine might not have  `.sock`\u001b[39;00m\n\u001b[0;32m-> 1042\u001b[0m     conn\u001b[39m.\u001b[39;49mconnect()\n\u001b[1;32m   1044\u001b[0m \u001b[39mif\u001b[39;00m \u001b[39mnot\u001b[39;00m conn\u001b[39m.\u001b[39mis_verified:\n\u001b[1;32m   1045\u001b[0m     warnings\u001b[39m.\u001b[39mwarn(\n\u001b[1;32m   1046\u001b[0m         (\n\u001b[1;32m   1047\u001b[0m             \u001b[39m\"\u001b[39m\u001b[39mUnverified HTTPS request is being made to host \u001b[39m\u001b[39m'\u001b[39m\u001b[39m%s\u001b[39;00m\u001b[39m'\u001b[39m\u001b[39m. \u001b[39m\u001b[39m\"\u001b[39m\n\u001b[0;32m   (...)\u001b[0m\n\u001b[1;32m   1052\u001b[0m         InsecureRequestWarning,\n\u001b[1;32m   1053\u001b[0m     )\n",
      "File \u001b[0;32m~/miniconda3/envs/caa_venv/lib/python3.9/site-packages/urllib3/connection.py:419\u001b[0m, in \u001b[0;36mHTTPSConnection.connect\u001b[0;34m(self)\u001b[0m\n\u001b[1;32m    410\u001b[0m \u001b[39mif\u001b[39;00m (\n\u001b[1;32m    411\u001b[0m     \u001b[39mnot\u001b[39;00m \u001b[39mself\u001b[39m\u001b[39m.\u001b[39mca_certs\n\u001b[1;32m    412\u001b[0m     \u001b[39mand\u001b[39;00m \u001b[39mnot\u001b[39;00m \u001b[39mself\u001b[39m\u001b[39m.\u001b[39mca_cert_dir\n\u001b[0;32m   (...)\u001b[0m\n\u001b[1;32m    415\u001b[0m     \u001b[39mand\u001b[39;00m \u001b[39mhasattr\u001b[39m(context, \u001b[39m\"\u001b[39m\u001b[39mload_default_certs\u001b[39m\u001b[39m\"\u001b[39m)\n\u001b[1;32m    416\u001b[0m ):\n\u001b[1;32m    417\u001b[0m     context\u001b[39m.\u001b[39mload_default_certs()\n\u001b[0;32m--> 419\u001b[0m \u001b[39mself\u001b[39m\u001b[39m.\u001b[39msock \u001b[39m=\u001b[39m ssl_wrap_socket(\n\u001b[1;32m    420\u001b[0m     sock\u001b[39m=\u001b[39;49mconn,\n\u001b[1;32m    421\u001b[0m     keyfile\u001b[39m=\u001b[39;49m\u001b[39mself\u001b[39;49m\u001b[39m.\u001b[39;49mkey_file,\n\u001b[1;32m    422\u001b[0m     certfile\u001b[39m=\u001b[39;49m\u001b[39mself\u001b[39;49m\u001b[39m.\u001b[39;49mcert_file,\n\u001b[1;32m    423\u001b[0m     key_password\u001b[39m=\u001b[39;49m\u001b[39mself\u001b[39;49m\u001b[39m.\u001b[39;49mkey_password,\n\u001b[1;32m    424\u001b[0m     ca_certs\u001b[39m=\u001b[39;49m\u001b[39mself\u001b[39;49m\u001b[39m.\u001b[39;49mca_certs,\n\u001b[1;32m    425\u001b[0m     ca_cert_dir\u001b[39m=\u001b[39;49m\u001b[39mself\u001b[39;49m\u001b[39m.\u001b[39;49mca_cert_dir,\n\u001b[1;32m    426\u001b[0m     ca_cert_data\u001b[39m=\u001b[39;49m\u001b[39mself\u001b[39;49m\u001b[39m.\u001b[39;49mca_cert_data,\n\u001b[1;32m    427\u001b[0m     server_hostname\u001b[39m=\u001b[39;49mserver_hostname,\n\u001b[1;32m    428\u001b[0m     ssl_context\u001b[39m=\u001b[39;49mcontext,\n\u001b[1;32m    429\u001b[0m     tls_in_tls\u001b[39m=\u001b[39;49mtls_in_tls,\n\u001b[1;32m    430\u001b[0m )\n\u001b[1;32m    432\u001b[0m \u001b[39m# If we're using all defaults and the connection\u001b[39;00m\n\u001b[1;32m    433\u001b[0m \u001b[39m# is TLSv1 or TLSv1.1 we throw a DeprecationWarning\u001b[39;00m\n\u001b[1;32m    434\u001b[0m \u001b[39m# for the host.\u001b[39;00m\n\u001b[1;32m    435\u001b[0m \u001b[39mif\u001b[39;00m (\n\u001b[1;32m    436\u001b[0m     default_ssl_context\n\u001b[1;32m    437\u001b[0m     \u001b[39mand\u001b[39;00m \u001b[39mself\u001b[39m\u001b[39m.\u001b[39mssl_version \u001b[39mis\u001b[39;00m \u001b[39mNone\u001b[39;00m\n\u001b[1;32m    438\u001b[0m     \u001b[39mand\u001b[39;00m \u001b[39mhasattr\u001b[39m(\u001b[39mself\u001b[39m\u001b[39m.\u001b[39msock, \u001b[39m\"\u001b[39m\u001b[39mversion\u001b[39m\u001b[39m\"\u001b[39m)\n\u001b[1;32m    439\u001b[0m     \u001b[39mand\u001b[39;00m \u001b[39mself\u001b[39m\u001b[39m.\u001b[39msock\u001b[39m.\u001b[39mversion() \u001b[39min\u001b[39;00m {\u001b[39m\"\u001b[39m\u001b[39mTLSv1\u001b[39m\u001b[39m\"\u001b[39m, \u001b[39m\"\u001b[39m\u001b[39mTLSv1.1\u001b[39m\u001b[39m\"\u001b[39m}\n\u001b[1;32m    440\u001b[0m ):\n",
      "File \u001b[0;32m~/miniconda3/envs/caa_venv/lib/python3.9/site-packages/urllib3/util/ssl_.py:449\u001b[0m, in \u001b[0;36mssl_wrap_socket\u001b[0;34m(sock, keyfile, certfile, cert_reqs, ca_certs, server_hostname, ssl_version, ciphers, ssl_context, ca_cert_dir, key_password, ca_cert_data, tls_in_tls)\u001b[0m\n\u001b[1;32m    437\u001b[0m     warnings\u001b[39m.\u001b[39mwarn(\n\u001b[1;32m    438\u001b[0m         \u001b[39m\"\u001b[39m\u001b[39mAn HTTPS request has been made, but the SNI (Server Name \u001b[39m\u001b[39m\"\u001b[39m\n\u001b[1;32m    439\u001b[0m         \u001b[39m\"\u001b[39m\u001b[39mIndication) extension to TLS is not available on this platform. \u001b[39m\u001b[39m\"\u001b[39m\n\u001b[0;32m   (...)\u001b[0m\n\u001b[1;32m    445\u001b[0m         SNIMissingWarning,\n\u001b[1;32m    446\u001b[0m     )\n\u001b[1;32m    448\u001b[0m \u001b[39mif\u001b[39;00m send_sni:\n\u001b[0;32m--> 449\u001b[0m     ssl_sock \u001b[39m=\u001b[39m _ssl_wrap_socket_impl(\n\u001b[1;32m    450\u001b[0m         sock, context, tls_in_tls, server_hostname\u001b[39m=\u001b[39;49mserver_hostname\n\u001b[1;32m    451\u001b[0m     )\n\u001b[1;32m    452\u001b[0m \u001b[39melse\u001b[39;00m:\n\u001b[1;32m    453\u001b[0m     ssl_sock \u001b[39m=\u001b[39m _ssl_wrap_socket_impl(sock, context, tls_in_tls)\n",
      "File \u001b[0;32m~/miniconda3/envs/caa_venv/lib/python3.9/site-packages/urllib3/util/ssl_.py:493\u001b[0m, in \u001b[0;36m_ssl_wrap_socket_impl\u001b[0;34m(sock, ssl_context, tls_in_tls, server_hostname)\u001b[0m\n\u001b[1;32m    490\u001b[0m     \u001b[39mreturn\u001b[39;00m SSLTransport(sock, ssl_context, server_hostname)\n\u001b[1;32m    492\u001b[0m \u001b[39mif\u001b[39;00m server_hostname:\n\u001b[0;32m--> 493\u001b[0m     \u001b[39mreturn\u001b[39;00m ssl_context\u001b[39m.\u001b[39;49mwrap_socket(sock, server_hostname\u001b[39m=\u001b[39;49mserver_hostname)\n\u001b[1;32m    494\u001b[0m \u001b[39melse\u001b[39;00m:\n\u001b[1;32m    495\u001b[0m     \u001b[39mreturn\u001b[39;00m ssl_context\u001b[39m.\u001b[39mwrap_socket(sock)\n",
      "File \u001b[0;32m~/miniconda3/envs/caa_venv/lib/python3.9/ssl.py:500\u001b[0m, in \u001b[0;36mSSLContext.wrap_socket\u001b[0;34m(self, sock, server_side, do_handshake_on_connect, suppress_ragged_eofs, server_hostname, session)\u001b[0m\n\u001b[1;32m    494\u001b[0m \u001b[39mdef\u001b[39;00m \u001b[39mwrap_socket\u001b[39m(\u001b[39mself\u001b[39m, sock, server_side\u001b[39m=\u001b[39m\u001b[39mFalse\u001b[39;00m,\n\u001b[1;32m    495\u001b[0m                 do_handshake_on_connect\u001b[39m=\u001b[39m\u001b[39mTrue\u001b[39;00m,\n\u001b[1;32m    496\u001b[0m                 suppress_ragged_eofs\u001b[39m=\u001b[39m\u001b[39mTrue\u001b[39;00m,\n\u001b[1;32m    497\u001b[0m                 server_hostname\u001b[39m=\u001b[39m\u001b[39mNone\u001b[39;00m, session\u001b[39m=\u001b[39m\u001b[39mNone\u001b[39;00m):\n\u001b[1;32m    498\u001b[0m     \u001b[39m# SSLSocket class handles server_hostname encoding before it calls\u001b[39;00m\n\u001b[1;32m    499\u001b[0m     \u001b[39m# ctx._wrap_socket()\u001b[39;00m\n\u001b[0;32m--> 500\u001b[0m     \u001b[39mreturn\u001b[39;00m \u001b[39mself\u001b[39;49m\u001b[39m.\u001b[39;49msslsocket_class\u001b[39m.\u001b[39;49m_create(\n\u001b[1;32m    501\u001b[0m         sock\u001b[39m=\u001b[39;49msock,\n\u001b[1;32m    502\u001b[0m         server_side\u001b[39m=\u001b[39;49mserver_side,\n\u001b[1;32m    503\u001b[0m         do_handshake_on_connect\u001b[39m=\u001b[39;49mdo_handshake_on_connect,\n\u001b[1;32m    504\u001b[0m         suppress_ragged_eofs\u001b[39m=\u001b[39;49msuppress_ragged_eofs,\n\u001b[1;32m    505\u001b[0m         server_hostname\u001b[39m=\u001b[39;49mserver_hostname,\n\u001b[1;32m    506\u001b[0m         context\u001b[39m=\u001b[39;49m\u001b[39mself\u001b[39;49m,\n\u001b[1;32m    507\u001b[0m         session\u001b[39m=\u001b[39;49msession\n\u001b[1;32m    508\u001b[0m     )\n",
      "File \u001b[0;32m~/miniconda3/envs/caa_venv/lib/python3.9/ssl.py:1040\u001b[0m, in \u001b[0;36mSSLSocket._create\u001b[0;34m(cls, sock, server_side, do_handshake_on_connect, suppress_ragged_eofs, server_hostname, context, session)\u001b[0m\n\u001b[1;32m   1037\u001b[0m         \u001b[39mif\u001b[39;00m timeout \u001b[39m==\u001b[39m \u001b[39m0.0\u001b[39m:\n\u001b[1;32m   1038\u001b[0m             \u001b[39m# non-blocking\u001b[39;00m\n\u001b[1;32m   1039\u001b[0m             \u001b[39mraise\u001b[39;00m \u001b[39mValueError\u001b[39;00m(\u001b[39m\"\u001b[39m\u001b[39mdo_handshake_on_connect should not be specified for non-blocking sockets\u001b[39m\u001b[39m\"\u001b[39m)\n\u001b[0;32m-> 1040\u001b[0m         \u001b[39mself\u001b[39;49m\u001b[39m.\u001b[39;49mdo_handshake()\n\u001b[1;32m   1041\u001b[0m \u001b[39mexcept\u001b[39;00m (\u001b[39mOSError\u001b[39;00m, \u001b[39mValueError\u001b[39;00m):\n\u001b[1;32m   1042\u001b[0m     \u001b[39mself\u001b[39m\u001b[39m.\u001b[39mclose()\n",
      "File \u001b[0;32m~/miniconda3/envs/caa_venv/lib/python3.9/ssl.py:1309\u001b[0m, in \u001b[0;36mSSLSocket.do_handshake\u001b[0;34m(self, block)\u001b[0m\n\u001b[1;32m   1307\u001b[0m     \u001b[39mif\u001b[39;00m timeout \u001b[39m==\u001b[39m \u001b[39m0.0\u001b[39m \u001b[39mand\u001b[39;00m block:\n\u001b[1;32m   1308\u001b[0m         \u001b[39mself\u001b[39m\u001b[39m.\u001b[39msettimeout(\u001b[39mNone\u001b[39;00m)\n\u001b[0;32m-> 1309\u001b[0m     \u001b[39mself\u001b[39;49m\u001b[39m.\u001b[39;49m_sslobj\u001b[39m.\u001b[39;49mdo_handshake()\n\u001b[1;32m   1310\u001b[0m \u001b[39mfinally\u001b[39;00m:\n\u001b[1;32m   1311\u001b[0m     \u001b[39mself\u001b[39m\u001b[39m.\u001b[39msettimeout(timeout)\n",
      "\u001b[0;31mKeyboardInterrupt\u001b[0m: "
     ]
    }
   ],
   "source": [
    "# Get transactions associated with addresses\n",
    "for json_file in bitpanda_dir.glob('accounts/**/*.json'):\n",
    "    with json_file.open('r') as f:\n",
    "        addresses = json.load(f)\n",
    "        for item in addresses:\n",
    "            address = item['address']\n",
    "            # Fetch transactions from the blockfrost api for this address\n",
    "            transactions_endpoint = f'addresses/{address}/txs'\n",
    "            handle_blockfrost_api_response(transactions_endpoint, bitpanda_dir, parameters={}, paging=True)"
   ]
  },
  {
   "cell_type": "code",
   "execution_count": 7,
   "metadata": {},
   "outputs": [
    {
     "name": "stderr",
     "output_type": "stream",
     "text": [
      "12663it [00:01, 8235.32it/s]\n"
     ]
    },
    {
     "data": {
      "text/plain": [
       "44556"
      ]
     },
     "execution_count": 7,
     "metadata": {},
     "output_type": "execute_result"
    }
   ],
   "source": [
    "all_hashes = []\n",
    "for tx_file in tqdm(bitpanda_dir.glob('addresses/*/txs/*.json')):\n",
    "    # Open each json file of transaction hashes\n",
    "    with tx_file.open('r') as f:\n",
    "        tx_hashes = json.load(f)\n",
    "    # Get transaction details for each transaction hash\n",
    "    for tx_hash in tx_hashes:\n",
    "        all_hashes.append(tx_hash)\n",
    "len(all_hashes)"
   ]
  },
  {
   "cell_type": "code",
   "execution_count": 9,
   "metadata": {},
   "outputs": [
    {
     "name": "stderr",
     "output_type": "stream",
     "text": [
      "100%|██████████| 44556/44556 [1:56:10<00:00,  6.39it/s]  \n"
     ]
    }
   ],
   "source": [
    "for tx_hash in tqdm(all_hashes):\n",
    "    # if not in all_hashes: # TODO: gibt schon directory in bitpanda addrasses\n",
    "    handle_blockfrost_api_response(f'txs/{tx_hash}/utxos', data_dir=bitpanda_dir)"
   ]
  },
  {
   "attachments": {},
   "cell_type": "markdown",
   "metadata": {},
   "source": [
    "#### Preprocess"
   ]
  },
  {
   "cell_type": "code",
   "execution_count": 52,
   "metadata": {},
   "outputs": [],
   "source": [
    "account_data = []\n",
    "\n",
    "# Iterate over all account directories\n",
    "for account_dir in (bitpanda_dir / 'accounts').glob('*'):\n",
    "    stake_key = account_dir.name\n",
    "    # Read address info\n",
    "    for address_file in account_dir.glob('addresses/*.json'):\n",
    "        with open(address_file, 'r') as f:\n",
    "            addresses = json.load(f)\n",
    "        # Extract associated addresses\n",
    "        for address in addresses:\n",
    "            account_data.append({\n",
    "                'stake_key': stake_key,\n",
    "                'address': address['address'],\n",
    "            })\n",
    "\n",
    "# Convert to a DataFrame\n",
    "account_df = pd.DataFrame(account_data)\n",
    "account_df.to_csv(data_dir / 'preprocessed/bitpanda/accounts.csv', index=False)"
   ]
  },
  {
   "cell_type": "code",
   "execution_count": 54,
   "metadata": {},
   "outputs": [],
   "source": [
    "tx_data = []\n",
    "\n",
    "# Iterate over all address directories\n",
    "for address_dir in (bitpanda_dir / 'addresses').glob('*'):\n",
    "    address = address_dir.name\n",
    "    # Read transaction info\n",
    "    for tx_file in address_dir.glob('txs/*.json'):\n",
    "        with open(tx_file, 'r') as f:\n",
    "            txs = json.load(f)\n",
    "        # Extract transaction ids\n",
    "        for tx in txs:\n",
    "            tx_data.append({\n",
    "                'address': address,\n",
    "                'tx_id': tx,\n",
    "            })\n",
    "\n",
    "# Convert to a DataFrame\n",
    "tx_df = pd.DataFrame(tx_data)\n",
    "tx_df.to_csv(data_dir / 'preprocessed/bitpanda/txs.csv', index=False)"
   ]
  },
  {
   "cell_type": "code",
   "execution_count": 10,
   "metadata": {},
   "outputs": [],
   "source": [
    "# TODO preprocess utxos after run\n",
    "# code should work already\n",
    "\n",
    "utxo_data = []\n",
    "\n",
    "# Iterate over all transaction directories\n",
    "for tx_dir in (bitpanda_dir / 'txs').glob('*'):\n",
    "    tx_id = tx_dir.name\n",
    "    # Read utxos info\n",
    "    for utxo_file in tx_dir.glob('utxos/*.json'):\n",
    "        with open(utxo_file, 'r') as f:\n",
    "            utxos = json.load(f)\n",
    "        # Extract inputs\n",
    "        for input_utxo in utxos['inputs']:\n",
    "            utxo_data.append({\n",
    "                'tx_id': tx_id,\n",
    "                'address': input_utxo['address'],\n",
    "                'utxo_type': 'input',\n",
    "                'amount': input_utxo['amount'][0]['quantity']\n",
    "            })\n",
    "        # Extract outputs\n",
    "        for output_utxo in utxos['outputs']:\n",
    "            utxo_data.append({\n",
    "                'tx_id': tx_id,\n",
    "                'address': output_utxo['address'],\n",
    "                'utxo_type': 'output',\n",
    "                'amount': output_utxo['amount'][0]['quantity']\n",
    "            })\n",
    "\n",
    "# Convert to a DataFrame\n",
    "utxo_df = pd.DataFrame(utxo_data)\n",
    "utxo_df.to_csv(data_dir / 'preprocessed/bitpanda/utxos.csv', index=False)"
   ]
  },
  {
   "attachments": {},
   "cell_type": "markdown",
   "metadata": {},
   "source": [
    "## Binance"
   ]
  },
  {
   "cell_type": "code",
   "execution_count": 5,
   "metadata": {},
   "outputs": [
    {
     "data": {
      "application/vnd.jupyter.widget-view+json": {
       "model_id": "2398aed77ef145c48311c4976ef98c9f",
       "version_major": 2,
       "version_minor": 0
      },
      "text/plain": [
       "  0%|          | 0/79 [00:00<?, ?it/s]"
      ]
     },
     "metadata": {},
     "output_type": "display_data"
    }
   ],
   "source": [
    "from tqdm.auto import tqdm\n",
    "\n",
    "# For each staking_id, fetch pool info and delegated addresses\n",
    "for staking_id in tqdm(binance_ground_truth['staking_ids']):\n",
    "    # Fetch pool info\n",
    "    pool_info_endpoint = f'pools/{staking_id}'\n",
    "    handle_blockfrost_api_response(pool_info_endpoint, binance_dir, parameters={}, paging=False)\n",
    "    \n",
    "    # Fetch delegated addresses\n",
    "    delegated_addresses_endpoint = f'pools/{staking_id}/delegators'\n",
    "    handle_blockfrost_api_response(delegated_addresses_endpoint, binance_dir, parameters={}, paging=True)"
   ]
  },
  {
   "cell_type": "code",
   "execution_count": 9,
   "metadata": {},
   "outputs": [
    {
     "data": {
      "application/vnd.jupyter.widget-view+json": {
       "model_id": "11b9fbb2d13443748789bea733433b60",
       "version_major": 2,
       "version_minor": 0
      },
      "text/plain": [
       "0it [00:00, ?it/s]"
      ]
     },
     "metadata": {},
     "output_type": "display_data"
    }
   ],
   "source": [
    "# Iterate over all pool directories\n",
    "for pool_dir in tqdm(binance_dir.glob('pools/*')):\n",
    "    # Get pool info\n",
    "    pool_info_file = next(pool_dir.glob('*.json'))\n",
    "    with pool_info_file.open('r') as f:\n",
    "        pool_info = json.load(f)\n",
    "    for owner in pool_info['owners']:\n",
    "        # Fetch addresses associated with stake address\n",
    "        handle_blockfrost_api_response(f'accounts/{owner}/addresses', data_dir=binance_dir, paging=True)\n",
    "    # Iterate over delegators json files\n",
    "    for delegators_file in pool_dir.glob('delegators/*.json'):\n",
    "        # Open each json file of delegators\n",
    "        with delegators_file.open('r') as f:\n",
    "            delegators = json.load(f)\n",
    "        # Get transactions for each delegator\n",
    "        for delegator in delegators:\n",
    "            delegator_stake_address = delegator['address']\n",
    "            # Fetch addresses associated with stake address\n",
    "            handle_blockfrost_api_response(f'accounts/{delegator_stake_address}/addresses', data_dir=binance_dir, paging=True)"
   ]
  },
  {
   "cell_type": "code",
   "execution_count": 10,
   "metadata": {},
   "outputs": [
    {
     "data": {
      "application/vnd.jupyter.widget-view+json": {
       "model_id": "e6d54c2fc7754ee9a81f2fc1c054c8e2",
       "version_major": 2,
       "version_minor": 0
      },
      "text/plain": [
       "0it [00:00, ?it/s]"
      ]
     },
     "metadata": {},
     "output_type": "display_data"
    }
   ],
   "source": [
    "# Iterate over all stake address directories\n",
    "for stake_dir in tqdm(binance_dir.glob('accounts/*')):\n",
    "    # Iterate over addresses json files\n",
    "    for addresses_file in stake_dir.glob('addresses/*.json'):\n",
    "        # Open each json file of addresses\n",
    "        with addresses_file.open('r') as f:\n",
    "            addresses = json.load(f)\n",
    "        # Get transactions for each address\n",
    "        for address in addresses:\n",
    "            addr_address = address['address']\n",
    "            # Fetch transactions associated with this address\n",
    "            handle_blockfrost_api_response(f'addresses/{addr_address}/txs', data_dir=binance_dir, paging=True)"
   ]
  },
  {
   "cell_type": "code",
   "execution_count": 14,
   "metadata": {},
   "outputs": [
    {
     "data": {
      "application/vnd.jupyter.widget-view+json": {
       "model_id": "1231c328d35e4d21a53b60aa2ec76dbb",
       "version_major": 2,
       "version_minor": 0
      },
      "text/plain": [
       "0it [00:00, ?it/s]"
      ]
     },
     "metadata": {},
     "output_type": "display_data"
    }
   ],
   "source": [
    "for tx_file in tqdm(binance_dir.glob('addresses/*/txs/*.json')):\n",
    "    # Open each json file of transaction hashes\n",
    "    with tx_file.open('r') as f:\n",
    "        tx_hashes = json.load(f)\n",
    "    # Get transaction details for each transaction hash\n",
    "    for tx_hash in tx_hashes:\n",
    "        handle_blockfrost_api_response(f'txs/{tx_hash}/utxos', data_dir=binance_dir)"
   ]
  },
  {
   "attachments": {},
   "cell_type": "markdown",
   "metadata": {},
   "source": [
    "#### Preprocess"
   ]
  },
  {
   "cell_type": "code",
   "execution_count": 48,
   "metadata": {},
   "outputs": [],
   "source": [
    "pool_data = []\n",
    "\n",
    "# Iterate over all pool directories\n",
    "for pool_dir in (binance_dir / 'pools').glob('*'):\n",
    "    pool_id = pool_dir.name\n",
    "    # Read pool info\n",
    "    with open(pool_dir / '1.json', 'r') as f:\n",
    "        pool_info = json.load(f)\n",
    "    # Extract owner addresses\n",
    "    for owner in pool_info['owners']:\n",
    "        pool_data.append({\n",
    "            'pool_id': pool_id,\n",
    "            'stake_key': owner,\n",
    "            'type': 'owner'\n",
    "        })\n",
    "    # Read delegator info\n",
    "    for delegators_file in pool_dir.glob('delegators/*.json'):\n",
    "        with open(delegators_file, 'r') as f:\n",
    "            delegators = json.load(f)\n",
    "        # Extract delegator addresses\n",
    "        for delegator in delegators:\n",
    "            pool_data.append({\n",
    "                'pool_id': pool_id,\n",
    "                'stake_key': delegator['address'],\n",
    "                'type': 'delegator'\n",
    "            })\n",
    "\n",
    "# Convert to a DataFrame\n",
    "pool_df = pd.DataFrame(pool_data)\n",
    "pool_df.to_csv(data_dir / 'preprocessed/binance/pools.csv', index=False)"
   ]
  },
  {
   "cell_type": "code",
   "execution_count": 49,
   "metadata": {},
   "outputs": [],
   "source": [
    "account_data = []\n",
    "\n",
    "# Iterate over all account directories\n",
    "for account_dir in (binance_dir / 'accounts').glob('*'):\n",
    "    stake_key = account_dir.name\n",
    "    # Read address info\n",
    "    for address_file in account_dir.glob('addresses/*.json'):\n",
    "        with open(address_file, 'r') as f:\n",
    "            addresses = json.load(f)\n",
    "        # Extract associated addresses\n",
    "        for address in addresses:\n",
    "            account_data.append({\n",
    "                'stake_key': stake_key,\n",
    "                'address': address['address'],\n",
    "            })\n",
    "\n",
    "# Convert to a DataFrame\n",
    "account_df = pd.DataFrame(account_data)\n",
    "account_df.to_csv(data_dir / 'preprocessed/binance/accounts.csv', index=False)"
   ]
  },
  {
   "cell_type": "code",
   "execution_count": 50,
   "metadata": {},
   "outputs": [],
   "source": [
    "tx_data = []\n",
    "\n",
    "# Iterate over all address directories\n",
    "for address_dir in (binance_dir / 'addresses').glob('*'):\n",
    "    address = address_dir.name\n",
    "    # Read transaction info\n",
    "    for tx_file in address_dir.glob('txs/*.json'):\n",
    "        with open(tx_file, 'r') as f:\n",
    "            txs = json.load(f)\n",
    "        # Extract transaction ids\n",
    "        for tx in txs:\n",
    "            tx_data.append({\n",
    "                'address': address,\n",
    "                'tx_id': tx,\n",
    "            })\n",
    "\n",
    "# Convert to a DataFrame\n",
    "tx_df = pd.DataFrame(tx_data)\n",
    "tx_df.to_csv(data_dir / 'preprocessed/binance/txs.csv', index=False)"
   ]
  },
  {
   "cell_type": "code",
   "execution_count": 51,
   "metadata": {},
   "outputs": [],
   "source": [
    "utxo_data = []\n",
    "\n",
    "# Iterate over all transaction directories\n",
    "for tx_dir in (binance_dir / 'txs').glob('*'):\n",
    "    tx_id = tx_dir.name\n",
    "    # Read utxos info\n",
    "    for utxo_file in tx_dir.glob('utxos/*.json'):\n",
    "        with open(utxo_file, 'r') as f:\n",
    "            utxos = json.load(f)\n",
    "        # Extract inputs\n",
    "        for input_utxo in utxos['inputs']:\n",
    "            utxo_data.append({\n",
    "                'tx_id': tx_id,\n",
    "                'address': input_utxo['address'],\n",
    "                'utxo_type': 'input',\n",
    "                'amount': input_utxo['amount'][0]['quantity']\n",
    "            })\n",
    "        # Extract outputs\n",
    "        for output_utxo in utxos['outputs']:\n",
    "            utxo_data.append({\n",
    "                'tx_id': tx_id,\n",
    "                'address': output_utxo['address'],\n",
    "                'utxo_type': 'output',\n",
    "                'amount': output_utxo['amount'][0]['quantity']\n",
    "            })\n",
    "\n",
    "# Convert to a DataFrame\n",
    "utxo_df = pd.DataFrame(utxo_data)\n",
    "utxo_df.to_csv(data_dir / 'preprocessed/binance/utxos.csv', index=False)"
   ]
  },
  {
   "attachments": {},
   "cell_type": "markdown",
   "metadata": {},
   "source": [
    "# Notes"
   ]
  },
  {
   "cell_type": "code",
   "execution_count": null,
   "metadata": {},
   "outputs": [],
   "source": [
    "binance_ground_truth = {\n",
    "    'deposit_addrs': [ # Byron address\n",
    "        'DdzFFzCqrht8FRiABBs8Mpbo2zW2QzEbhQWFXgar9jicwUhmsg8BwFeqSzfztBdVtzhLMppUfJEuzn2NAmmT8ehSntj3ihaf4JL29o7R', # Not traceable, unique address from user\n",
    "    ],\n",
    "    'withdraw_txs': [ # Look at inputs\n",
    "        'a72c1329f2de674bcb262276b097460b69ec02bd9a94f0f9934583e05601d144' # Unique addres, no associated stake keys, transaction contains many unique addresses -> same owner\n",
    "    ],\n",
    "    'staking_ids': [ # BNP pools, get info with https://docs.blockfrost.io/#tag/Cardano-Pools/paths/~1pools~1%7Bpool_id%7D/get\n",
    "        '279d3af9d898261a19860ebc05eed79104915f05ad9f6960b530c3a2', # 45\n",
    "        'd4970177385f7c3c90f51af3dbc4a865221778b48f23e4dc60dd4a67', # 42\n",
    "        '625ae8c8aaaead6ceebf262f380245cb61b4a3e96199b27eb9b01ad9', # 35\n",
    "        '7a990e7ee931f9d548a977d5cf2194f26f7e2f1158752e0bb94a073f', # 34\n",
    "        '3200ed8ab323773d4d1a64333a0d79b93dc8f3a45c37f88141e34317', # 36\n",
    "        '72583cf41012446cd1ca839c10049ecd65d31664b11e63d286041d61', # 59\n",
    "        'c1bef45a2abbb3a862cdd9142236dff38763cc32e91fc8f282823ee6', # 31\n",
    "        '9418abb33c7cf50778598371bc1f09fe5460d1dedf740faea665f4ac', # 40\n",
    "        '96a46d5a796a30483492c3717f80b7c6ef87e9525af162ffacf74fdb', # 50\n",
    "        'ffb3fe58689ae0d70d6fb939a842ee78ecfa10eab561274327e78b7b', # 41\n",
    "        '639288b5e4bf267ece78e9a4941dd794f50ec54785f84c687b4ab086', # 38\n",
    "        '21ad7ca84128f182623df17e6cb29ca1e83889e0013f1004cf5beb73', # 43\n",
    "        'cb9a5414581696cf9176787e99472790355a7de61d67a5643da95a86', # 30\n",
    "        'e645c034522f32522bf1c64a7f46128c562880abc26abe5f65f25a84', # 69\n",
    "        '40ff71258d2c73da9e2a5ee3abb9be256e745e7f74c31eb8d4be5299', # 51\n",
    "        '243499b53228f5953bb906c8af0fb996002dd78712e430aa7d116964', # 32\n",
    "        'b21ddee9370f41c3b2b71da34f8a57943ba59034a777b80aed503c2b', # 33\n",
    "        '3caaa49b3f45a914736c393c97c4bb8611ab7d5f66ecb4e214e93606', # 58\n",
    "        'a7784228ea544bc94455e76f527aaee53266929f0bb2896893a0444f', # 57\n",
    "        'a250eb51869c6b94cbc507d22e76ed0f35d31ccabdb1725cfbcddb75', # 56\n",
    "        'b44181287c72d0c7b1bce6a57173cdf739ac77d030bdfc4606138dd2', # 55\n",
    "        '4b5e02dce5f549a0c332d8b02f91c43a506311fe1cd4498ddcf46bd0', # 21\n",
    "        '204f49517b4b9df91efb81b030a9b33738f4f0f43819fd2c39cb438b', # 68\n",
    "        '3d82913d4c8da690aab6af622651f7a659da40af87dcb4b3b98ce830', # 71\n",
    "        '7e00129d906afbba06a6b279fcf6e4295986a1104b7f5c4046c653bc', # 54\n",
    "        'caf8502f66536e95138fbf23c14abde1d13090d4aef52b9287f682e8', # 70\n",
    "        'beb5390bc047831874ad69f615a6f023ea121865c75ec389d6c0a392', # 53\n",
    "        'e0ac9f1b68d0621a4e6723f369a50e81f27916acb7cd42bc03eaac93', # 73\n",
    "        '936316c217c6f217640ed8d132cb0ff8133eef73e74e4c28002b9eb3', # 72\n",
    "        '662796197f741c9b9f0d9830530d01300ee5c63f549784ff2ac81c17', # 52\n",
    "        '662796197f741c9b9f0d9830530d01300ee5c63f549784ff2ac81c17', # 46\n",
    "        '82906c841da0f4010b2fa1a2c3726b5571b02eea6abfb48d7c6a4184', # 47\n",
    "        '2352f8c7d0b9f0bf5b342c135d5b25c910491deec1440bd9d27799a6', # 48\n",
    "        '2c88e3a7f6279bda114f92dbbcd78b734f0ebff40ff2bdce647e9c53', # 49\n",
    "        'f99151a5fd003b8bb92ba2af02ed6efec2923b520189cf89e1c264aa', # 60\n",
    "        'd2b32bb469f6e8bcd6e1e0ba818716d317e3f26d0a93f317b08fdced', # 61\n",
    "        '11c660b87cb43e4720b053895b3137b4c08f367dbd030127c9c6de9e', # 62\n",
    "        'c51e4e6cb25065ad0740249c66eafa11e186120602aff1cdca53110a', # 63\n",
    "        'cf2b0acb72eecb56a05ba6b79922d4b47fedfb93b168a2eb1e5fa260', # 64\n",
    "        '61d2598400211dcda6878511eb6d84719e5c502c7aa63d500f7a57ce', # 65\n",
    "        'c1d314a78a43f3d5baa9c2e4105015384211416f220af4a24a8ea3ee', # 66\n",
    "        '533a710c19bdddc144ab19900d37a81488088259981a5d4885031ce3', # 67\n",
    "        '6ef88ef4638cc0fd78a9ebd560727f4ef04334c92441cc14c5868a20', # 78\n",
    "        'e0d44ad70881125fd5e4a99b8f3a38710e7623722d1b9eafab102600', # 77\n",
    "        '2c08d16625e9db8c13f81032add67387c23c9166fca89e55ef980d64', # 76\n",
    "        '7d636b630ae3b6d4fb4e46a443bd764384b104790a87db1081dbb15d', # 75\n",
    "        '704a1d0fe11f573478771b082d6f12043efaffa63319ce3f5cde28c4', # 74\n",
    "        'cb91386ed557e497bdc45f5c9c7e2dc76172a4f457289195598f9c03', # 1\n",
    "        '1575d127ca11492f83430cd0e9d204450dc09e587239c52d542cd1fa', # 2\n",
    "        'd31b91228fc1dedbc3c795d3f7a0201e8eb1af60255e60fdd12acbb4', # 3\n",
    "        'f7b96ff0848ac1ad86f60fac90e756e54e381cd53ff3e22a20e672f3', # 4\n",
    "        'c974db0e14dc25c261c2aed2fb034922fe279aa7dcc7c1d108e24161', # 5\n",
    "        'fb110d21b847e3f4631ef38dbe120b39ab72a0d85ddfe0886478d306', # 7\n",
    "        '8d5b59b6d7782b1d92c0b954ab3ed718edbf0fe1b48f1acb9ab3a5dd', # 6\n",
    "        '0ac5fabd6b2f75f5583a4de5b141115ab7d036ee66b13070f6968c81', # 8\n",
    "        '49cb80cc9bad4696515291ce98a14fe987d7550547ba8fcc1044bea5', # 9\n",
    "        'ff8ce26a1076026c64292eeb186455b390341b8ea66d7b75928d95f6', # 10\n",
    "        'f62bc8f972c4bb926df8853694b1b62119ea8ed7c0af38203fca6b09', # 11\n",
    "        '556e4281187cee08332ad1ed2a0e910b05e0850a2d01a1a9af848d07', # 12\n",
    "        '576f80a12815b6a28bb271d284825beea6885a1e136d558fc051de17', # 13\n",
    "        'fa610fe0a56f4f2bca9d08b0b84d3bf6ad2c6a6d263579927d462473', # 14\n",
    "        '60014da0f8c033b90e9cb27b53f7daf3412877d3ec0e69853ebf1981', # 15\n",
    "        'd60a72f6f3a1d42a47a292763ca0884f305b56bc880be701049bc46e', # 16\n",
    "        '39b60916e5f2ccaad362b09e907d9d85050cbd22b94db9943a17bdd9', # 17\n",
    "        '90264742df54caa49b545dd7971c5f9458048c0617844979eb5f9b10', # 18\n",
    "        '18532512ac6b647e89dc297deeea305625f8faa1c84a7fe9b7e02f4e', # 19\n",
    "        '5e964c17799de9ce9a2791cb2434927efa2d66bb418af9f8d6c7fdbe', # 20\n",
    "        'f85ca74e4a60f1ea259e4d65348916033e337fbb08a93db78e666be3', # 21\n",
    "        '79bc3877f1fb79bb131cc793e1c3e68b314e9ae2a484e9a13847aedd', # 22\n",
    "        'fece558da7c7e3ab1e72fdd10cefac1915226e776b42c5dbc9b787e4', # 23\n",
    "        '518dc473199d020fbfa4f3f9db2012e982e4cb5828487cf09ca82215', # 24\n",
    "        '943bfed06dc3ef2cbb0ce15bc96047905260fafd680711c6e286a30b', # 25\n",
    "        '9b991c441a57c186a03e83e4bfd4df6a13394d6f80acdc7ed558a401', # 26\n",
    "        '9fff445c67c36dfd043330796d634c1a0ada5811584edd1a4d6c281c', # 27\n",
    "        'de747d8ac5b643793c8027746e16594c98b43dacdfc91d9604d7b191', # 28\n",
    "        '4d675db60ca11a6e6224aac48e6c0c4f4e637c833cbfe7801ceefafe', # 29\n",
    "        '79ac7906bb5604b4e8a62a1888ca31351a3b0c4abf3f09660a2bacbc', # 30\n",
    "        '2ef1a87059981acd82308263348995333b1723e788b5027378c34212', # 31\n",
    "        'e83506c6c38e272b14b45a577b912f8717788f74afac1d0591a0bce4', # 32\n",
    "    ]\n",
    "}\n",
    "\n",
    "bitpanda_ground_truth = {\n",
    "    'deposit_addrs': [\n",
    "        'addr1qxs5n2c76hs3d9wm0uvk9vss8j599ttepl0t58ncaep34ynx5uwa85u274prfyeyf4wepgfjc6l60jes04n2wax5eulsnzlk9d',\n",
    "        'addr1q863my4xaq3sx2h6fxwp64n4ct4t8ve8pfq7ywnwxzujr4mljey6y888yd8p6q707suln9xmy3d058hscden9r9v9cuswsqelj',\n",
    "    ],\n",
    "    'withdraw_txs': [\n",
    "        '52c2c79b33a71a09b7f38bbd627cc041bd141ab3f9b348e555916ea2537663d7',\n",
    "        '8444fedd9f29805c3ad542fedce7f76b75a2c67cc58eedae79c04a69672e8de3',\n",
    "        'bedb077b9380d81ee87b1dfc38a253efc7f08b8c87e2fbe5ff6d0be04e00ce1d',\n",
    "        'd69c6bd4e56479f2af822c1ce017fc4d06b3ff3e7fc3bdd32908c72e5c88267a',\n",
    "        '227391ad9a3c958792c599f29e1d07d52e243e4650974b2dcf1a72e3a0bc1334',\n",
    "        '745bb56473e6ab836d4b8064a485dbc68dc7403533c802e0b4d3c1bea9406312',\n",
    "        '9df38a441b962bfca15e264d8f23ac902c1da32af500a45f726ce8e855c92fd3',\n",
    "        '0311c4a1cc557c4970e01ab45f7f6242cd8b53d4d480b9a3ae1976fbcc009b75',\n",
    "        '650f34567ab15079af586d0edc209071f363a03bde2a8793e602fc2c5ba0bbce',\n",
    "        'ef217e9c4a67bbb18c5eac5e5b552fe47de4aa811587a4a97bb1e65baa38898f',\n",
    "        '734490eea2e44c36d4a1f88aed8220b3a17d47af4220b6e530e29f364b6475e0'\n",
    "    ]\n",
    "}\n",
    "\n",
    "\n",
    "import json\n",
    "from pathlib import Path\n",
    "\n",
    "\n",
    "data_dir = Path().cwd() / '../data'\n",
    "\n",
    "with open(data_dir / 'binance_ground_truth.json', 'w') as json_file:\n",
    "    json.dump(binance_ground_truth, json_file, indent=4)\n",
    "    \n",
    "with open(data_dir / 'bitpanda_ground_truth.json', 'w') as json_file:\n",
    "    json.dump(bitpanda_ground_truth, json_file, indent=4)"
   ]
  },
  {
   "cell_type": "code",
   "execution_count": 59,
   "metadata": {},
   "outputs": [],
   "source": [
    "pool_numbers = [\n",
    "    45, \n",
    "    42,\n",
    "    35,\n",
    "    34,\n",
    "    36,\n",
    "    59,\n",
    "    31,\n",
    "    40,\n",
    "    50,\n",
    "    41,\n",
    "    38,\n",
    "    43,\n",
    "    30,\n",
    "    69,\n",
    "    51,\n",
    "    32,\n",
    "    33,\n",
    "    58,\n",
    "    57,\n",
    "    56,\n",
    "    55,\n",
    "    21,\n",
    "    68,\n",
    "    71,\n",
    "    54,\n",
    "    70,\n",
    "    53,\n",
    "    73,\n",
    "    72,\n",
    "    52,\n",
    "    46,\n",
    "    47,\n",
    "    48,\n",
    "    49,\n",
    "    60,\n",
    "    61,\n",
    "    62,\n",
    "    63,\n",
    "    64,\n",
    "    65,\n",
    "    66,\n",
    "    67,\n",
    "    78,\n",
    "    77,\n",
    "    76,\n",
    "    75,\n",
    "    74,\n",
    "    1,\n",
    "    2,\n",
    "    3,\n",
    "    4,\n",
    "    5,\n",
    "    7,\n",
    "    6,\n",
    "    8,\n",
    "    9,\n",
    "    10,\n",
    "    11,\n",
    "    12,\n",
    "    13,\n",
    "    14,\n",
    "    15,\n",
    "    16,\n",
    "    17,\n",
    "    18,\n",
    "    19,\n",
    "    20,\n",
    "    21,\n",
    "    22,\n",
    "    23,\n",
    "    24,\n",
    "    25,\n",
    "    26,\n",
    "    27,\n",
    "    28,\n",
    "    29,\n",
    "    30,\n",
    "    31,\n",
    "    32,\n",
    "]\n",
    "\n",
    "pool_names = {}\n",
    "for sid, num in zip(binance_ground_truth['staking_ids'], pool_numbers):\n",
    "    pool_names[sid] = f\"BNP {num}\"\n",
    "    \n",
    "with open(data_dir / 'binance_pool_names.json', 'w') as json_file:\n",
    "    json.dump(pool_names, json_file, indent=4)"
   ]
  }
 ],
 "metadata": {
  "kernelspec": {
   "display_name": "Python 3.9.7 ('caa_venv')",
   "language": "python",
   "name": "python3"
  },
  "language_info": {
   "codemirror_mode": {
    "name": "ipython",
    "version": 3
   },
   "file_extension": ".py",
   "mimetype": "text/x-python",
   "name": "python",
   "nbconvert_exporter": "python",
   "pygments_lexer": "ipython3",
   "version": "3.9.7"
  },
  "orig_nbformat": 4,
  "vscode": {
   "interpreter": {
    "hash": "efac259b5dec195ca5b08a1baa3996a6e75cb006a9c950f32d9f3efced670aaa"
   }
  }
 },
 "nbformat": 4,
 "nbformat_minor": 2
}
