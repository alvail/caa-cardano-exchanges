{
 "cells": [
  {
   "cell_type": "code",
   "execution_count": 1,
   "metadata": {},
   "outputs": [
    {
     "name": "stdout",
     "output_type": "stream",
     "text": [
      "Collecting blockfrost-python\n",
      "  Downloading blockfrost_python-0.5.3-py3-none-any.whl (29 kB)\n",
      "Requirement already satisfied: requests in c:\\users\\alexs\\miniconda3\\envs\\ds\\lib\\site-packages (from blockfrost-python) (2.28.1)\n",
      "Requirement already satisfied: certifi>=2017.4.17 in c:\\users\\alexs\\miniconda3\\envs\\ds\\lib\\site-packages (from requests->blockfrost-python) (2022.12.7)\n",
      "Requirement already satisfied: urllib3<1.27,>=1.21.1 in c:\\users\\alexs\\miniconda3\\envs\\ds\\lib\\site-packages (from requests->blockfrost-python) (1.26.15)\n",
      "Requirement already satisfied: charset-normalizer<3,>=2 in c:\\users\\alexs\\miniconda3\\envs\\ds\\lib\\site-packages (from requests->blockfrost-python) (2.1.0)\n",
      "Requirement already satisfied: idna<4,>=2.5 in c:\\users\\alexs\\miniconda3\\envs\\ds\\lib\\site-packages (from requests->blockfrost-python) (3.4)\n",
      "Installing collected packages: blockfrost-python\n",
      "Successfully installed blockfrost-python-0.5.3\n"
     ]
    }
   ],
   "source": [
    "# !pip install blockfrost-python"
   ]
  },
  {
   "cell_type": "code",
   "execution_count": null,
   "metadata": {},
   "outputs": [],
   "source": [
    "from blockfrost import BlockFrostApi, ApiError, ApiUrls\n",
    "\n",
    "api = BlockFrostApi(\n",
    "    project_id='YOUR API KEY HERE',  # or export environment variable BLOCKFROST_PROJECT_ID\n",
    "    # optional: pass base_url or export BLOCKFROST_API_URL to use testnet, defaults to ApiUrls.mainnet.value\n",
    "    base_url=ApiUrls.testnet.value,\n",
    ")\n",
    "try:\n",
    "    health = api.health()\n",
    "    print(health)   # prints object:    HealthResponse(is_healthy=True)\n",
    "    health = api.health(return_type='json') # Can be useful if python wrapper is behind api version\n",
    "    print(health)   # prints json:      {\"is_healthy\":True}\n",
    "    health = api.health(return_type='pandas')\n",
    "    print(health)   # prints Dataframe:         is_healthy\n",
    "                    #                       0         True\n",
    "\n",
    "\n",
    "    account_rewards = api.account_rewards(\n",
    "        stake_address='stake1ux3g2c9dx2nhhehyrezyxpkstartcqmu9hk63qgfkccw5rqttygt7',\n",
    "        count=20,\n",
    "    )\n",
    "    print(account_rewards[0].epoch)  # prints 221\n",
    "    print(len(account_rewards))  # prints 20\n",
    "\n",
    "    account_rewards = api.account_rewards(\n",
    "        stake_address='stake1ux3g2c9dx2nhhehyrezyxpkstartcqmu9hk63qgfkccw5rqttygt7',\n",
    "        count=20,\n",
    "        gather_pages=True, # will collect all pages\n",
    "    )\n",
    "    print(account_rewards[0].epoch)  # prints 221\n",
    "    print(len(account_rewards))  # prints 57\n",
    "\n",
    "    address = api.address(\n",
    "        address='addr1qxqs59lphg8g6qndelq8xwqn60ag3aeyfcp33c2kdp46a09re5df3pzwwmyq946axfcejy5n4x0y99wqpgtp2gd0k09qsgy6pz')\n",
    "    print(address.type)  # prints 'shelley'\n",
    "    for amount in address.amount:\n",
    "        print(amount.unit)\n",
    "except ApiError as e:\n",
    "    print(e)"
   ]
  }
 ],
 "metadata": {
  "kernelspec": {
   "display_name": "ds",
   "language": "python",
   "name": "python3"
  },
  "language_info": {
   "codemirror_mode": {
    "name": "ipython",
    "version": 3
   },
   "file_extension": ".py",
   "mimetype": "text/x-python",
   "name": "python",
   "nbconvert_exporter": "python",
   "pygments_lexer": "ipython3",
   "version": "3.9.16"
  },
  "orig_nbformat": 4
 },
 "nbformat": 4,
 "nbformat_minor": 2
}
