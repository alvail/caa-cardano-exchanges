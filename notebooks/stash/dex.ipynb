{
 "cells": [
  {
   "cell_type": "code",
   "execution_count": null,
   "metadata": {},
   "outputs": [],
   "source": [
    "muesliswap_info = {\n",
    "    'v1': {\n",
    "        'contract_addrs': [\n",
    "            'addr1wy2mjh76em44qurn5x73nzqrxua7ataasftql0u2h6g88lc3gtgpz'\n",
    "        ],\n",
    "        'buy_txs': [\n",
    "            'c89cc5d9ae70c497906cb30c3ee485ee494110a027477cd60addd947d57232be'\n",
    "        ],\n",
    "        'sell_txs': [\n",
    "            'ee0b2af3b0947cb4ea53cab2382b1662f98652346e94888fce21d3be5d6b60d7'\n",
    "        ],\n",
    "        'cancel_sell_txs': [\n",
    "            '43c208fdd6741676cfb61b58fa9b980e1af9b387441458c6a097e033549e44f2'\n",
    "        ]\n",
    "    },\n",
    "    'v3': {\n",
    "        # TODO\n",
    "    }\n",
    "}\n",
    "\n",
    "minswap_info = {\n",
    "    'contract_addrs': [\n",
    "        'addr1wxn9efv2f6w82hagxqtn62ju4m293tqvw0uhmdl64ch8uwc0h43gt'\n",
    "    ],\n",
    "    'buy_txs': [\n",
    "        '1bfb0f08bfc49bded50bacfe6cfedfcb4c7a18c851314e475459ee554c246e7f'\n",
    "    ],\n",
    "    'sell_txs': [\n",
    "        '9065c848556f9b689a204e0ced4a6b496f98d04fd1b9fe0347aedb3c35362baa'\n",
    "    ],\n",
    "    'execution_txs': [\n",
    "        '29d5006d4ce4d7379f09387f842efe47b23391b7df037e3a3cd904cae3e72823',\n",
    "        '659dacff28f6238f6e86e27bb0e42fdc41783ffa14cf93f532e16c0fc9bcff13',\n",
    "        '2bda0cdf86bc82315a7cd041f3c86726f33141ea026c7534171ab2d7c35b4654'\n",
    "    ],\n",
    "    'lp_txs': [\n",
    "        # TODO\n",
    "    ]\n",
    "}"
   ]
  }
 ],
 "metadata": {
  "language_info": {
   "name": "python"
  },
  "orig_nbformat": 4
 },
 "nbformat": 4,
 "nbformat_minor": 2
}
