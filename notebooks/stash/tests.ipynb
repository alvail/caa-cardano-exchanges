{
 "cells": [
  {
   "cell_type": "markdown",
   "metadata": {},
   "source": [
    "# Dashboard overviews\n",
    " - BlockFrost: https://blockfrost.io/dashboard"
   ]
  },
  {
   "cell_type": "code",
   "execution_count": 18,
   "metadata": {},
   "outputs": [
    {
     "name": "stdout",
     "output_type": "stream",
     "text": [
      "{'address': 'addr1q9ptvcd4z9f66e2e99486u7ctp50466qhwu9mlynxc8v04g2apftyfewlx6aekuavulfyswufyzz7pft5zqfhke72urserjj0n', 'amount': [Namespace(unit='lovelace', quantity='217230176'), Namespace(unit='279c909f348e533da5808898f87f9a14bb2c3dfbbacccd631d927a3f534e454b', quantity='886310'), Namespace(unit='d34743543ccbda22bb948400a4a919b7b54e82123030702e38cc62b6414c4c45594b41545a3037383234', quantity='1')], 'stake_address': 'stake1uy9ws54jyuh0ndwumwwkw05jg8wyjpp0q546pqymmvl9wpcq68tvg', 'type': 'shelley', 'script': False}\n",
      "Type: shelley\n",
      "A: 217230176 lovelace\n",
      "A: 886310 279c909f348e533da5808898f87f9a14bb2c3dfbbacccd631d927a3f534e454b\n",
      "A: 1 d34743543ccbda22bb948400a4a919b7b54e82123030702e38cc62b6414c4c45594b41545a3037383234\n"
     ]
    }
   ],
   "source": [
    "from blockfrost import BlockFrostApi, ApiError, ApiUrls\n",
    "\n",
    "from dotenv import load_dotenv\n",
    "import json\n",
    "import os\n",
    "\n",
    "load_dotenv()\n",
    "\n",
    "API_KEY = GCP_PROJECT_ID = os.getenv('BLOCKFROST_API_KEY')\n",
    "\n",
    "api = BlockFrostApi(project_id=API_KEY)\n",
    "\n",
    "addr = 'addr1q9ptvcd4z9f66e2e99486u7ctp50466qhwu9mlynxc8v04g2apftyfewlx6aekuavulfyswufyzz7pft5zqfhke72urserjj0n'\n",
    "\n",
    "try:\n",
    "    address = api.address(\n",
    "        address=addr)\n",
    "    # print(json.dumps(address.__dict__, indent=2))\n",
    "    print(address.__dict__)\n",
    "    print(\"Type:\", address.type)\n",
    "    for amount in address.amount:\n",
    "        print(\"A:\", amount.quantity, amount.unit)\n",
    "\n",
    "except ApiError as e:\n",
    "    print(e)"
   ]
  },
  {
   "cell_type": "code",
   "execution_count": 24,
   "metadata": {},
   "outputs": [],
   "source": [
    "from blockfrost import BlockFrostApi, ApiError, ApiUrls\n",
    "\n",
    "from dotenv import load_dotenv\n",
    "import json\n",
    "import os\n",
    "\n",
    "load_dotenv()\n",
    "\n",
    "API_KEY = GCP_PROJECT_ID = os.getenv('BLOCKFROST_API_KEY')\n",
    "api = BlockFrostApi(project_id=API_KEY)\n",
    "\n",
    "tx_hash = 'c89cc5d9ae70c497906cb30c3ee485ee494110a027477cd60addd947d57232be'\n",
    "api_url = 'https://cardano-mainnet.blockfrost.io/api/v0/txs/{tx_hash}/metadata'\n",
    "tx_hash = '9065c848556f9b689a204e0ced4a6b496f98d04fd1b9fe0347aedb3c35362baa'\n",
    "tx_hash = '1bfb0f08bfc49bded50bacfe6cfedfcb4c7a18c851314e475459ee554c246e7f'\n",
    "\n",
    "try:\n",
    "    result = api.transaction(tx_hash)\n",
    "except ApiError as e:\n",
    "    print(e)\n",
    "    "
   ]
  },
  {
   "cell_type": "code",
   "execution_count": 25,
   "metadata": {},
   "outputs": [
    {
     "data": {
      "text/plain": [
       "namespace(hash='1bfb0f08bfc49bded50bacfe6cfedfcb4c7a18c851314e475459ee554c246e7f',\n",
       "          block='80869084c6085f214646a661765d472e0568c345ad077b6681ec009d95999a28',\n",
       "          block_height=8752763,\n",
       "          block_time=1683667998,\n",
       "          slot=92101707,\n",
       "          index=2,\n",
       "          output_amount=[namespace(unit='lovelace', quantity='3217071272')],\n",
       "          fees='198281',\n",
       "          deposit='0',\n",
       "          size=975,\n",
       "          invalid_before=None,\n",
       "          invalid_hereafter='92112493',\n",
       "          utxo_count=6,\n",
       "          withdrawal_count=0,\n",
       "          mir_cert_count=0,\n",
       "          delegation_count=0,\n",
       "          stake_cert_count=0,\n",
       "          pool_update_count=0,\n",
       "          pool_retire_count=0,\n",
       "          asset_mint_or_burn_count=0,\n",
       "          redeemer_count=0,\n",
       "          valid_contract=True)"
      ]
     },
     "execution_count": 25,
     "metadata": {},
     "output_type": "execute_result"
    }
   ],
   "source": [
    "result"
   ]
  },
  {
   "cell_type": "code",
   "execution_count": 29,
   "metadata": {},
   "outputs": [
    {
     "data": {
      "text/plain": [
       "[namespace(label='674',\n",
       "           json_metadata=namespace(msg=['Minswap: Swap Request via Eternl']))]"
      ]
     },
     "execution_count": 29,
     "metadata": {},
     "output_type": "execute_result"
    }
   ],
   "source": [
    "tx_hash = 'c89cc5d9ae70c497906cb30c3ee485ee494110a027477cd60addd947d57232be'\n",
    "api_url = 'https://cardano-mainnet.blockfrost.io/api/v0/txs/{tx_hash}/metadata'\n",
    "# tx_hash = '9065c848556f9b689a204e0ced4a6b496f98d04fd1b9fe0347aedb3c35362baa'\n",
    "# tx_hash = '1bfb0f08bfc49bded50bacfe6cfedfcb4c7a18c851314e475459ee554c246e7f' # \n",
    "\n",
    "\n",
    "#TODO: check for valid return (length)\n",
    "try:\n",
    "    result_meta = api.transaction_metadata(tx_hash)\n",
    "except ApiError as e:\n",
    "    print(e)\n",
    "\n",
    "result_meta"
   ]
  },
  {
   "cell_type": "code",
   "execution_count": 17,
   "metadata": {},
   "outputs": [
    {
     "data": {
      "text/plain": [
       "'0x01263793fb7c2a4d9d3e69af1c5e89540f2df3de8124ec9a8ad4a797e634c4c92a6095a636819e8cf71fd8c492ec2050f086970d35334b6a17'"
      ]
     },
     "execution_count": 17,
     "metadata": {},
     "output_type": "execute_result"
    }
   ],
   "source": [
    "result_meta[1].json_metadata"
   ]
  },
  {
   "cell_type": "code",
   "execution_count": 30,
   "metadata": {},
   "outputs": [],
   "source": [
    "blk_hash = '80869084c6085f214646a661765d472e0568c345ad077b6681ec009d95999a28'\n",
    "try:\n",
    "    result_block = api.block(blk_hash)\n",
    "except ApiError as e:\n",
    "    print(e)"
   ]
  },
  {
   "cell_type": "code",
   "execution_count": 31,
   "metadata": {},
   "outputs": [
    {
     "data": {
      "text/plain": [
       "namespace(time=1683667998,\n",
       "          height=8752763,\n",
       "          hash='80869084c6085f214646a661765d472e0568c345ad077b6681ec009d95999a28',\n",
       "          slot=92101707,\n",
       "          epoch=410,\n",
       "          epoch_slot=344907,\n",
       "          slot_leader='pool1rvng7n968748udkc5rxy4h9zp9hms4s3jsfwuues76ft28uc056',\n",
       "          size=3853,\n",
       "          tx_count=5,\n",
       "          output='4333638695',\n",
       "          fees='958226',\n",
       "          block_vrf='vrf_vk1elepmm7z2v8strsztf4wsfldmzfetskdn73al09qnjeuhtvps4ss8c57cq',\n",
       "          op_cert='3729269dd3e48c4e68f38378b2c3fe2179d9644a5b53368b2fea22ca54af504b',\n",
       "          op_cert_counter='17',\n",
       "          previous_block='292dc62ed3bc4a14ab6ef3e2e9a33f1b7b04e21c1b6540231d7ecc58591526d5',\n",
       "          next_block='8875d9d099c25fdc47e4c3347c77786d93e01e080e8697d069e9fcfd248bed94',\n",
       "          confirmations=190)"
      ]
     },
     "execution_count": 31,
     "metadata": {},
     "output_type": "execute_result"
    }
   ],
   "source": [
    "result_block"
   ]
  },
  {
   "cell_type": "code",
   "execution_count": 32,
   "metadata": {},
   "outputs": [],
   "source": [
    "try:\n",
    "    result_utxos = api.transaction_utxos(tx_hash)\n",
    "except ApiError as e:\n",
    "    print(e)"
   ]
  },
  {
   "cell_type": "code",
   "execution_count": 33,
   "metadata": {},
   "outputs": [
    {
     "data": {
      "text/plain": [
       "namespace(hash='1bfb0f08bfc49bded50bacfe6cfedfcb4c7a18c851314e475459ee554c246e7f',\n",
       "          inputs=[namespace(address='addr1qxs6etpeausq8pgkzfzagneghf5kz97pgfhmr7jd8umefyyp353ydfs98ljta43uvtxzsncqjt7ycdg2dqqpyhp0wxgq06wvd6',\n",
       "                            amount=[namespace(unit='lovelace',\n",
       "                                              quantity='1008761233')],\n",
       "                            tx_hash='c928f9c62285c26a2318e25af27790b199a3e72f32b49be81b598a2b1343233b',\n",
       "                            output_index=0,\n",
       "                            data_hash=None,\n",
       "                            inline_datum=None,\n",
       "                            reference_script_hash=None,\n",
       "                            collateral=False,\n",
       "                            reference=False),\n",
       "                  namespace(address='addr1q9q45p3fdk3xl2guk3ukteryfvucttdvlsegpllv6vdv98yp353ydfs98ljta43uvtxzsncqjt7ycdg2dqqpyhp0wxgq8up4fn',\n",
       "                            amount=[namespace(unit='lovelace',\n",
       "                                              quantity='1010000000')],\n",
       "                            tx_hash='e7efdc41b1732f2e3310fc7e976f5e6171347609ef60ac9fcf11fbcb90efd930',\n",
       "                            output_index=0,\n",
       "                            data_hash=None,\n",
       "                            inline_datum=None,\n",
       "                            reference_script_hash=None,\n",
       "                            collateral=False,\n",
       "                            reference=False),\n",
       "                  namespace(address='addr1q9tt2rg5k0avnjp4lccc3lsqfajmdlvrr7z8vf3dw6mv905p353ydfs98ljta43uvtxzsncqjt7ycdg2dqqpyhp0wxgqe9h9gx',\n",
       "                            amount=[namespace(unit='lovelace',\n",
       "                                              quantity='1198508320')],\n",
       "                            tx_hash='e88eb9cc6e7f9fbd355f1cda368737a3dd6304111df7d46cd5c9e2d1cda00160',\n",
       "                            output_index=2,\n",
       "                            data_hash=None,\n",
       "                            inline_datum=None,\n",
       "                            reference_script_hash=None,\n",
       "                            collateral=False,\n",
       "                            reference=False)],\n",
       "          outputs=[namespace(address='addr1wxn9efv2f6w82hagxqtn62ju4m293tqvw0uhmdl64ch8uwc0h43gt',\n",
       "                             amount=[namespace(unit='lovelace',\n",
       "                                               quantity='2304000000')],\n",
       "                             output_index=0,\n",
       "                             data_hash='dda41679ed01bb31ee1bc3b1ca951376d581184ee8ad61b2e3478874aecd9cd9',\n",
       "                             inline_datum=None,\n",
       "                             collateral=False,\n",
       "                             reference_script_hash=None),\n",
       "                   namespace(address='addr1qycewgm43uc96vt3qjp434mqp4jfzttws0xjwqz4a364qu95mx98r9d2mpx5ka4xe5npakhrz2qz4n2tqzgvyngrkedqn3hctc',\n",
       "                             amount=[namespace(unit='lovelace',\n",
       "                                               quantity='11500000')],\n",
       "                             output_index=1,\n",
       "                             data_hash=None,\n",
       "                             inline_datum=None,\n",
       "                             collateral=False,\n",
       "                             reference_script_hash=None),\n",
       "                   namespace(address='addr1qy2x8dy24jv7u49yk4wcccl3jllavzmavtnnnmy7uzls0k5p353ydfs98ljta43uvtxzsncqjt7ycdg2dqqpyhp0wxgqr9y8wl',\n",
       "                             amount=[namespace(unit='lovelace',\n",
       "                                               quantity='901571272')],\n",
       "                             output_index=2,\n",
       "                             data_hash=None,\n",
       "                             inline_datum=None,\n",
       "                             collateral=False,\n",
       "                             reference_script_hash=None)])"
      ]
     },
     "execution_count": 33,
     "metadata": {},
     "output_type": "execute_result"
    }
   ],
   "source": [
    "result_utxos"
   ]
  }
 ],
 "metadata": {
  "kernelspec": {
   "display_name": "Python 3.9.7 ('caa_venv')",
   "language": "python",
   "name": "python3"
  },
  "language_info": {
   "codemirror_mode": {
    "name": "ipython",
    "version": 3
   },
   "file_extension": ".py",
   "mimetype": "text/x-python",
   "name": "python",
   "nbconvert_exporter": "python",
   "pygments_lexer": "ipython3",
   "version": "3.9.7"
  },
  "orig_nbformat": 4,
  "vscode": {
   "interpreter": {
    "hash": "efac259b5dec195ca5b08a1baa3996a6e75cb006a9c950f32d9f3efced670aaa"
   }
  }
 },
 "nbformat": 4,
 "nbformat_minor": 2
}
